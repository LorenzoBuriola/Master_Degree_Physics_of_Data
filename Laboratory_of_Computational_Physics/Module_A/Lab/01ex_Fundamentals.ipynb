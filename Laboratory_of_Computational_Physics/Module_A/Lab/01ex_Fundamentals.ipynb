{
 "cells": [
  {
   "cell_type": "markdown",
   "metadata": {},
   "source": [
    "1\\. Write the following as a list comprehension"
   ]
  },
  {
   "cell_type": "code",
   "execution_count": 1,
   "metadata": {},
   "outputs": [
    {
     "name": "stdout",
     "output_type": "stream",
     "text": [
      "[(0, 0), (0, 1), (0, 2), (0, 3), (1, 0), (1, 1), (1, 2), (1, 3), (2, 0), (2, 1), (2, 2), (2, 3)]\n",
      "[(0, 0), (0, 1), (0, 2), (0, 3), (1, 0), (1, 1), (1, 2), (1, 3), (2, 0), (2, 1), (2, 2), (2, 3)]\n",
      "[0, 4, 16]\n",
      "[0, 4, 16]\n"
     ]
    }
   ],
   "source": [
    "# 1\n",
    "ans = []\n",
    "for i in range(3):\n",
    "    for j in range(4):\n",
    "        ans.append((i, j))\n",
    "print (ans)\n",
    "\n",
    "#list comprehension 1\n",
    "ans1 = [(i,j) for i in range(3) for j in range(4)]\n",
    "print(ans1)\n",
    "\n",
    "# 2\n",
    "ans = map(lambda x: x*x, filter(lambda x: x%2 == 0, range(5)))\n",
    "print (list(ans))\n",
    "\n",
    "#list comprehension 2\n",
    "ans1 = [x*x for x in range(5) if x%2 == 0]\n",
    "print(ans1)"
   ]
  },
  {
   "cell_type": "markdown",
   "metadata": {},
   "source": [
    "2\\. Convert the following function into a pure function with no global variables or side effects"
   ]
  },
  {
   "cell_type": "code",
   "execution_count": 2,
   "metadata": {},
   "outputs": [
    {
     "name": "stdout",
     "output_type": "stream",
     "text": [
      "[1, 2, 3, 0, 1, 2, 3, 4]\n",
      "[1, 2, 3, 0, 1, 2, 3, 4]\n"
     ]
    }
   ],
   "source": [
    "x = 5\n",
    "def f(alist):\n",
    "    for i in range(x):\n",
    "         alist.append(i)\n",
    "    return alist\n",
    "\n",
    "alist = [1,2,3]\n",
    "ans = f(alist)\n",
    "print (ans)\n",
    "print (alist) # alist has been changed!"
   ]
  },
  {
   "cell_type": "code",
   "execution_count": 3,
   "metadata": {},
   "outputs": [
    {
     "name": "stdout",
     "output_type": "stream",
     "text": [
      "[1, 2, 3, 0, 1, 2, 3, 4]\n",
      "[1, 2, 3]\n"
     ]
    }
   ],
   "source": [
    "def fnew(alist, x):\n",
    "    l = alist + [i for i in range(x)]\n",
    "    return l\n",
    "\n",
    "alist = [1,2,3]\n",
    "ans = fnew(alist, 5)\n",
    "print (ans)\n",
    "print (alist) # alist has NOT been changed!"
   ]
  },
  {
   "cell_type": "markdown",
   "metadata": {},
   "source": [
    "3\\. Write a `decorator` hello that makes every wrapped function print “Hello!”, i.e. something like:\n",
    "\n",
    "```python\n",
    "@hello\n",
    "def square(x):\n",
    "    return x*x\n",
    "```\n",
    "\n"
   ]
  },
  {
   "cell_type": "code",
   "execution_count": 4,
   "metadata": {},
   "outputs": [
    {
     "name": "stdout",
     "output_type": "stream",
     "text": [
      "Hello!\n",
      "100\n",
      "Hello!\n"
     ]
    }
   ],
   "source": [
    "def hello(func):\n",
    "    def wrapper(x):\n",
    "        print(\"Hello!\")\n",
    "        print(func(x))\n",
    "        print(\"Hello!\")\n",
    "    return wrapper\n",
    "\n",
    "@hello\n",
    "def square(x):\n",
    "    return x*x\n",
    "\n",
    "x = square(10)\n"
   ]
  },
  {
   "cell_type": "markdown",
   "metadata": {},
   "source": [
    "4\\. Write the factorial function so that it a) does and b) does not use recursion."
   ]
  },
  {
   "cell_type": "code",
   "execution_count": 5,
   "metadata": {},
   "outputs": [
    {
     "data": {
      "text/plain": [
       "120"
      ]
     },
     "execution_count": 5,
     "metadata": {},
     "output_type": "execute_result"
    }
   ],
   "source": [
    "#a\n",
    "def factorial1(n):\n",
    "    if n == 0 or n == 1:\n",
    "        return 1\n",
    "    else:\n",
    "        return n*factorial1(n-1)\n",
    "    \n",
    "factorial1(5)"
   ]
  },
  {
   "cell_type": "code",
   "execution_count": 6,
   "metadata": {},
   "outputs": [
    {
     "data": {
      "text/plain": [
       "120"
      ]
     },
     "execution_count": 6,
     "metadata": {},
     "output_type": "execute_result"
    }
   ],
   "source": [
    "#b\n",
    "def factorial2(n):\n",
    "    if n == 0:\n",
    "        return 1\n",
    "    F = 1\n",
    "    for i in range(1,n+1):\n",
    "        F *= i\n",
    "    return F\n",
    "\n",
    "factorial2(5)"
   ]
  },
  {
   "cell_type": "markdown",
   "metadata": {},
   "source": [
    "5\\. Use HOFs (zip in particular) to compute the weight of a circle, a disk and a sphere, assuming different radii and different densities:\n",
    "\n",
    "```python\n",
    "densities = {\"Al\":[0.5,1,2],\"Fe\":[3,4,5],\"Pb\": [15,20,30]}\n",
    "radii = [1,2,3]\n",
    "```\n",
    "\n",
    "where the entries of the dictionary's values are the linear, superficial and volumetric densities of the materials respectively.\n",
    "\n",
    "In particular define a list of three lambda functions using a comprehension that computes the circumference, the area and the volume for a given radius.\n"
   ]
  },
  {
   "cell_type": "code",
   "execution_count": 7,
   "metadata": {},
   "outputs": [
    {
     "name": "stdout",
     "output_type": "stream",
     "text": [
      "[[6.2831852, 3.1415926, 2.3561944500000003], [12.5663704, 12.5663704, 18.849555600000002], [18.849555600000002, 28.274333400000003, 63.617250150000004]]\n",
      "\n",
      "\n",
      "Al , radius =  1  :  [3.1415926, 3.1415926, 4.7123889000000005]\n",
      "Al , radius =  2  :  [6.2831852, 12.5663704, 37.699111200000004]\n",
      "Al , radius =  3  :  [9.424777800000001, 28.274333400000003, 127.23450030000001]\n",
      "Fe , radius =  1  :  [18.849555600000002, 12.5663704, 11.780972250000001]\n",
      "Fe , radius =  2  :  [37.699111200000004, 50.2654816, 94.24777800000001]\n",
      "Fe , radius =  3  :  [56.54866680000001, 113.09733360000001, 318.08625075000003]\n",
      "Pb , radius =  1  :  [94.247778, 62.831852, 70.6858335]\n",
      "Pb , radius =  2  :  [188.495556, 251.327408, 565.486668]\n",
      "Pb , radius =  3  :  [282.743334, 565.486668, 1908.5175045]\n"
     ]
    }
   ],
   "source": [
    "radii = [1,2,3]\n",
    "pi = 3.1415926\n",
    "Vol = [[(lambda x: 2*pi*x)(i), (lambda x: pi*x*x)(i), (lambda x: 3/4*pi*x*x*x)(i)] for i in radii]\n",
    "print(Vol)\n",
    "print('\\n')\n",
    "densities = {\"Al\":[0.5,1,2],\"Fe\":[3,4,5],\"Pb\": [15,20,30]}\n",
    "M = {key:[[k*j for k,j in zip(densities[key], Vol[i])] for i in range(len(Vol))] for key in densities}\n",
    "#For each key there are three lists, one for each radius in list 'radii'\n",
    "for key in M:\n",
    "    for i in range(len(radii)):\n",
    "        print(key, \", radius = \", radii[i], \" : \", M[key][i])"
   ]
  },
  {
   "cell_type": "markdown",
   "metadata": {},
   "source": [
    "6\\. Edit the class defintion to add an instance attribute of is_hungry = True to the Dog class. Then add a method called eat() which changes the value of is_hungry to False when called. Figure out the best way to feed each dog and then output “My dogs are hungry.” if all are hungry or “My dogs are not hungry.” if all are not hungry. The final output should look like this:\n",
    "\n",
    "`I have 3 dogs. \n",
    "Tom is 6. \n",
    "Fletcher is 7. \n",
    "Larry is 9. \n",
    "And they're all mammals, of course. \n",
    "My dogs are not hungry.\n",
    "`\n",
    "\n",
    "```python\n",
    "# Parent class\n",
    "class Dog:\n",
    "\n",
    "    # Class attribute\n",
    "    species = 'mammal'\n",
    "\n",
    "    # Initializer / Instance attributes\n",
    "    def __init__(self, name, age):\n",
    "        self.name = name\n",
    "        self.age = age\n",
    "\n",
    "    # instance method\n",
    "    def description(self):\n",
    "        return \"{} is {} years old\".format(self.name, self.age)\n",
    "\n",
    "    # instance method\n",
    "    def speak(self, sound):\n",
    "        return \"{} says {}\".format(self.name, sound)      \n",
    "\n",
    "# Child class (inherits from Dog class)\n",
    "class RussellTerrier(Dog):\n",
    "    def run(self, speed):\n",
    "        return \"{} runs {}\".format(self.name, speed)\n",
    "\n",
    "# Child class (inherits from Dog class)\n",
    "class Bulldog(Dog):\n",
    "    def run(self, speed):\n",
    "        return \"{} runs {}\".format(self.name, speed)\n",
    "```"
   ]
  },
  {
   "cell_type": "code",
   "execution_count": 9,
   "metadata": {},
   "outputs": [
    {
     "name": "stdout",
     "output_type": "stream",
     "text": [
      "I have 3 dogs\n",
      "Tom is 6 years old\n",
      "Fletcher is 7 years old\n",
      "Larry is 9 years old\n",
      "They are all mammals, of course\n",
      "My dogs are not hungry\n"
     ]
    }
   ],
   "source": [
    "# Parent class\n",
    "class Dog:\n",
    "\n",
    "    # Class attribute\n",
    "    species = 'mammal'\n",
    "\n",
    "    # Initializer / Instance attributes\n",
    "    def __init__(self, name, age):\n",
    "        self.name = name\n",
    "        self.age = age\n",
    "        self.is_hungry = True    #new instance attributes\n",
    "\n",
    "    # instance method\n",
    "    def description(self):\n",
    "        return \"{} is {} years old\".format(self.name, self.age)\n",
    "\n",
    "    # instance method\n",
    "    def speak(self, sound):\n",
    "        return \"{} says {}\".format(self.name, sound)\n",
    "\n",
    "    #NEW method\n",
    "    def eat(self):\n",
    "        self.is_hungry = False        \n",
    "\n",
    "# Child class (inherits from Dog class)\n",
    "class RussellTerrier(Dog):\n",
    "    def run(self, speed):\n",
    "        return \"{} runs {}\".format(self.name, speed)\n",
    "\n",
    "# Child class (inherits from Dog class)\n",
    "class Bulldog(Dog):\n",
    "    def run(self, speed):\n",
    "        return \"{} runs {}\".format(self.name, speed)\n",
    "    \n",
    "#functions\n",
    "def Are_mammals(D):\n",
    "    for i in D:\n",
    "        if i.species != \"mammal\":\n",
    "            return \"There is at least a non-mammal dog... That's WEIRD!!!\"\n",
    "    return \"They are all mammals, of course\"\n",
    "\n",
    "def all_true(l):\n",
    "    for i in l:\n",
    "        if i == False:\n",
    "            return False\n",
    "    return True\n",
    "\n",
    "def all_false(l):\n",
    "    for i in l:\n",
    "        if i == True:\n",
    "            return False\n",
    "    return True\n",
    "\n",
    "def Are_hungry(D):\n",
    "    l = [i.is_hungry for i in D]\n",
    "    if all_true(l) == True:\n",
    "        return \"My dogs are hungry\"\n",
    "    if all_false(l) == True:\n",
    "        return \"My dogs are not hungry\"\n",
    "    else:\n",
    "        return \"There is at least a hungry dog and a not hungry one\"\n",
    "          \n",
    "def Feed(D):\n",
    "    for i in D:\n",
    "        i.eat()      \n",
    "    \n",
    "D1 = Dog('Tom', 6)\n",
    "D2 = Dog('Fletcher', 7)\n",
    "D3 = Dog('Larry', 9)\n",
    "D = [D1,D2,D3]\n",
    "print(\"I have %.0f dogs\" %len(D))\n",
    "for i in D: \n",
    "    print(i.description())\n",
    "print(Are_mammals(D))\n",
    "#print(Are_hungry(D))\n",
    "Feed(D)\n",
    "print(Are_hungry(D))\n"
   ]
  },
  {
   "cell_type": "code",
   "execution_count": null,
   "metadata": {},
   "outputs": [],
   "source": []
  }
 ],
 "metadata": {
  "kernelspec": {
   "display_name": "Python 3",
   "language": "python",
   "name": "python3"
  },
  "language_info": {
   "codemirror_mode": {
    "name": "ipython",
    "version": 3
   },
   "file_extension": ".py",
   "mimetype": "text/x-python",
   "name": "python",
   "nbconvert_exporter": "python",
   "pygments_lexer": "ipython3",
   "version": "3.7.0"
  }
 },
 "nbformat": 4,
 "nbformat_minor": 4
}
