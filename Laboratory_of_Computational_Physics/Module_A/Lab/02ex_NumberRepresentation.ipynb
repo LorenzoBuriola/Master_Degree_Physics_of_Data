{
 "cells": [
  {
   "cell_type": "markdown",
   "metadata": {},
   "source": [
    "1\\. Write a function that converts number representation (bin<->dec<->hex)"
   ]
  },
  {
   "cell_type": "code",
   "execution_count": 1,
   "metadata": {},
   "outputs": [
    {
     "name": "stdout",
     "output_type": "stream",
     "text": [
      "Binary: 0b1001\n",
      "Decimal: 9\n",
      "Hexadecimal: 0x9\n"
     ]
    }
   ],
   "source": [
    "def convert(n):\n",
    "    nbin = bin(n)\n",
    "    nhex = hex(n)\n",
    "    ndec = int(nbin,2)\n",
    "    print('Binary:', nbin)\n",
    "    print('Decimal:', ndec)\n",
    "    print('Hexadecimal:', nhex)\n",
    "\n",
    "convert(0b1001)"
   ]
  },
  {
   "cell_type": "markdown",
   "metadata": {},
   "source": [
    "2\\. Write a function that converts a 32 bit word into a single precision floating point (i.e. interprets the various bits as sign, mantissa and exponent)"
   ]
  },
  {
   "cell_type": "code",
   "execution_count": 2,
   "metadata": {},
   "outputs": [
    {
     "name": "stdout",
     "output_type": "stream",
     "text": [
      "3280.599853515625\n",
      "3280.599853515625\n"
     ]
    }
   ],
   "source": [
    "#From string\n",
    "def reader_32_bit(string):\n",
    "    #check\n",
    "    if len(string) != 32:\n",
    "        print(\"Error: wrong bit number!!!\", len(string))\n",
    "        return 1\n",
    "    if string[0] == '0':\n",
    "        s = 1\n",
    "    else:\n",
    "        s = -1\n",
    "    e = int(string[1:9],2)-127\n",
    "    M = string[9:]\n",
    "    m = 1\n",
    "    for i in range(len(M)):\n",
    "        m += int(M[i],10)*2**(-i-1)\n",
    "    return s*m*2**e\n",
    "\n",
    "a = '01000101010011010000100110011001'\n",
    "print(reader_32_bit(a))\n",
    "\n",
    "#From binary\n",
    "def sign(n): \n",
    "    if n >> 31 == 0:\n",
    "        s = 1\n",
    "    else:\n",
    "        s = 0\n",
    "    return s\n",
    "\n",
    "def exp(n):\n",
    "    m = 0b01111111100000000000000000000000\n",
    "    C = m & n\n",
    "    return((C >> 23)-127)\n",
    "\n",
    "def mant(n):\n",
    "    m = 0b11111111111111111111111\n",
    "    C = m & n\n",
    "    M = 1\n",
    "    for i in range(23):\n",
    "        c = (C & 2**i) >> i\n",
    "        M += c * 2**(-23+i)\n",
    "    return M\n",
    "\n",
    "def reader_32_bit_binary(n):\n",
    "    s = sign(n)\n",
    "    e = exp(n)\n",
    "    M = mant(n)\n",
    "    return s*M*2**e\n",
    "\n",
    "\n",
    "n = 0b01000101010011010000100110011001\n",
    "print(reader_32_bit_binary(n))"
   ]
  },
  {
   "cell_type": "markdown",
   "metadata": {},
   "source": [
    "3\\. Write a program to determine the underflow and overflow limits (within a factor of 2) for python on your computer.\n",
    "\n",
    "**Tips**: define two variables inizialized to 1 and halve/double them enough time to exceed the under/over-flow limits\n"
   ]
  },
  {
   "cell_type": "code",
   "execution_count": 1,
   "metadata": {},
   "outputs": [
    {
     "name": "stdout",
     "output_type": "stream",
     "text": [
      "8.98846567431158e+307\n",
      "5e-324\n"
     ]
    }
   ],
   "source": [
    "a = 1.\n",
    "\n",
    "while a-a==0:\n",
    "    b = a\n",
    "    a*=2\n",
    "print(b)\n",
    "\n",
    "a = 1.\n",
    "\n",
    "while a != 0:\n",
    "    b = a\n",
    "    a /= 2\n",
    "\n",
    "print(b)"
   ]
  },
  {
   "cell_type": "markdown",
   "metadata": {},
   "source": [
    "4\\. Write a program to determine the machine precision\n",
    "\n",
    "**Tips**: define a new variable by adding a smaller and smaller value (proceeding similarly to prob. 2) to an original variable and check the point where the two are the same "
   ]
  },
  {
   "cell_type": "code",
   "execution_count": 4,
   "metadata": {},
   "outputs": [
    {
     "name": "stdout",
     "output_type": "stream",
     "text": [
      "1.1102230246251565e-16\n"
     ]
    }
   ],
   "source": [
    "a = 1\n",
    "while a+1!=1:\n",
    "    a/=2\n",
    "print(a)"
   ]
  },
  {
   "cell_type": "markdown",
   "metadata": {},
   "source": [
    "5\\. Write a function that takes in input three parameters $a$, $b$ and $c$ and prints out the two solutions to the quadratic equation $ax^2+bx+c=0$ using the standard formula:\n",
    "$$\n",
    "x=\\frac{-b\\pm\\sqrt{b^2-4ac}}{2a}\n",
    "$$\n",
    "\n",
    "(a) use the program to compute the solution for $a=0.001$, $b=1000$ and $c=0.001$\n",
    "\n",
    "(b) re-express the standard solution formula by multiplying top and bottom by $-b\\mp\\sqrt{b^2-4ac}$ and again find the solution for $a=0.001$, $b=1000$ and $c=0.001$. How does it compare with what previously obtained? Why?\n",
    "\n",
    "(c) write a function that compute the roots of a quadratic equation accurately in all cases"
   ]
  },
  {
   "cell_type": "code",
   "execution_count": 5,
   "metadata": {},
   "outputs": [
    {
     "name": "stdout",
     "output_type": "stream",
     "text": [
      "x1 =  -999999.999999 x2 = -9.999894245993346e-07\n",
      "x1 =  -1000010.5755125057 x2 = -1.000000000001e-06\n",
      "x1 =  -999999.999999 x2 = -1.000000000001e-06\n"
     ]
    },
    {
     "data": {
      "text/plain": [
       "'The problems show off when we try to calculate the value -b+(b**2-4*a*c)**0.5 because it approaches to 0. Using the alternative function to calculate X2 we avoid this problem'"
      ]
     },
     "execution_count": 5,
     "metadata": {},
     "output_type": "execute_result"
    }
   ],
   "source": [
    "def quad1(a,b,c):\n",
    "    x1 = (-b-(b*b-4*a*c)**0.5)/(2*a)\n",
    "    x2 = (-b+(b*b-4*a*c)**0.5)/(2*a)\n",
    "    return x1, x2\n",
    "\n",
    "def quad2(a,b,c):\n",
    "    x1 = 2*c/(-b+(b*b-4*a*c)**0.5)\n",
    "    x2 = 2*c/(-b-(b*b-4*a*c)**0.5)\n",
    "    return x1, x2\n",
    "\n",
    "X1, X2 = quad1(0.001,1000,0.001)\n",
    "print('x1 = ',X1, 'x2 =', X2)\n",
    "#X1 accurate, X2 not accurate\n",
    "\n",
    "X1, X2 = quad2(0.001,1000,0.001)\n",
    "print('x1 = ',X1, 'x2 =', X2)\n",
    "#X1 not accurate, X2 accurate\n",
    "\n",
    "def quad3(a,b,c):\n",
    "    x1 = (-b-(b*b-4*a*c)**0.5)/(2*a)\n",
    "    x2 = 2*c/(-b-(b*b-4*a*c)**0.5)\n",
    "    return x1, x2\n",
    "    \n",
    "X1, X2 = quad3(0.001,1000,0.001)\n",
    "print('x1 = ',X1, 'x2 =', X2)\n",
    "\n",
    "\"\"\"The problems show off when we try to calculate the value -b+(b**2-4*a*c)**0.5 because it approaches to 0. Using the alternative function to calculate X2 we avoid this problem\"\"\""
   ]
  },
  {
   "cell_type": "markdown",
   "metadata": {},
   "source": [
    "6\\. Write a program that implements the function $f(x)=x(x−1)$\n",
    "\n",
    "(a) Calculate the derivative of the function at the point $x = 1$ using the derivative definition:\n",
    "\n",
    "$$\n",
    "\\frac{{\\rm d}f}{{\\rm d}x} = \\lim_{\\delta\\to0} \\frac{f(x+\\delta)-f(x)}{\\delta}\n",
    "$$\n",
    "\n",
    "with $\\delta = 10^{−2}$. Calculate the true value of the same derivative analytically and compare with the answer your program gives. The two will not agree perfectly. Why not?\n",
    "\n",
    "(b) Repeat the calculation for $\\delta = 10^{−4}, 10^{−6}, 10^{−8}, 10^{−10}, 10^{−12}$ and $10^{−14}$. How does the accuracy scales with $\\delta$?"
   ]
  },
  {
   "cell_type": "code",
   "execution_count": 2,
   "metadata": {},
   "outputs": [
    {
     "name": "stdout",
     "output_type": "stream",
     "text": [
      "1.010000000000001\n",
      "\n",
      "\n",
      "1.0000999999998899\n",
      "1.0000009999177333\n",
      "1.0000000039225287\n",
      "1.000000082840371\n",
      "1.0000889005833413\n",
      "0.9992007221626509\n",
      "\n",
      "\n",
      "Computed value for delta = 10e-14:  9.992007221626508e-15 differen from the true value: 1.00000000000001e-14\n"
     ]
    },
    {
     "data": {
      "image/png": "[encoded data removed]",
      "text/plain": [
       "<Figure size 432x288 with 1 Axes>"
      ]
     },
     "metadata": {
      "needs_background": "light"
     },
     "output_type": "display_data"
    },
    {
     "data": {
      "text/plain": [
       "'Using delta = 10^(-2) the result does not coincide with the true value because the value of delta is still too big. Reducing it we can find more accurate results but when delta becomes too small (in our case for delta = 10^(-12) and 10^(-14)) the accuracy goes worst because we are dealing with small numbers. In particular the calculation of func() is not more accurate with such values'"
      ]
     },
     "execution_count": 2,
     "metadata": {},
     "output_type": "execute_result"
    }
   ],
   "source": [
    "import matplotlib.pyplot as plt\n",
    "\n",
    "def func(x):\n",
    "    return x*(x-1)\n",
    "\n",
    "delta = 10**(-2)\n",
    "df = (func(1+delta)-func(1))/delta\n",
    "print(df)\n",
    "print('\\n')\n",
    "\n",
    "l = [-4, -6, -8, -10, -12, -14]\n",
    "m =[]\n",
    "for i in l:\n",
    "    delta = 10**i\n",
    "    m.append((func(1+delta)-func(1))/delta - 1)\n",
    "    print((func(1+delta)-func(1))/delta)\n",
    "\n",
    "print('\\n')\n",
    "print(\"Computed value for delta = 10e-14: \", func(1+10**(-14)), \"differen from the true value:\", 1.00000000000001e-14)\n",
    "\n",
    "#Print the difference from the true value\n",
    "plt.plot(l, m)\n",
    "plt.show()\n",
    "\n",
    "\"\"\"Using delta = 10^(-2) the result does not coincide with the true value because the value of delta is still too big. Reducing it we can find more accurate results but when delta becomes too small (in our case for delta = 10^(-12) and 10^(-14)) the accuracy goes worse because we are making operations beetwen numbers of very different magnitude. In particular the calculation of func() is not more accurate with such values\"\"\""
   ]
  },
  {
   "cell_type": "markdown",
   "metadata": {},
   "source": [
    "7\\. Consider the integral of the semicircle of radius 1:\n",
    "$$\n",
    "I=\\int_{-1}^{1} \\sqrt(1-x^2) {\\rm d}x\n",
    "$$\n",
    "which it's known to be $I=\\frac{\\pi}{2}=1.57079632679...$.\n",
    "Alternatively we can use the Riemann definition of the integral:\n",
    "$$\n",
    "I=\\lim_{N\\to\\infty} \\sum_{k=1}^{N} h y_k \n",
    "$$\n",
    "\n",
    "with $h=2/N$ the width of each of the $N$ slices the domain is divided into and where\n",
    "$y_k$ is the value of the function at the $k-$th slice.\n",
    "\n",
    "(a) Write a programe to compute the integral with $N=100$. How does the result compares to the true value?\n",
    "\n",
    "(b) How much can $N$ be increased if the computation needs to be run in less than a second? What is the gain in running it for 1 minute? \n"
   ]
  },
  {
   "cell_type": "code",
   "execution_count": 7,
   "metadata": {},
   "outputs": [
    {
     "name": "stdout",
     "output_type": "stream",
     "text": [
      "true value =  1.5707963267948966\n",
      "\n",
      "N = 100 computation:  1.5707963278430572\n",
      "Delta =  1.0481606693701906e-09\n",
      "\n",
      "\n",
      "1.5708117284099565\n",
      "775 µs ± 31.5 µs per loop (mean ± std. dev. of 7 runs, 1000 loops each)\n",
      "1.5707968138960273\n",
      "7.66 ms ± 439 µs per loop (mean ± std. dev. of 7 runs, 100 loops each)\n",
      "1.5707963421985762\n",
      "73.7 ms ± 1.46 ms per loop (mean ± std. dev. of 7 runs, 10 loops each)\n",
      "1.570796327282045\n",
      "776 ms ± 20.3 ms per loop (mean ± std. dev. of 7 runs, 1 loop each)\n",
      "\n",
      "1 s computation:  1.5707963271654952\n",
      "Delta =  3.7059866286881515e-10\n",
      "899 ms ± 3.34 ms per loop (mean ± std. dev. of 7 runs, 1 loop each)\n",
      "\n",
      "1 min computation:  1.570796326795324\n",
      "Delta =  4.2743586448068527e-13\n"
     ]
    }
   ],
   "source": [
    "import math\n",
    "\n",
    "value = math.pi/2\n",
    "print(\"true value = \", value)\n",
    "\n",
    "def func(x):\n",
    "    return (1-x**2)**0.5\n",
    "\n",
    "def integral(N):\n",
    "    h = 2/N\n",
    "    l = [-1 + h/2 + i*h for i in range(N)]\n",
    "    Y = [h*func(i) for i in l]\n",
    "    return sum(Y)\n",
    "\n",
    "#N = 100\n",
    "N = 6*10**5\n",
    "I = integral(N)\n",
    "print(\"\\nN = 100 computation: \", I)\n",
    "#Difference from the true value\n",
    "Delta = I - value\n",
    "print(\"Delta = \", Delta)\n",
    "print('\\n')\n",
    "\n",
    "#For loop to detect the time in function of N\n",
    "l = [3,4,5,6]\n",
    "for i in l:\n",
    "    print(integral(10**i))\n",
    "    %timeit integral(10**i)\n",
    "\n",
    "#1 second computation\n",
    "N = 12*10**5\n",
    "I = integral(N)\n",
    "print(\"\\n1 s computation: \", I)\n",
    "Delta = I - value\n",
    "print(\"Delta = \", Delta)\n",
    "%timeit integral(N)\n",
    "\n",
    "#1 minute computation\n",
    "N = 7*10**7\n",
    "I = integral(N)\n",
    "print(\"\\n1 min computation: \", I)\n",
    "Delta = I - value\n",
    "print(\"Delta = \", Delta)\n",
    "#ATTENTION: The calculation of the time requires a lot of time(approx. 7 min)\n",
    "#%timeit integral(N)"
   ]
  },
  {
   "cell_type": "code",
   "execution_count": null,
   "metadata": {},
   "outputs": [],
   "source": []
  }
 ],
 "metadata": {
  "kernelspec": {
   "display_name": "Python 3",
   "language": "python",
   "name": "python3"
  },
  "language_info": {
   "codemirror_mode": {
    "name": "ipython",
    "version": 3
   },
   "file_extension": ".py",
   "mimetype": "text/x-python",
   "name": "python",
   "nbconvert_exporter": "python",
   "pygments_lexer": "ipython3",
   "version": "3.7.0"
  }
 },
 "nbformat": 4,
 "nbformat_minor": 2
}
