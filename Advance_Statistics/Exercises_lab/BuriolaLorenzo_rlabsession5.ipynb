{
 "cells": [
  {
   "cell_type": "markdown",
   "id": "72ea4368-253b-4a92-888e-acc059ad6825",
   "metadata": {},
   "source": [
    "## R labsession 5\n",
    "Buriola Lorenzo - 2021860"
   ]
  },
  {
   "cell_type": "code",
   "execution_count": 1,
   "id": "d308ecee-5277-4bf9-bd9e-86fbe7b63dbe",
   "metadata": {},
   "outputs": [],
   "source": [
    "#Function for sizing plots\n",
    "fig <- function(width, heigth){\n",
    "  options(repr.plot.width = width, repr.plot.height = heigth)\n",
    "}"
   ]
  },
  {
   "cell_type": "markdown",
   "id": "48d307b5-6966-4649-87f1-9bb8cc2894e0",
   "metadata": {},
   "source": [
    "## Exercise 1"
   ]
  },
  {
   "cell_type": "markdown",
   "id": "dd6b2c06-a150-4048-aac3-b633ccdd935c",
   "metadata": {},
   "source": [
    "We willa assume a binomial distribution for $y$. \n",
    "\n",
    "The _likelihood_ is a binomial distribution with $N$ trials and $y$ successes."
   ]
  },
  {
   "cell_type": "code",
   "execution_count": 2,
   "id": "4903196b-8b8b-4b55-871f-7eb58b95fba5",
   "metadata": {},
   "outputs": [],
   "source": [
    "N <- 150\n",
    "y <- 29\n",
    "p <- seq(0, 1, 0.001) #grid of point used for plotting"
   ]
  },
  {
   "cell_type": "code",
   "execution_count": 3,
   "id": "610fe17b-4b45-4782-ba24-abebb4cdc308",
   "metadata": {},
   "outputs": [],
   "source": [
    "#Likelihood\n",
    "likelihood <- dbinom(y, prob = p, size = N)"
   ]
  },
  {
   "cell_type": "markdown",
   "id": "06affd16-6402-4f29-bc8d-71a76efe8173",
   "metadata": {},
   "source": [
    "The choosen _prior_ is uniform, this means that the posterior will be the _likelihood_ multiplied by a costant function and renormalized.\n",
    "(Note that we could have used also the rules of cojugate priors, as the uniform distribution can be seen as a $Beta(1,1)$ distrbution which is the conjugate prior of the binomial distribution.)"
   ]
  },
  {
   "cell_type": "code",
   "execution_count": 4,
   "id": "a8c23321-f0b3-4056-a932-6332593b7bde",
   "metadata": {},
   "outputs": [],
   "source": [
    "#Prior\n",
    "prior <- rep(1, length(p))\n",
    "#Posterior\n",
    "Post <- function(q){\n",
    "    dbinom(y, prob = q, size = N)\n",
    "}\n",
    "#Normalization\n",
    "Norm <- integrate(Post, lower = 0, upper = 1)$value\n",
    "posterior <- Post(p)/Norm"
   ]
  },
  {
   "cell_type": "code",
   "execution_count": 5,
   "id": "a6263887-faae-4847-b917-4a1b664b2467",
   "metadata": {},
   "outputs": [
    {
     "data": {
      "image/png": "[encoded data removed]",
      "text/plain": [
       "plot without title"
      ]
     },
     "metadata": {
      "image/png": {
       "height": 360,
       "width": 900
      }
     },
     "output_type": "display_data"
    }
   ],
   "source": [
    "fig(15, 6)\n",
    "par(mfrow = c(1,2))\n",
    "plot(p, likelihood, type = 'l', col = 'blue', lwd = 2)\n",
    "plot(p, posterior, type = 'l', col = 'forestgreen', lwd = 2, ylab = 'PDF(p)')\n",
    "lines(p, prior, lty = 5, col = 'forestgreen')\n",
    "legend('topright', inset = 0.01, legend = c('posterior', 'prior'), col=c(\"forestgreen\", \"forestgreen\"), lty=1:5, cex=0.9, box.lty = 0)"
   ]
  },
  {
   "cell_type": "markdown",
   "id": "f9d35277-ac26-4eff-9560-2d628e79d994",
   "metadata": {},
   "source": [
    "Note that in the first plot the _likelihood_ has been plotted as a function of __p__ (while it is conceptually a function of __data__). This has been done for visualization purpose to compare it with the _posterior_."
   ]
  },
  {
   "cell_type": "markdown",
   "id": "08916eaa-4b9a-4a97-a88e-95e7c9afa864",
   "metadata": {},
   "source": [
    "## Exercise 2"
   ]
  },
  {
   "cell_type": "code",
   "execution_count": 6,
   "id": "e6f902db-8fd5-4fa2-b639-b6e710d0b2d2",
   "metadata": {},
   "outputs": [],
   "source": [
    "p <- seq(0, 1, 0.001)"
   ]
  },
  {
   "cell_type": "markdown",
   "id": "927080bb-cf93-43a1-9b84-d0254bdff922",
   "metadata": {},
   "source": [
    "Anna's Prior: $Beta$, $\\mu = 0.2$, $\\sigma = 0.08$"
   ]
  },
  {
   "cell_type": "code",
   "execution_count": 7,
   "id": "6701e931-2e99-45f9-aa17-44592cb20a88",
   "metadata": {},
   "outputs": [],
   "source": [
    "#From mu, sigma to Beta's coefficient a and b\n",
    "mu <- 0.2\n",
    "sd <- 0.08\n",
    "nu <- mu*(1-mu)/sd^2 - 1\n",
    "a <- mu*nu\n",
    "b <- (1-mu)*nu\n",
    "\n",
    "A_pr <- dbeta(p, shape1 = a, shape2 = b) "
   ]
  },
  {
   "cell_type": "markdown",
   "id": "ed943f65-44ce-4baa-a4ca-e6cbff7e7323",
   "metadata": {},
   "source": [
    "Benni's Prior: __Uniform__"
   ]
  },
  {
   "cell_type": "code",
   "execution_count": 8,
   "id": "69180e3a-e84d-4f5d-87d4-dad4ff08b10f",
   "metadata": {},
   "outputs": [],
   "source": [
    "B_pr <- rep(1, length(p))"
   ]
  },
  {
   "cell_type": "markdown",
   "id": "c403de44-dff8-47a3-9da3-4795aa38797f",
   "metadata": {},
   "source": [
    "Chris' Prior: __Trapezoidal__\n",
    "(note that the 0.7 factor was added for normalization purpose)"
   ]
  },
  {
   "cell_type": "code",
   "execution_count": 9,
   "id": "1a0d488f-5727-4c37-a6b9-aacf30a05380",
   "metadata": {},
   "outputs": [],
   "source": [
    "trapz <- function(x){\n",
    "    if (x >= 0 & x < 0.1)\n",
    "        {20*x/0.7}\n",
    "    else if (x >= 0.1 & x < 0.3)\n",
    "        {2/0.7}\n",
    "    else if (x >= 0.3 & x < 0.5)\n",
    "        {(5-10*x)/0.7}\n",
    "    else\n",
    "        {0}\n",
    "}\n",
    "\n",
    "C_pr <- sapply(p, trapz)"
   ]
  },
  {
   "cell_type": "code",
   "execution_count": 10,
   "id": "935ec27c-a74d-4247-b8aa-a3db472cfcfb",
   "metadata": {},
   "outputs": [
    {
     "data": {
      "image/png": "[encoded data removed]",
      "text/plain": [
       "plot without title"
      ]
     },
     "metadata": {
      "image/png": {
       "height": 360,
       "width": 480
      }
     },
     "output_type": "display_data"
    }
   ],
   "source": [
    "fig(8,6)\n",
    "plot(p, A_pr, type = 'l', col = 'red', lwd = 2.5, ylab = 'priors')\n",
    "lines(p, B_pr, col = 'blue', lwd = 2.5)\n",
    "lines(p, C_pr, col = 'forestgreen', lwd = 2.5)\n",
    "legend('topright', inset = 0.01, legend = c('A', 'B', 'C'), col=c(\"red\", \"blue\", \"forestgreen\"), lty = 1, cex=1, box.lty = 0)"
   ]
  },
  {
   "cell_type": "markdown",
   "id": "15068e35-509f-44e8-bfdc-54332ccb25c0",
   "metadata": {},
   "source": [
    "The _likelihood_ is a binomial distribution with $N$ trials and $y$ successes."
   ]
  },
  {
   "cell_type": "code",
   "execution_count": 11,
   "id": "d29bb60a-ea2a-4d2e-b51f-f01be820d32b",
   "metadata": {},
   "outputs": [],
   "source": [
    "y = 26\n",
    "N = 100"
   ]
  },
  {
   "cell_type": "markdown",
   "id": "27aa9242-7dd8-42f4-874d-33f76d627b80",
   "metadata": {},
   "source": [
    "#### Posteriors:\n",
    "\n",
    "* Anna's posterior can be computed using the rule of conjugate priors, as $Beta$ ditribution in the conjugate one of a binomial distribution: The posterior will be $Beta(a', b')$ with $a' = a + y$ and $b' = b + N -y$.\n",
    "\n",
    "* Benni's posterior can be computed using the rule of conjugate priors too. A uniform distribution can be seen as a $Beta(1,1)$ distribution so the posterior will be $Beta(1+y, 1+N-y)$\n",
    "\n",
    "* Chris' posterior must be computed using the integral and renormalizing the result. "
   ]
  },
  {
   "cell_type": "code",
   "execution_count": 12,
   "id": "c2a78a01-717d-4975-940b-2e035e5db9e0",
   "metadata": {},
   "outputs": [],
   "source": [
    "#Anna\n",
    "aA <- a + y\n",
    "bA <- b + N - y\n",
    "A_post <- dbeta(p, shape1 = aA, shape2 = bA) \n",
    "\n",
    "#Benni\n",
    "aB <- 1 + y\n",
    "bB <- 1 + N - y\n",
    "B_post <- dbeta(p, shape1 = aB, shape2 = bB) \n",
    "\n",
    "#Chris\n",
    "PPc <- function(x){\n",
    "    trapz(x)*dbinom(y, prob = x, size = N)\n",
    "}\n",
    "Norm <-integrate(Vectorize(PPc), lower = 0, upper = 1)$value\n",
    "C_post <- sapply(p, PPc)/Norm"
   ]
  },
  {
   "cell_type": "code",
   "execution_count": 13,
   "id": "e965cd9c-59f8-4142-8eee-5eb8ed49fe64",
   "metadata": {},
   "outputs": [
    {
     "data": {
      "image/png": "[encoded data removed]",
      "text/plain": [
       "plot without title"
      ]
     },
     "metadata": {
      "image/png": {
       "height": 360,
       "width": 480
      }
     },
     "output_type": "display_data"
    }
   ],
   "source": [
    "plot(p, A_post, type = 'l', col = 'red', lwd = 2.5, ylab = 'posteriors')\n",
    "lines(p, B_post, col = 'blue', lwd = 2.5)\n",
    "lines(p, C_post, col = 'forestgreen', lwd = 2.5)\n",
    "legend('topright', inset = 0.01, legend = c('A', 'B', 'C'), col=c(\"red\", \"blue\", \"forestgreen\"), lty = 1, cex=1, box.lty = 0)"
   ]
  },
  {
   "cell_type": "markdown",
   "id": "b6353d74-2a32-4f9a-991d-80885d61e193",
   "metadata": {},
   "source": [
    "#### Best estimation and credibility interval\n",
    "\n",
    "The best estimation is computed as the maximum of the posterior (the mode) whil the $95\\%$ credibility interval is set such that the area under the curve between the limits is $0.95$.\n",
    "\n",
    "For Anna's and Benni's posteriors, the best estimation isthe mode of $Beta$ distribution and the credibility interval is computed using _qbeta_ function."
   ]
  },
  {
   "cell_type": "code",
   "execution_count": 14,
   "id": "f248be36-2a2c-4bf5-ba3a-9d05db03516d",
   "metadata": {},
   "outputs": [
    {
     "name": "stdout",
     "output_type": "stream",
     "text": [
      "Anna: best estimation: 0.2442623 \t-\t95% credibility interval: 0.1766865 - 0.3277723"
     ]
    }
   ],
   "source": [
    "A_p <- (aA-1)/(aA+bA-2)\n",
    "ls_A <- qbeta(0.025, shape1 = aA, shape2 = bA)\n",
    "ld_A <- qbeta(0.975, shape1 = aA, shape2 = bA)\n",
    "cat('Anna: best estimation:', A_p, '\\t-\\t95% credibility interval:', ls_A, '-', ld_A)"
   ]
  },
  {
   "cell_type": "code",
   "execution_count": 15,
   "id": "7dae1399-1997-43b7-82e5-55c3f41cd23e",
   "metadata": {},
   "outputs": [
    {
     "name": "stdout",
     "output_type": "stream",
     "text": [
      "Benni: best estimation: 0.26 \t-\t95% credibility interval: 0.1841349 - 0.3540134"
     ]
    }
   ],
   "source": [
    "B_p <- (aB-1)/(aB+bB-2)\n",
    "ls_B <- qbeta(0.025, shape1 = aB, shape2 = bB)\n",
    "ld_B <- qbeta(0.975, shape1 = aB, shape2 = bB)\n",
    "cat('Benni: best estimation:', B_p, '\\t-\\t95% credibility interval:', ls_B, '-', ld_B)"
   ]
  },
  {
   "cell_type": "markdown",
   "id": "f8ce1ef7-78eb-42ad-8e17-c0af2b646b11",
   "metadata": {},
   "source": [
    "For Chris' posterior, there is no analytic function to use nor an implemented distribution. We can discretize the parameter axis and compute the best estimation and the credibility interval using it:"
   ]
  },
  {
   "cell_type": "code",
   "execution_count": 16,
   "id": "fa2df0ec-e0af-4fca-a72d-758bcace554b",
   "metadata": {},
   "outputs": [],
   "source": [
    "best <- p[which.max(C_post)]"
   ]
  },
  {
   "cell_type": "code",
   "execution_count": 17,
   "id": "542761e5-ae2c-4962-b8b9-181dfa5c7559",
   "metadata": {},
   "outputs": [],
   "source": [
    "I = 0\n",
    "Norm <-integrate(Vectorize(PPc), lower = 0, upper = 1)$value\n",
    "for(lim in p){\n",
    "    I <- integrate(Vectorize(PPc), lower = 0, upper = lim)$value/Norm\n",
    "    if(I > 0.025){break}\n",
    "}\n",
    "ls <- lim"
   ]
  },
  {
   "cell_type": "code",
   "execution_count": 18,
   "id": "4d2ce285-d325-4afd-ad10-42ce3e64931c",
   "metadata": {},
   "outputs": [],
   "source": [
    "I = 0\n",
    "for(lim in rev(p)){\n",
    "    I <- integrate(Vectorize(PPc), lower = lim, upper = 1)$value/Norm\n",
    "    if(I > 0.025){break}\n",
    "}\n",
    "ld <- lim"
   ]
  },
  {
   "cell_type": "code",
   "execution_count": 19,
   "id": "a47c0861-2e32-4a7f-882a-3212ff743cb9",
   "metadata": {},
   "outputs": [
    {
     "name": "stdout",
     "output_type": "stream",
     "text": [
      "Chris: best estimation: 0.26 \t-\t 94.93692 % credibility interval: 0.184 - 0.346"
     ]
    }
   ],
   "source": [
    "CI <- integrate(Vectorize(PPc), lower = ls, upper = ld)$value/Norm\n",
    "cat('Chris: best estimation:', best, '\\t-\\t', CI*100, '% credibility interval:', ls, '-', ld)"
   ]
  },
  {
   "cell_type": "markdown",
   "id": "34a91ce0-fd4b-4a51-9ce0-1f27f33e561e",
   "metadata": {},
   "source": [
    "Alternatively, for a more precise estimation, we can use some R functions:"
   ]
  },
  {
   "cell_type": "code",
   "execution_count": 20,
   "id": "3e1a3c11-3260-4b8b-83a9-a1c954a820bf",
   "metadata": {},
   "outputs": [
    {
     "name": "stdout",
     "output_type": "stream",
     "text": [
      "Chris: best estimation: 0.26 \t-\t 95% credibility interval: 0.1837008 - 0.34615"
     ]
    }
   ],
   "source": [
    "best <- optimize(PPc, c(0,1), maximum = T)$maximum\n",
    "f <- function(p, alpha)\n",
    "{\n",
    "    integrate(Vectorize(PPc), lower = 0, upper = p)$value/Norm - alpha\n",
    "}\n",
    "ls <- uniroot(f, c(0,1), alpha = 0.025)$root\n",
    "ld <- uniroot(f, c(0,1), alpha = 0.975)$root\n",
    "cat('Chris: best estimation:', best, '\\t-\\t 95% credibility interval:', ls, '-', ld)"
   ]
  },
  {
   "cell_type": "markdown",
   "id": "fd5a8ce8-3cba-45ce-9928-6b8bc73a5da3",
   "metadata": {},
   "source": [
    "## Exercise 3"
   ]
  },
  {
   "cell_type": "markdown",
   "id": "1f523d4c-0dae-4841-a783-a0a69bb663db",
   "metadata": {},
   "source": [
    "The _likelihood_ is a binomial distribution with $N$ trials and $y$ successes."
   ]
  },
  {
   "cell_type": "code",
   "execution_count": 21,
   "id": "88bad9f2-78c1-4118-8844-1dcfa373229e",
   "metadata": {},
   "outputs": [],
   "source": [
    "coin <- c('T', 'T', 'T', 'T', 'T', 'H', 'T', 'T', 'H', 'H', 'T', 'T', 'H', 'H', 'H', 'T', 'H', 'T', 'H', 'T', 'H',\n",
    "          'H', 'T', 'H', 'T', 'H', 'T', 'H', 'H', 'H')\n",
    "bin <- ifelse(coin == 'T', 1, 0)\n",
    "N = length(bin)\n",
    "y = sum(bin)\n",
    "p <- seq(0, 1, 0.001)\n",
    "\n",
    "#Likelihood\n",
    "likelihood <- dbinom(y, prob = p, size = N)"
   ]
  },
  {
   "cell_type": "markdown",
   "id": "012b557b-ec58-4626-bcc0-ad22dbfc5f0e",
   "metadata": {},
   "source": [
    "#### Flat Prior"
   ]
  },
  {
   "cell_type": "code",
   "execution_count": 22,
   "id": "4942658e-8304-4b91-a7f6-2fe205f365c3",
   "metadata": {},
   "outputs": [
    {
     "data": {
      "image/png": "[encoded data removed]",
      "text/plain": [
       "plot without title"
      ]
     },
     "metadata": {
      "image/png": {
       "height": 360,
       "width": 900
      }
     },
     "output_type": "display_data"
    }
   ],
   "source": [
    "#Prior\n",
    "prior <- rep(1, length(p))\n",
    "\n",
    "#Posterior (The rule of conjugate priors are used)\n",
    "a1 <- y+1\n",
    "b1 <- 1+N-y\n",
    "posterior <- dbeta(p, shape1 = a1, shape2 = b1)\n",
    "\n",
    "fig(15, 6)\n",
    "par(mfrow = c(1, 2))\n",
    "plot(p, likelihood, type = 'l', col = 'blue', lwd = 2.5)\n",
    "\n",
    "plot(p, posterior, type = 'l', col = 'forestgreen', lwd = 2.5, ylab = 'PDF(p)')\n",
    "lines(p, prior, type = 'l', col = 'forestgreen', lty = 5,  lwd = 2.5)\n",
    "legend('topleft', inset = 0.01, legend = c('post.', 'prior'), col=c(\"forestgreen\", \"forestgreen\"), lty=1:5, cex=0.9, box.lty = 0)"
   ]
  },
  {
   "cell_type": "markdown",
   "id": "da2d8ed5-8b13-430a-b185-0730f53058b6",
   "metadata": {},
   "source": [
    "Note that, aolso in this case, the _likelihood_ was plotted as a function of __p__ for comparison purpose.\n",
    "\n",
    "The best estimation and the credibility interval are computed as before"
   ]
  },
  {
   "cell_type": "code",
   "execution_count": 23,
   "id": "43c7012d-c402-4834-945a-83db88817374",
   "metadata": {},
   "outputs": [
    {
     "name": "stdout",
     "output_type": "stream",
     "text": [
      "Best estimation: 0.5 \t-\t95% credibility interval: 0.330606 - 0.669394"
     ]
    }
   ],
   "source": [
    "best <- (a1-1)/(a1+b1-2)\n",
    "ls <- qbeta(0.025, shape1 = a1, shape2 = b1)\n",
    "ld <- qbeta(0.975, shape1 = a1, shape2 = b1)\n",
    "cat('Best estimation:', best, '\\t-\\t95% credibility interval:', ls, '-', ld)"
   ]
  },
  {
   "cell_type": "markdown",
   "id": "f0ead084-cc0d-4adf-8858-483d5e85d68a",
   "metadata": {},
   "source": [
    "Let us plot the final posterior enhancing the best estimation and the credibility interval"
   ]
  },
  {
   "cell_type": "code",
   "execution_count": 24,
   "id": "17e43f7e-921e-438c-a141-06159935dc40",
   "metadata": {},
   "outputs": [
    {
     "name": "stderr",
     "output_type": "stream",
     "text": [
      "Warning message:\n",
      "\"Removed 662 rows containing missing values (position_stack).\"\n"
     ]
    },
    {
     "data": {
      "image/png": "[encoded data removed]",
      "text/plain": [
       "plot without title"
      ]
     },
     "metadata": {
      "image/png": {
       "height": 360,
       "width": 600
      }
     },
     "output_type": "display_data"
    }
   ],
   "source": [
    "library(ggplot2)\n",
    "fig(10, 6)\n",
    "q <- ggplot(data.frame(p, posterior), aes(x = p, y = posterior))\n",
    "q + geom_line(size = 1.5, color = 'forestgreen') + \n",
    "geom_area(aes(ifelse(p>ls & p <ld, p, NA)), fill = 'forestgreen', alpha = 0.5) +\n",
    "geom_vline(xintercept = best, col = 'black', size = 1.7, linetype = 'dashed') +\n",
    "theme(axis.title.x = element_text(size=14), axis.text.x = element_text(size=12)) +\n",
    "theme(axis.title.y = element_text(size=14), axis.text.y = element_text(size=12))"
   ]
  },
  {
   "cell_type": "markdown",
   "id": "2cace6ac-9b4a-4ca5-82fb-11ef000aab59",
   "metadata": {},
   "source": [
    "#### Beta Prior (given $\\mu$ and $\\sigma$)"
   ]
  },
  {
   "cell_type": "code",
   "execution_count": 25,
   "id": "66f96ff6-85d4-42cc-a116-4fc965c449d1",
   "metadata": {},
   "outputs": [
    {
     "data": {
      "image/png": "[encoded data removed]",
      "text/plain": [
       "plot without title"
      ]
     },
     "metadata": {
      "image/png": {
       "height": 360,
       "width": 900
      }
     },
     "output_type": "display_data"
    }
   ],
   "source": [
    "# Prior\n",
    "mu <- 0.5\n",
    "sd <- 0.1\n",
    "nu <- mu*(1-mu)/sd^2 - 1\n",
    "a_i <- mu*nu\n",
    "b_i <- (1-mu)*nu\n",
    "prior <- dbeta(p, shape1 = a_i, shape2 = b_i)\n",
    "\n",
    "#Posterior (The rule of conjugate priors are used)\n",
    "a_f <- a_i+y\n",
    "b_f <- b_i+N-y\n",
    "posterior <- dbeta(p, shape1 = a_f, shape2 = b_f)\n",
    "\n",
    "fig(15, 6)\n",
    "par(mfrow = c(1, 2))\n",
    "plot(p, likelihood, type = 'l', col = 'blue', lwd = 2.5)\n",
    "plot(p, posterior, type = 'l', col = 'forestgreen', lwd = 2.5, ylab = 'PDF(p)')\n",
    "lines(p, prior, type = 'l', col = 'forestgreen', lty = 5, lwd = 2.5)\n",
    "legend('topleft', inset = 0.01, legend = c('post.', 'prior'), col=c(\"forestgreen\", \"forestgreen\"), lty=1:5, cex=0.9, box.lty = 0)"
   ]
  },
  {
   "cell_type": "code",
   "execution_count": 26,
   "id": "0e667025-e188-4673-9260-a5efda1bbeb8",
   "metadata": {},
   "outputs": [
    {
     "name": "stdout",
     "output_type": "stream",
     "text": [
      "Best estimation: 0.5 \t-\t95% credibility interval: 0.3683954 - 0.6316046"
     ]
    }
   ],
   "source": [
    "best <- (a_f-1)/(a_f+b_f-2)\n",
    "ls <- qbeta(0.025, shape1 = a_f, shape2 = b_f)\n",
    "ld <- qbeta(0.975, shape1 = a_f, shape2 = b_f)\n",
    "cat('Best estimation:', best, '\\t-\\t95% credibility interval:', ls, '-', ld)"
   ]
  },
  {
   "cell_type": "markdown",
   "id": "d0b24f7b-34b2-46ab-8d54-db65cf4133ca",
   "metadata": {},
   "source": [
    "Also in this case let us plot the final posterior enhancing the best estimation and the credibility interval"
   ]
  },
  {
   "cell_type": "code",
   "execution_count": 27,
   "id": "3e048c40-f322-453f-b328-a7fc22f58a70",
   "metadata": {},
   "outputs": [
    {
     "name": "stderr",
     "output_type": "stream",
     "text": [
      "Warning message:\n",
      "\"Removed 738 rows containing missing values (position_stack).\"\n"
     ]
    },
    {
     "data": {
      "image/png": "[encoded data removed]",
      "text/plain": [
       "plot without title"
      ]
     },
     "metadata": {
      "image/png": {
       "height": 360,
       "width": 600
      }
     },
     "output_type": "display_data"
    }
   ],
   "source": [
    "library(ggplot2)\n",
    "fig(10, 6)\n",
    "q <- ggplot(data.frame(p, posterior), aes(x = p, y = posterior))\n",
    "q + geom_line(size = 1.5, color = 'forestgreen') +\n",
    "geom_area(aes(ifelse(p>ls & p <ld, p, NA)), fill = 'forestgreen', alpha = 0.5) +\n",
    "geom_vline(xintercept = best, col = 'black', size = 1.7, linetype = 'dashed') +\n",
    "theme(axis.title.x = element_text(size=14), axis.text.x = element_text(size=12)) +\n",
    "theme(axis.title.y = element_text(size=14), axis.text.y = element_text(size=12))"
   ]
  },
  {
   "cell_type": "markdown",
   "id": "07680e46-82a8-40c9-b0d9-bc630dc47eb5",
   "metadata": {},
   "source": [
    "#### Sequential analysis"
   ]
  },
  {
   "cell_type": "code",
   "execution_count": 28,
   "id": "3b4c41e9-1c80-4a5f-a196-05baed7b8332",
   "metadata": {},
   "outputs": [],
   "source": [
    "library(magrittr)"
   ]
  },
  {
   "cell_type": "markdown",
   "id": "fcd8b3de-30e8-4bbb-a3cf-fdbca0327fc2",
   "metadata": {},
   "source": [
    "The following function performs the sequential analysis of the coin tossing and return a dataframe with the best estimation and the limits of the 95% credibility interval for each trial"
   ]
  },
  {
   "cell_type": "code",
   "execution_count": 29,
   "id": "d5772ec7-8298-40e2-b5eb-d940d93923eb",
   "metadata": {},
   "outputs": [],
   "source": [
    "propagator <- function(coin, a, b){\n",
    "    bin <- ifelse(coin == 'T', 1, 0)\n",
    "    #Initialising the needed vectors\n",
    "    best_list <- c()\n",
    "    ls <- c()\n",
    "    ld <- c()\n",
    "    #This vector is needed to record the initial prior used\n",
    "    Prior <- rep(paste('Prior: shape1 =', toString(a), 'shape2 =',toString(b)), length(coin))\n",
    "    for (i in bin){\n",
    "        #Conjugate priors rule\n",
    "        a <- a + i\n",
    "        b <- b + (1-i)\n",
    "        best <- (a-1)/(a+b-2)\n",
    "        best_list <- append(best_list, best)\n",
    "        #The limits of the credibility interval are computed in the classical way, with an exception:\n",
    "        #if the mode of the distribution is an extreme (0 or 1), the credibility interval extremes are\n",
    "        #computed using only one tail (0.05 - 1) or (0 - 0.95), to avoid that the best estimation falls \n",
    "        #out of the credibility interval itself.\n",
    "        if (best == 0){\n",
    "            ls <- append(ls, 0)\n",
    "            ld <- append(ld, qbeta(0.95, shape1 = a, shape2 = b)) \n",
    "        }\n",
    "        else if (best == 1){\n",
    "            ls <- append(ls, qbeta(0.05, shape1 = a, shape2 = b))\n",
    "            ld <- append(ld, 1)\n",
    "        }\n",
    "        else{\n",
    "            ls <- append(ls, qbeta(0.025, shape1 = a, shape2 = b))\n",
    "            ld <- append(ld, qbeta(0.975, shape1 = a, shape2 = b))\n",
    "        }\n",
    "    }\n",
    "    n <- seq(length(bin))\n",
    "    #final dataframe\n",
    "    data.frame(n, coin, best_list, ls, ld, Prior)\n",
    "}"
   ]
  },
  {
   "cell_type": "markdown",
   "id": "5e2d9e10-8f97-4061-872c-f6d3750083c3",
   "metadata": {},
   "source": [
    "__Uniform prior__"
   ]
  },
  {
   "cell_type": "code",
   "execution_count": 30,
   "id": "87293f86-489d-4e8d-87eb-a5acf69affeb",
   "metadata": {},
   "outputs": [],
   "source": [
    "a = 1\n",
    "b = 1\n",
    "data1 <- propagator(coin, a, b)"
   ]
  },
  {
   "cell_type": "code",
   "execution_count": 31,
   "id": "5951dc2b-768e-4dad-9f40-76a4cf61a5bd",
   "metadata": {},
   "outputs": [
    {
     "data": {
      "text/html": [
       "<table class=\"dataframe\">\n",
       "<caption>A data.frame: 1 × 3</caption>\n",
       "<thead>\n",
       "\t<tr><th></th><th scope=col>best_list</th><th scope=col>ls</th><th scope=col>ld</th></tr>\n",
       "\t<tr><th></th><th scope=col>&lt;dbl&gt;</th><th scope=col>&lt;dbl&gt;</th><th scope=col>&lt;dbl&gt;</th></tr>\n",
       "</thead>\n",
       "<tbody>\n",
       "\t<tr><th scope=row>30</th><td>0.5</td><td>0.330606</td><td>0.669394</td></tr>\n",
       "</tbody>\n",
       "</table>\n"
      ],
      "text/latex": [
       "A data.frame: 1 × 3\n",
       "\\begin{tabular}{r|lll}\n",
       "  & best\\_list & ls & ld\\\\\n",
       "  & <dbl> & <dbl> & <dbl>\\\\\n",
       "\\hline\n",
       "\t30 & 0.5 & 0.330606 & 0.669394\\\\\n",
       "\\end{tabular}\n"
      ],
      "text/markdown": [
       "\n",
       "A data.frame: 1 × 3\n",
       "\n",
       "| <!--/--> | best_list &lt;dbl&gt; | ls &lt;dbl&gt; | ld &lt;dbl&gt; |\n",
       "|---|---|---|---|\n",
       "| 30 | 0.5 | 0.330606 | 0.669394 |\n",
       "\n"
      ],
      "text/plain": [
       "   best_list ls       ld      \n",
       "30 0.5       0.330606 0.669394"
      ]
     },
     "metadata": {},
     "output_type": "display_data"
    }
   ],
   "source": [
    "data1[N, 3:5]"
   ]
  },
  {
   "cell_type": "markdown",
   "id": "7e36e034-6ba4-4f00-9230-139c0e9238cc",
   "metadata": {},
   "source": [
    "As expected, the final estimation and credibility interval (after we know the results of all tosses) is equal to the one computed before using all data at once."
   ]
  },
  {
   "cell_type": "markdown",
   "id": "fe617baf-200a-42d7-b712-70fb99cc14a8",
   "metadata": {},
   "source": [
    "__$Beta$ prior__"
   ]
  },
  {
   "cell_type": "code",
   "execution_count": 32,
   "id": "78dc6c14-f144-49c5-a596-5842af7003e0",
   "metadata": {},
   "outputs": [],
   "source": [
    "a = a_i\n",
    "b = b_i\n",
    "data2 <- propagator(coin, a, b)"
   ]
  },
  {
   "cell_type": "code",
   "execution_count": 33,
   "id": "6dc3174c-8ed1-478c-bb83-cc6905c5d55f",
   "metadata": {},
   "outputs": [
    {
     "data": {
      "text/html": [
       "<table class=\"dataframe\">\n",
       "<caption>A data.frame: 1 × 3</caption>\n",
       "<thead>\n",
       "\t<tr><th></th><th scope=col>best_list</th><th scope=col>ls</th><th scope=col>ld</th></tr>\n",
       "\t<tr><th></th><th scope=col>&lt;dbl&gt;</th><th scope=col>&lt;dbl&gt;</th><th scope=col>&lt;dbl&gt;</th></tr>\n",
       "</thead>\n",
       "<tbody>\n",
       "\t<tr><th scope=row>30</th><td>0.5</td><td>0.3683954</td><td>0.6316046</td></tr>\n",
       "</tbody>\n",
       "</table>\n"
      ],
      "text/latex": [
       "A data.frame: 1 × 3\n",
       "\\begin{tabular}{r|lll}\n",
       "  & best\\_list & ls & ld\\\\\n",
       "  & <dbl> & <dbl> & <dbl>\\\\\n",
       "\\hline\n",
       "\t30 & 0.5 & 0.3683954 & 0.6316046\\\\\n",
       "\\end{tabular}\n"
      ],
      "text/markdown": [
       "\n",
       "A data.frame: 1 × 3\n",
       "\n",
       "| <!--/--> | best_list &lt;dbl&gt; | ls &lt;dbl&gt; | ld &lt;dbl&gt; |\n",
       "|---|---|---|---|\n",
       "| 30 | 0.5 | 0.3683954 | 0.6316046 |\n",
       "\n"
      ],
      "text/plain": [
       "   best_list ls        ld       \n",
       "30 0.5       0.3683954 0.6316046"
      ]
     },
     "metadata": {},
     "output_type": "display_data"
    }
   ],
   "source": [
    "data2[N, 3:5]"
   ]
  },
  {
   "cell_type": "markdown",
   "id": "8dd401d4-eb83-4a46-9b12-e2af1f7b10e7",
   "metadata": {},
   "source": [
    "Also in this case analysing the data together or sequentially doen not change.\n",
    "\n",
    "In order to visualize the trend of probability as a function of __n_trial__ a plot is made."
   ]
  },
  {
   "cell_type": "code",
   "execution_count": 34,
   "id": "27e34957-d71c-46c7-85c4-45a6cebc8ee1",
   "metadata": {},
   "outputs": [],
   "source": [
    "data <- rbind(data1, data2)"
   ]
  },
  {
   "cell_type": "code",
   "execution_count": 35,
   "id": "a1a3350e-e6dc-470a-a431-6578f0d69da5",
   "metadata": {},
   "outputs": [
    {
     "data": {
      "image/png": "[encoded data removed]",
      "text/plain": [
       "plot without title"
      ]
     },
     "metadata": {
      "image/png": {
       "height": 420,
       "width": 900
      }
     },
     "output_type": "display_data"
    }
   ],
   "source": [
    "fig(15, 7)\n",
    "p <- data %>% ggplot(aes(n, best_list, fill = Prior))\n",
    "p + geom_point(aes(col = coin),size = 4) + geom_line(col = 'black') +\n",
    "geom_ribbon(aes(ymin = ls, ymax = ld), alpha = 0.2) +\n",
    "xlab('n_trial') + ylab('most probable value') +\n",
    "scale_color_manual(name = 'Coin', values = c('H' = 'orange', 'T' = 'black')) +\n",
    "scale_fill_manual(name = '95% cred. interval', values = c('green', 'blue')) +\n",
    "theme_bw()+\n",
    "theme(strip.text.x = element_text(size = 14)) +\n",
    "theme(axis.title.x = element_text(size=14)) + theme(axis.text.x = element_text(size=12)) +\n",
    "theme(axis.title.y = element_text(size=14), axis.text.y = element_text(size=12)) +\n",
    "theme(legend.text = element_text(size = 14), legend.title = element_text(size = 14))"
   ]
  },
  {
   "cell_type": "code",
   "execution_count": null,
   "id": "63eae2a8-6062-4344-a2b9-a2769de40a83",
   "metadata": {},
   "outputs": [],
   "source": []
  }
 ],
 "metadata": {
  "kernelspec": {
   "display_name": "R",
   "language": "R",
   "name": "ir"
  },
  "language_info": {
   "codemirror_mode": "r",
   "file_extension": ".r",
   "mimetype": "text/x-r-source",
   "name": "R",
   "pygments_lexer": "r",
   "version": "4.1.0"
  }
 },
 "nbformat": 4,
 "nbformat_minor": 5
}
