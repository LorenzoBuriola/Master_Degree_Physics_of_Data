{
 "cells": [
  {
   "cell_type": "markdown",
   "id": "23d8d04d-f8f6-42fe-a1e4-3a8e407cc416",
   "metadata": {},
   "source": [
    "## R labsession 7\n",
    "Buriola Lorenzo - 2021860"
   ]
  },
  {
   "cell_type": "code",
   "execution_count": 1,
   "id": "64fed70d-20ae-44d7-9f65-6072b371c61f",
   "metadata": {},
   "outputs": [],
   "source": [
    "#Function for sizing plots\n",
    "fig <- function(width, heigth){\n",
    "  options(repr.plot.width = width, repr.plot.height = heigth)\n",
    "}"
   ]
  },
  {
   "cell_type": "markdown",
   "id": "b2488c24-74cf-4277-9e1c-bac9168db884",
   "metadata": {},
   "source": [
    "## Exercise 1"
   ]
  },
  {
   "cell_type": "code",
   "execution_count": 2,
   "id": "c93b253c-bfe3-45a3-82da-b4665a7a6c02",
   "metadata": {},
   "outputs": [],
   "source": [
    "#Old test failure rate\n",
    "p.old <- 0.15\n",
    "#N° of patients\n",
    "n <- 75"
   ]
  },
  {
   "cell_type": "markdown",
   "id": "5aa86414-3e6b-4599-9cae-978e77c85967",
   "metadata": {},
   "source": [
    "a) We can assume that the probability distribution of $y$ failures in $n$ samples follows a Binomial distribution"
   ]
  },
  {
   "cell_type": "markdown",
   "id": "d688fd88-44c8-41c6-9337-b6a0b8ad7cbb",
   "metadata": {},
   "source": [
    "b) On a sample of $n = 75$ patient, the method fails in $\\hat{y} = 6$ cases. Thus the best estimation in the frequentist approach (the one that pops out using the maximum likelihood estimation) is $p_{freq} = \\frac{\\hat{y}}{n}$ "
   ]
  },
  {
   "cell_type": "code",
   "execution_count": 3,
   "id": "6b1676fc-7679-4341-9c07-31ed7095c1d4",
   "metadata": {},
   "outputs": [
    {
     "name": "stdout",
     "output_type": "stream",
     "text": [
      "p_freq = 0.08"
     ]
    }
   ],
   "source": [
    "y <- 6\n",
    "p.new.freq <- y/n\n",
    "cat('p_freq =', p.new.freq)"
   ]
  },
  {
   "cell_type": "markdown",
   "id": "9a98d3ae-15d8-4902-8a34-b7f6e9be52d2",
   "metadata": {},
   "source": [
    "c) Using a binomial _likelihood_ and assuming a _prior_ that follows a $Beta(\\alpha, \\beta)$ distribution, one can use the rules of conjugate priors. The _posterior_ will be as well a $Beta(\\alpha', \\beta')$ with:\n",
    "* $\\alpha' = \\alpha + y$\n",
    "* $\\beta' = \\beta+n-y$"
   ]
  },
  {
   "cell_type": "code",
   "execution_count": 4,
   "id": "5e7a4e33-6210-4f6e-a94a-f8b413566049",
   "metadata": {},
   "outputs": [
    {
     "data": {
      "image/png": "[encoded data removed]",
      "text/plain": [
       "plot without title"
      ]
     },
     "metadata": {
      "image/png": {
       "height": 360,
       "width": 600
      }
     },
     "output_type": "display_data"
    }
   ],
   "source": [
    "fig(10, 6)\n",
    "\n",
    "#From mu, sigma to Beta's coefficient a and b\n",
    "mu <- 0.15\n",
    "sd <- 0.14\n",
    "nu <- mu*(1-mu)/sd^2 - 1\n",
    "a <- mu*nu\n",
    "b <- (1-mu)*nu\n",
    "\n",
    "p <- seq(0, 1, 0.001)\n",
    "prior <- dbeta(p, shape1 = a, shape2 = b)\n",
    "post <- dbeta(p, shape1 = a+y, shape2 = b+n-y)\n",
    "\n",
    "mean <- (a+y)/(a+b+n)\n",
    "median <- qbeta(0.5, shape1 = a+y, shape2 = b+n-y)\n",
    "\n",
    "plot(p, post, type = 'l', col = 'forestgreen', lwd = 2.5, ylab = 'PDF(p)', xlim = c(0, 0.4))\n",
    "lines(p, prior, type = 'l', col = 'forestgreen', lty = 5,  lwd = 2.5)\n",
    "abline(v = mean, col = 'red', lty = 2, lwd = 2)\n",
    "abline(v = median, col = 'blue', lty = 3, lwd = 2)\n",
    "legend('topright', inset = 0.01, legend = c('post.', 'prior', 'mean', 'median'), col=c(\"forestgreen\", \"forestgreen\", 'red', 'blue'), lty=c(1,5,2,3), cex=0.9, box.lty = 0)"
   ]
  },
  {
   "cell_type": "code",
   "execution_count": 5,
   "id": "1fa60217-4a0a-4cda-b651-c500c5e42d65",
   "metadata": {},
   "outputs": [
    {
     "name": "stdout",
     "output_type": "stream",
     "text": [
      "mean = 0.08478674 \n",
      "median = 0.08135575"
     ]
    }
   ],
   "source": [
    "cat('mean =', mean, '\\nmedian =', median)"
   ]
  },
  {
   "cell_type": "markdown",
   "id": "e43151e7-5391-4290-9b3f-2833c5c3e435",
   "metadata": {},
   "source": [
    "As best estimation one can use also the mode of the posterior:"
   ]
  },
  {
   "cell_type": "code",
   "execution_count": 6,
   "id": "31c00a05-1847-4203-8f77-852ccf73c7b6",
   "metadata": {},
   "outputs": [
    {
     "name": "stdout",
     "output_type": "stream",
     "text": [
      "mode = 0.07420875"
     ]
    }
   ],
   "source": [
    "best <- (a+y-1)/(a+b+n-2)\n",
    "cat('mode =', best)"
   ]
  },
  {
   "cell_type": "markdown",
   "id": "64aa9e20-285b-42d5-b878-7bb7fbbded04",
   "metadata": {},
   "source": [
    "d) Hypothesis test ($\\alpha = 0.05$): \n",
    "* $H_0 : p \\ge 0.15$\n",
    "* $H_1 : p < 0.15$\n",
    "\n",
    "(This is a one tailed hypothesis test)\n",
    "\n",
    "In the Bayesian way it is sufficient to compute the integral under the _posterior_ from the value to test $P(p \\ge 0.15 | y = 6)$ and check it with the significance level. "
   ]
  },
  {
   "cell_type": "code",
   "execution_count": 7,
   "id": "e49d3ed2-9976-413c-ba9e-c2de7fe77385",
   "metadata": {},
   "outputs": [
    {
     "name": "stderr",
     "output_type": "stream",
     "text": [
      "Warning message:\n",
      "\"Removed 850 rows containing missing values (position_stack).\"\n",
      "Warning message:\n",
      "\"Removed 700 row(s) containing missing values (geom_path).\"\n"
     ]
    },
    {
     "data": {
      "image/png": "[encoded data removed]",
      "text/plain": [
       "plot without title"
      ]
     },
     "metadata": {
      "image/png": {
       "height": 360,
       "width": 600
      }
     },
     "output_type": "display_data"
    }
   ],
   "source": [
    "library(ggplot2)\n",
    "fig(10, 6)\n",
    "q <- ggplot(data.frame(p, post), aes(x = p, y = post))\n",
    "q + geom_line(size = 1.5, color = 'forestgreen') + \n",
    "geom_area(aes(ifelse(p>= 0.15, p, NA)), fill = 'forestgreen', alpha = 0.5) + xlim(0, 0.3) +\n",
    "ylab('posterior') +\n",
    "geom_vline(xintercept = 0.15, col = 'black', size = 1, linetype = 'dashed') +\n",
    "theme(axis.title.x = element_text(size=14), axis.text.x = element_text(size=12)) +\n",
    "theme(axis.title.y = element_text(size=14), axis.text.y = element_text(size=12))"
   ]
  },
  {
   "cell_type": "code",
   "execution_count": 8,
   "id": "148a0edd-7c34-4d55-9eda-80f2c3b0ad03",
   "metadata": {},
   "outputs": [
    {
     "name": "stdout",
     "output_type": "stream",
     "text": [
      "Bayesian p = 0.03127933"
     ]
    }
   ],
   "source": [
    "pv.bay <- 1 - pbeta(p.old, shape1 = a+y, shape2 = b+n-y)\n",
    "cat('Bayesian p =', pv.bay)"
   ]
  },
  {
   "cell_type": "markdown",
   "id": "867dc141-f74a-473d-9dce-bc1a98cd4dcc",
   "metadata": {},
   "source": [
    "$P(p \\ge 0.15 | y = 6) < \\alpha$, so we reject $H_0$ at this level of significance.\n",
    "Notice where there is the cutoff value:"
   ]
  },
  {
   "cell_type": "code",
   "execution_count": 9,
   "id": "3084e918-6563-4b26-bca1-ec5a3354e51f",
   "metadata": {},
   "outputs": [
    {
     "name": "stdout",
     "output_type": "stream",
     "text": [
      "cutoff value of p = 0.140787"
     ]
    }
   ],
   "source": [
    "cat('cutoff value of p =', qbeta(0.95, shape1 = a+y, shape2 = b+n-y))"
   ]
  },
  {
   "cell_type": "markdown",
   "id": "6d98851c-28cd-4fde-8e03-5024b8d541d7",
   "metadata": {},
   "source": [
    "e) In the frequentist approach the cumulative of the binomial must be computed: $\\sum_{y = 0}^{y = \\hat{y}} Binom(y, n, p = 0.15)$. The result must be compared with the significance level"
   ]
  },
  {
   "cell_type": "code",
   "execution_count": 10,
   "id": "049ede83-2d96-4218-a28e-728812ed940c",
   "metadata": {},
   "outputs": [
    {
     "name": "stdout",
     "output_type": "stream",
     "text": [
      "p-value = 0.0543533"
     ]
    }
   ],
   "source": [
    "pv.freq <- pbinom(y, size = n, prob = 0.15)\n",
    "cat('p-value =', pv.freq)"
   ]
  },
  {
   "cell_type": "markdown",
   "id": "0c8aaedb-684b-4be4-9a2d-dd73e3bc3af7",
   "metadata": {},
   "source": [
    "Notice how the value is slightly bigger than the significance. Thus we cannot reject the null hypothesis. It is interesting to compute the cutoff value for $y$, in the frequentist approach:"
   ]
  },
  {
   "cell_type": "code",
   "execution_count": 11,
   "id": "5e3a0c47-4a54-4b7c-a5e9-0775601e304e",
   "metadata": {},
   "outputs": [
    {
     "name": "stdout",
     "output_type": "stream",
     "text": [
      "cutoff value of y = 6"
     ]
    }
   ],
   "source": [
    "cat('cutoff value of y =', qbinom(0.05, size = n, prob = 0.15))"
   ]
  },
  {
   "cell_type": "markdown",
   "id": "54fe7694-c0f1-4b90-8ced-7fa661d53091",
   "metadata": {},
   "source": [
    "The cutoff value for $y$ is $6$, our measured value. For this level of significance this test is a borderline case. This is probabily one reason why the bayesian test and the frequentist give different results (The other is the existence of the _Prior_ in the Bayesian way).\n",
    "\n",
    "In _R_ an exact binomial frequentist test is implemented. Let's check it:"
   ]
  },
  {
   "cell_type": "code",
   "execution_count": 12,
   "id": "8dfdb8da-95a8-48dc-b617-c4bd0602e858",
   "metadata": {},
   "outputs": [
    {
     "data": {
      "text/plain": [
       "\n",
       "\tExact binomial test\n",
       "\n",
       "data:  y and n\n",
       "number of successes = 6, number of trials = 75, p-value = 0.05435\n",
       "alternative hypothesis: true probability of success is less than 0.15\n",
       "95 percent confidence interval:\n",
       " 0.0000000 0.1517971\n",
       "sample estimates:\n",
       "probability of success \n",
       "                  0.08 \n"
      ]
     },
     "metadata": {},
     "output_type": "display_data"
    }
   ],
   "source": [
    "binom.test(y, n, p = 0.15, alternative = 'l')"
   ]
  },
  {
   "cell_type": "markdown",
   "id": "5859cc0b-dab2-471c-af3b-685579ccd771",
   "metadata": {},
   "source": [
    "Notice how the _p-value_ coincides with our calculation."
   ]
  },
  {
   "cell_type": "markdown",
   "id": "2bef6d5c-7da8-427d-9f72-150192378d88",
   "metadata": {},
   "source": [
    "## Exercise 2"
   ]
  },
  {
   "cell_type": "code",
   "execution_count": 13,
   "id": "028114e3-3b3c-4a83-98cd-725a0729b890",
   "metadata": {},
   "outputs": [
    {
     "data": {
      "text/html": [
       "<table class=\"dataframe\">\n",
       "<caption>A data.frame: 2 × 5</caption>\n",
       "<thead>\n",
       "\t<tr><th scope=col>y0</th><th scope=col>y1</th><th scope=col>y2</th><th scope=col>y3</th><th scope=col>y4</th></tr>\n",
       "\t<tr><th scope=col>&lt;dbl&gt;</th><th scope=col>&lt;dbl&gt;</th><th scope=col>&lt;dbl&gt;</th><th scope=col>&lt;dbl&gt;</th><th scope=col>&lt;dbl&gt;</th></tr>\n",
       "</thead>\n",
       "<tbody>\n",
       "\t<tr><td>109</td><td>65</td><td>22</td><td> 3</td><td>1</td></tr>\n",
       "\t<tr><td>144</td><td>91</td><td>32</td><td>11</td><td>2</td></tr>\n",
       "</tbody>\n",
       "</table>\n"
      ],
      "text/latex": [
       "A data.frame: 2 × 5\n",
       "\\begin{tabular}{lllll}\n",
       " y0 & y1 & y2 & y3 & y4\\\\\n",
       " <dbl> & <dbl> & <dbl> & <dbl> & <dbl>\\\\\n",
       "\\hline\n",
       "\t 109 & 65 & 22 &  3 & 1\\\\\n",
       "\t 144 & 91 & 32 & 11 & 2\\\\\n",
       "\\end{tabular}\n"
      ],
      "text/markdown": [
       "\n",
       "A data.frame: 2 × 5\n",
       "\n",
       "| y0 &lt;dbl&gt; | y1 &lt;dbl&gt; | y2 &lt;dbl&gt; | y3 &lt;dbl&gt; | y4 &lt;dbl&gt; |\n",
       "|---|---|---|---|---|\n",
       "| 109 | 65 | 22 |  3 | 1 |\n",
       "| 144 | 91 | 32 | 11 | 2 |\n",
       "\n"
      ],
      "text/plain": [
       "  y0  y1 y2 y3 y4\n",
       "1 109 65 22  3 1 \n",
       "2 144 91 32 11 2 "
      ]
     },
     "metadata": {},
     "output_type": "display_data"
    }
   ],
   "source": [
    "lambda <- seq(0, 5, 0.001)\n",
    "\n",
    "y0 <- c(109, 144)\n",
    "y1 <- c(65, 91)\n",
    "y2 <- c(22, 32)\n",
    "y3 <- c(3, 11)\n",
    "y4 <- c(1, 2)\n",
    "\n",
    "data <- data.frame(y0, y1, y2, y3, y4)\n",
    "data"
   ]
  },
  {
   "cell_type": "code",
   "execution_count": 14,
   "id": "d2f24e69-678f-41f1-b2d3-7edfe2412d7f",
   "metadata": {},
   "outputs": [],
   "source": [
    "Ns <- apply(data, 1, sum)\n",
    "myfunc <- function(vec){\n",
    "    vec[2]*1+vec[3]*2+vec[4]*3+vec[5]*4\n",
    "}\n",
    "SUMs <- apply(data, 1, myfunc)"
   ]
  },
  {
   "cell_type": "markdown",
   "id": "c4e02591-523e-490f-b674-453cb51c3931",
   "metadata": {},
   "source": [
    "a) Uniform prior: \n",
    "The rules of conjugate prior for poisson statistics are used. In particular the posterior will be a $Gamma(\\alpha, \\lambda)$ distribution where:\n",
    "* $\\alpha = \\sum x_j + 1$\n",
    "* $\\lambda = n \\;$ ($n$ = number of data)"
   ]
  },
  {
   "cell_type": "code",
   "execution_count": 15,
   "id": "8bbbf163-2a50-43da-a925-709e545f1f00",
   "metadata": {},
   "outputs": [
    {
     "name": "stdout",
     "output_type": "stream",
     "text": [
      "n 1 observations: mean = 0.615 median = 0.6133341 var = 0.003075 \n",
      "mode = 0.61 \n",
      "95% credibility interval 0.5111251 - 0.7283408 \n",
      "n 2 observations: mean = 0.7035714 median = 0.7023813 var = 0.002512755 \n",
      "mode = 0.7 \n",
      "95% credibility interval 0.6087487 - 0.805157 \n"
     ]
    },
    {
     "data": {
      "image/png": "[encoded data removed]",
      "text/plain": [
       "Plot with title \"n2\""
      ]
     },
     "metadata": {
      "image/png": {
       "height": 480,
       "width": 900
      }
     },
     "output_type": "display_data"
    }
   ],
   "source": [
    "prior <- rep(1/max(lambda), length(lambda))\n",
    "fig(15, 8)\n",
    "means <- c()\n",
    "vars <- c()\n",
    "par(mfrow = c(1, 2))\n",
    "for (i in 1:2){\n",
    "    a <- SUMs[i] + 1\n",
    "    l <- Ns[i]\n",
    "    post <- dgamma(lambda, shape = a, rate = l)\n",
    "    mode <- (a-1)/l\n",
    "    mean <- a/l\n",
    "    means <- append(means, mean)\n",
    "    var <- a/l^2\n",
    "    vars <- append(vars, var)\n",
    "    median <- qgamma(0.5, shape = a, rate = l)\n",
    "    ls <- qgamma(0.025, shape = a, rate = l)\n",
    "    ld <- qgamma(0.975, shape = a, rate = l)\n",
    "    cat('n', i, 'observations: mean =', mean, 'median =', median, 'var =', var, '\\nmode =', mode, '\\n')\n",
    "    cat('95% credibility interval', ls, '-', ld, '\\n')\n",
    "    plot(lambda, post, type = 'l', lwd = 3, col = 'blue', ylab = 'PDFs', main = paste('n', as.character(i), sep = ''), xlim = c(0,2))\n",
    "    lines(lambda, prior, lwd = 3, col = 'blue', lty = 5)\n",
    "    legend('topright', inset = 0.01, legend = c('post.', 'prior'), col=c('blue', 'blue'), lty=1:5, cex=0.9, box.lty = 0)\n",
    "} "
   ]
  },
  {
   "cell_type": "markdown",
   "id": "ccffdaa6-74a0-4372-ad7e-54ddbb18b390",
   "metadata": {},
   "source": [
    "We want to compute the compatibility of these two measurements of the parameter $\\lambda$ inferred from two datasets. Thanks to the high number of measures, we can approximate the final $Gamma$ distribution to a Gaussian and make an Hypohtesis test to compare the means (significance 5%):\n",
    "* $H_0 : m_2-m_1 = 0$\n",
    "* $H_1 : m_2-m_1 \\neq 0$"
   ]
  },
  {
   "cell_type": "code",
   "execution_count": 16,
   "id": "73705e93-84fd-4979-bb2f-f664233cd7db",
   "metadata": {},
   "outputs": [
    {
     "name": "stdout",
     "output_type": "stream",
     "text": [
      "means difference:\n",
      "0.08857143 +/- 0.1465098 = ( -0.0579384 , 0.2350813 )"
     ]
    }
   ],
   "source": [
    "#Posterior best estimation and 95% crediblity interval:\n",
    "best <- means[2]-means[1]\n",
    "level <- sqrt(vars[2]+vars[1])*qnorm(0.975)\n",
    "cat('means difference:\\n')\n",
    "cat(best, '+/-', level, '= (', best-level,',', best+level,')')"
   ]
  },
  {
   "cell_type": "markdown",
   "id": "83c13a6e-530d-45dc-8ef2-29bb328e007a",
   "metadata": {},
   "source": [
    "The value $0$ falls inside the credibility interval, we accept the null hypothesis."
   ]
  },
  {
   "cell_type": "markdown",
   "id": "778ceac5-a6c5-4459-8c28-7b49114292cd",
   "metadata": {},
   "source": [
    "b) Jeffrey's prior:\n",
    "The rules of conjugate prior for poisson statistics are used. In particular the posterior will be a $Gamma(\\alpha, \\lambda)$ distribution where:\n",
    "* $\\alpha = \\sum x_j + \\frac{1}{2}$\n",
    "* $\\lambda = n \\;$ ($n$ = number of data)"
   ]
  },
  {
   "cell_type": "code",
   "execution_count": 17,
   "id": "e323a9f4-1183-46fd-8d46-20ef7c7029a6",
   "metadata": {},
   "outputs": [
    {
     "name": "stdout",
     "output_type": "stream",
     "text": [
      "n 1 observations: mean = 0.6125 median = 0.6108341 var = 0.0030625 \n",
      "mode = 0.6075 \n",
      "95% credibility interval 0.5088464 - 0.7256196 \n",
      "n 2 observations: mean = 0.7017857 median = 0.7005956 var = 0.002506378 \n",
      "mode = 0.6982143 \n",
      "95% credibility interval 0.6070878 - 0.8032465 \n"
     ]
    },
    {
     "data": {
      "image/png": "[encoded data removed]",
      "text/plain": [
       "Plot with title \"n2\""
      ]
     },
     "metadata": {
      "image/png": {
       "height": 480,
       "width": 900
      }
     },
     "output_type": "display_data"
    }
   ],
   "source": [
    "inv_sqrt <- function(x){\n",
    "    1/sqrt(x)\n",
    "}\n",
    "prior <- inv_sqrt(lambda)/integrate(inv_sqrt, lower = 0, upper = 5)$value\n",
    "means <- c()\n",
    "vars <- c()\n",
    "fig(15, 8)\n",
    "par(mfrow = c(1, 2))\n",
    "for (i in 1:2){\n",
    "    a <- SUMs[i] + 0.5\n",
    "    l <- Ns[i]\n",
    "    post <- dgamma(lambda, shape = a, rate = l)\n",
    "    mode <- (a-1)/l\n",
    "    mean <- a/l\n",
    "    means <- append(means, mean)\n",
    "    var <- a/l^2\n",
    "    vars <- append(vars, var)\n",
    "    median <- qgamma(0.5, shape = a, rate = l)\n",
    "    ls <- qgamma(0.025, shape = a, rate = l)\n",
    "    ld <- qgamma(0.975, shape = a, rate = l)\n",
    "    cat('n', i, 'observations: mean =', mean, 'median =', median, 'var =', var, '\\nmode =', mode, '\\n')\n",
    "    cat('95% credibility interval', ls, '-', ld, '\\n')\n",
    "    plot(lambda, post, type = 'l', lwd = 3, col = 'blue', ylab = 'PDFs', main = paste('n', as.character(i), sep = ''), xlim = c(0,2))\n",
    "    lines(lambda, prior, lwd = 3, col = 'blue', lty = 5)\n",
    "    legend('topright', inset = 0.01, legend = c('post.', 'prior'), col=c('blue', 'blue'), lty=1:5, cex=0.9, box.lty = 0)\n",
    "} "
   ]
  },
  {
   "cell_type": "markdown",
   "id": "ac007cbe-9f0e-4cf8-aedf-869a03b7b4da",
   "metadata": {},
   "source": [
    "Also in this case we can perform a hypothesis testat significance 5% (approximating the Gamma distr. to Gaussian ones) to check if the means are compatible:"
   ]
  },
  {
   "cell_type": "code",
   "execution_count": 18,
   "id": "10b2e037-9f4d-4829-9eb6-0ce36345641d",
   "metadata": {},
   "outputs": [
    {
     "name": "stdout",
     "output_type": "stream",
     "text": [
      "means difference:\n",
      "0.08928571 +/- 0.1462621 = ( -0.05697643 , 0.2355479 )"
     ]
    }
   ],
   "source": [
    "#Posterior best estimation and 95% crediblity interval:\n",
    "best <- means[2]-means[1]\n",
    "level <- sqrt(vars[1]+vars[2])*qnorm(0.975)\n",
    "cat('means difference:\\n')\n",
    "cat(best, '+/-', level, '= (', best-level,',', best+level,')')"
   ]
  },
  {
   "cell_type": "markdown",
   "id": "10603245-118b-4a6b-80d4-c56da2f5c508",
   "metadata": {},
   "source": [
    "Also in this case the value $0$ falls inside the credibility interval so we can accept the null hypothesis."
   ]
  },
  {
   "cell_type": "markdown",
   "id": "7c81c7c1-70e6-4cd7-828a-4db72e49eb7a",
   "metadata": {},
   "source": [
    "## Exercise 3\n",
    "\n",
    "### Old data"
   ]
  },
  {
   "cell_type": "code",
   "execution_count": 19,
   "id": "ae9a339e-acb6-49df-ba51-8d61e99cff81",
   "metadata": {},
   "outputs": [],
   "source": [
    "n <- 116\n",
    "y <- 11"
   ]
  },
  {
   "cell_type": "markdown",
   "id": "db262a8d-70ce-4d96-a88d-b1477345b33f",
   "metadata": {},
   "source": [
    "a) $p_{freq} = \\frac{\\hat{y}}{n}$ "
   ]
  },
  {
   "cell_type": "code",
   "execution_count": 20,
   "id": "d9fa36da-2fea-4327-a4cc-e7e57d7b92b5",
   "metadata": {},
   "outputs": [
    {
     "name": "stdout",
     "output_type": "stream",
     "text": [
      "frequentist estimator = 0.09482759"
     ]
    }
   ],
   "source": [
    "best.freq <- y/n\n",
    "cat('frequentist estimator =', best.freq)"
   ]
  },
  {
   "cell_type": "markdown",
   "id": "4be29c19-ab23-44fb-b26b-87a9f5a9cb9c",
   "metadata": {},
   "source": [
    "b) Bayesian analysis using $Beta$ _prior_:"
   ]
  },
  {
   "cell_type": "code",
   "execution_count": 21,
   "id": "47cf7a76-b761-4625-b376-43dab775da65",
   "metadata": {},
   "outputs": [
    {
     "data": {
      "image/png": "[encoded data removed]",
      "text/plain": [
       "plot without title"
      ]
     },
     "metadata": {
      "image/png": {
       "height": 480,
       "width": 600
      }
     },
     "output_type": "display_data"
    }
   ],
   "source": [
    "a <- 1\n",
    "b <- 10\n",
    "\n",
    "p <- seq(0, 1, 0.001)\n",
    "prior <- dbeta(p, shape1 = a, shape2 = b)\n",
    "\n",
    "a.o <- a+y\n",
    "b.o <- b+n-y\n",
    "\n",
    "post <- dbeta(p, shape1 = a.o, shape2 = b.o)\n",
    "\n",
    "fig(10, 8)\n",
    "plot(p, post, type = 'l', col = 'forestgreen', lwd = 2.5, ylab = 'PDF(p)', xlim = c(0, 0.4))\n",
    "lines(p, prior, type = 'l', col = 'forestgreen', lty = 5,  lwd = 2.5)\n",
    "legend('topright', inset = 0.01, legend = c('post.', 'prior'), col=c(\"forestgreen\", \"forestgreen\"), lty=1:5, cex=0.9, box.lty = 0)"
   ]
  },
  {
   "cell_type": "markdown",
   "id": "022c001c-f4a8-4ed5-ab2b-86e5bd1afc25",
   "metadata": {},
   "source": [
    "c) The best estimator (mode), the mean and the variacne are computed using the properties of $Beta$ distributions."
   ]
  },
  {
   "cell_type": "code",
   "execution_count": 22,
   "id": "660d6d47-81cc-459c-b0f6-f4cd0f2c3ab3",
   "metadata": {},
   "outputs": [
    {
     "name": "stdout",
     "output_type": "stream",
     "text": [
      "best estimator (mode) = 0.088 \n",
      "mean = 0.09448819 \n",
      "var = 0.0006684388 \n",
      "95% credibility interval = 0.05018522 - 0.1508379"
     ]
    }
   ],
   "source": [
    "best <- (a.o-1)/(a.o+b.o-2)\n",
    "mean <- (a.o)/(a.o+b.o)\n",
    "var <- (a.o*b.o)/(a.o+b.o)^2/(a.o+b.o+1)\n",
    "ls <- qbeta(0.025, shape1 = a.o, shape2 = b.o)\n",
    "ld <- qbeta(0.975, shape1 = a.o, shape2 = b.o)\n",
    "cat('best estimator (mode) =', best, '\\nmean =', mean, '\\nvar =', var, \n",
    "    '\\n95% credibility interval =', ls, '-', ld)"
   ]
  },
  {
   "cell_type": "markdown",
   "id": "fb1189c8-238b-4e83-9df5-879f330ff1bd",
   "metadata": {},
   "source": [
    "d) Hypothesis test ($\\alpha = 0.05$)\n",
    "* $H_0 : p= 0.1$\n",
    "* $H1 : p \\neq 0.1$\n",
    "\n",
    "(this is a two tailed test)\n",
    "\n",
    "For the frequentist approach we can computed the _p-value_: Since this is a two tailed test, given the value to test $\\hat{y}$ we can compute $\\sum_{y \\in I} Binom(y, n, p = 0.1)$ (where $I = \\{i:P(y=i) \\le P(y=\\hat{y})\\}$ is the ensamble of $y$ values in the two tails with probability less than $\\hat{y}$) and compare it with $\\alpha$. \n",
    "\n",
    "In this first case we will compute only the cumulative of one tail:"
   ]
  },
  {
   "cell_type": "code",
   "execution_count": 23,
   "id": "1bf863de-adfe-4126-b9eb-ab7aa7474613",
   "metadata": {},
   "outputs": [
    {
     "name": "stdout",
     "output_type": "stream",
     "text": [
      "left tail cumulative = 0.5043125"
     ]
    }
   ],
   "source": [
    "p.freq <- pbinom(q = y, size = n, prob = 0.1)\n",
    "cat('left tail cumulative =', p.freq)"
   ]
  },
  {
   "cell_type": "code",
   "execution_count": 24,
   "id": "2cecf6c9-0569-426c-912a-3dc4acc31bf3",
   "metadata": {},
   "outputs": [
    {
     "data": {
      "text/html": [
       "11"
      ],
      "text/latex": [
       "11"
      ],
      "text/markdown": [
       "11"
      ],
      "text/plain": [
       "[1] 11"
      ]
     },
     "metadata": {},
     "output_type": "display_data"
    }
   ],
   "source": [
    "#median\n",
    "qbinom(0.5, size = n, prob = 0.1)"
   ]
  },
  {
   "cell_type": "markdown",
   "id": "778b2cfd-90e7-4458-a56f-ad016aa66f3e",
   "metadata": {},
   "source": [
    "It is improper to look at one tail, but in this case it is clear that the measurement fall way inside of the confidence level is way over the significance, 11 is the median of the distribution: we cannot reject the null hypothesis. Performing the exact test we obtain a _p-value_ of 1"
   ]
  },
  {
   "cell_type": "code",
   "execution_count": 25,
   "id": "c43cd4c3-3e8e-4069-89bf-d2de9b8cd014",
   "metadata": {},
   "outputs": [
    {
     "data": {
      "text/plain": [
       "\n",
       "\tExact binomial test\n",
       "\n",
       "data:  y and n\n",
       "number of successes = 11, number of trials = 116, p-value = 1\n",
       "alternative hypothesis: true probability of success is not equal to 0.1\n",
       "95 percent confidence interval:\n",
       " 0.04829409 0.16333954\n",
       "sample estimates:\n",
       "probability of success \n",
       "            0.09482759 \n"
      ]
     },
     "metadata": {},
     "output_type": "display_data"
    }
   ],
   "source": [
    "binom.test(y, n, p = 0.1, alternative = 't')"
   ]
  },
  {
   "cell_type": "markdown",
   "id": "3c031556-dad2-4d15-8dd9-d10325853ac7",
   "metadata": {},
   "source": [
    "The value $\\hat{y}$ is inside the accepted region.\n",
    "\n",
    "In the case of Bayesian test we already know the results looking at the 95% credibility interval limits. They contains the value $0.1$, so the the null hypothesis will not be rejected. Anyway, computing the area under the pdf it is way bigger than $\\frac{\\alpha}{2}$:"
   ]
  },
  {
   "cell_type": "code",
   "execution_count": 26,
   "id": "1f7bc91e-f058-466e-945c-177659daf9ed",
   "metadata": {},
   "outputs": [
    {
     "name": "stdout",
     "output_type": "stream",
     "text": [
      "Bayesian p = 0.385815"
     ]
    }
   ],
   "source": [
    "#Bayesian\n",
    "pv.bay <- 1 - pbeta(0.1, shape1 = a.o, shape2 = b.o)\n",
    "cat('Bayesian p =', pv.bay)"
   ]
  },
  {
   "cell_type": "code",
   "execution_count": 27,
   "id": "ac44daa5-dd7d-4f66-8b28-c3977edcf442",
   "metadata": {},
   "outputs": [
    {
     "name": "stderr",
     "output_type": "stream",
     "text": [
      "Warning message:\n",
      "\"Removed 800 rows containing missing values (position_stack).\"\n",
      "Warning message:\n",
      "\"Removed 700 row(s) containing missing values (geom_path).\"\n"
     ]
    },
    {
     "data": {
      "image/png": "[encoded data removed]",
      "text/plain": [
       "plot without title"
      ]
     },
     "metadata": {
      "image/png": {
       "height": 360,
       "width": 600
      }
     },
     "output_type": "display_data"
    }
   ],
   "source": [
    "fig(10, 6)\n",
    "q <- ggplot(data.frame(p, post), aes(x = p, y = post))\n",
    "q + geom_line(size = 1.5, color = 'forestgreen') + \n",
    "geom_area(aes(ifelse(p>= 0.1, p, NA)), fill = 'forestgreen', alpha = 0.5) + xlim(0, 0.3) +\n",
    "ylab('posterior') +\n",
    "geom_vline(xintercept = 0.1, col = 'black', size = 1, linetype = 'dashed') +\n",
    "theme(axis.title.x = element_text(size=14), axis.text.x = element_text(size=12)) +\n",
    "theme(axis.title.y = element_text(size=14), axis.text.y = element_text(size=12))"
   ]
  },
  {
   "cell_type": "markdown",
   "id": "ec8b6518-1dd5-48aa-8f66-c2d1797dca09",
   "metadata": {},
   "source": [
    "### New data"
   ]
  },
  {
   "cell_type": "code",
   "execution_count": 28,
   "id": "c4da3f70-f705-4e13-a4f8-2caf39ed1030",
   "metadata": {},
   "outputs": [],
   "source": [
    "n <- 165\n",
    "y <- 9"
   ]
  },
  {
   "cell_type": "markdown",
   "id": "ed96b082-44f0-4ec2-b860-5aab2263a50d",
   "metadata": {},
   "source": [
    "e) $p_{freq} = \\frac{\\hat{y}}{n}$ "
   ]
  },
  {
   "cell_type": "code",
   "execution_count": 29,
   "id": "fff157af-c83b-4664-9883-a9c2626c8ab4",
   "metadata": {},
   "outputs": [
    {
     "data": {
      "text/html": [
       "0.0545454545454545"
      ],
      "text/latex": [
       "0.0545454545454545"
      ],
      "text/markdown": [
       "0.0545454545454545"
      ],
      "text/plain": [
       "[1] 0.05454545"
      ]
     },
     "metadata": {},
     "output_type": "display_data"
    }
   ],
   "source": [
    "best.freq <- y/n\n",
    "best.freq"
   ]
  },
  {
   "cell_type": "markdown",
   "id": "4ac5a4a4-2331-4908-99fe-7d5dcb29f8f7",
   "metadata": {},
   "source": [
    "f) Bayesian analysis:\n",
    "* $Beta(1,10)$ _prior_"
   ]
  },
  {
   "cell_type": "code",
   "execution_count": 30,
   "id": "597f25d4-4726-47dc-8563-bf7b95a050f8",
   "metadata": {},
   "outputs": [
    {
     "data": {
      "image/png": "[encoded data removed]",
      "text/plain": [
       "plot without title"
      ]
     },
     "metadata": {
      "image/png": {
       "height": 480,
       "width": 600
      }
     },
     "output_type": "display_data"
    }
   ],
   "source": [
    "a <- 1\n",
    "b <- 10\n",
    "\n",
    "p <- seq(0, 1, 0.001)\n",
    "prior <- dbeta(p, shape1 = a, shape2 = b)\n",
    "\n",
    "a_n <- a+y\n",
    "b_n <- b+n-y\n",
    "\n",
    "post1 <- dbeta(p, shape1 = a_n, shape2 = b_n)\n",
    "\n",
    "fig(10, 8)\n",
    "plot(p, post1, type = 'l', col = 'forestgreen', lwd = 2.5, ylab = 'PDF(p)', xlim = c(0, 0.4))\n",
    "lines(p, prior, type = 'l', col = 'forestgreen', lty = 5,  lwd = 2.5)\n",
    "legend('topright', inset = 0.01, legend = c('post.', 'prior'), col=c(\"forestgreen\", \"forestgreen\"), lty=1:5, cex=0.9, box.lty = 0)"
   ]
  },
  {
   "cell_type": "markdown",
   "id": "120d572f-b121-47b8-9475-fcffb7b964f1",
   "metadata": {},
   "source": [
    "* Old measurement _prior_ ($Beta$ distribution as well)"
   ]
  },
  {
   "cell_type": "code",
   "execution_count": 31,
   "id": "1c49c77d-63a5-49ef-b7a0-fabfe4bdb3fa",
   "metadata": {},
   "outputs": [
    {
     "data": {
      "image/png": "[encoded data removed]",
      "text/plain": [
       "plot without title"
      ]
     },
     "metadata": {
      "image/png": {
       "height": 480,
       "width": 600
      }
     },
     "output_type": "display_data"
    }
   ],
   "source": [
    "p <- seq(0, 1, 0.001)\n",
    "prior <- dbeta(p, shape1 = a.o, shape2 = b.o)\n",
    "\n",
    "a.f <- a.o+y\n",
    "b.f <- b.o+n-y\n",
    "\n",
    "post2 <- dbeta(p, shape1 = a.f, shape2 = b.f)\n",
    "\n",
    "fig(10, 8)\n",
    "plot(p, post2, type = 'l', col = 'forestgreen', lwd = 2.5, ylab = 'PDF(p)', xlim = c(0, 0.4))\n",
    "lines(p, prior, type = 'l', col = 'forestgreen', lty = 5,  lwd = 2.5)\n",
    "legend('topright', inset = 0.01, legend = c('post.', 'prior'), col=c(\"forestgreen\", \"forestgreen\"), lty=1:5, cex=0.9, box.lty = 0)"
   ]
  },
  {
   "cell_type": "markdown",
   "id": "a47ef96f-9499-4000-8589-64c2c921374a",
   "metadata": {},
   "source": [
    "g) Bayesian estimators \n",
    "* $Beta(1,10)$ _prior_"
   ]
  },
  {
   "cell_type": "code",
   "execution_count": 32,
   "id": "54bf33f5-d31e-42a6-b4d8-d9f95901483d",
   "metadata": {},
   "outputs": [
    {
     "name": "stdout",
     "output_type": "stream",
     "text": [
      "best estimator (mode) = 0.05172414 \n",
      "mean = 0.05681818 \n",
      "var = 0.0003027677 \n",
      "95% credibility interval = 0.02773918 - 0.09538012"
     ]
    }
   ],
   "source": [
    "best <- (a_n-1)/(a_n+b_n-2)\n",
    "mean <- (a_n)/(a_n+b_n)\n",
    "var <- (a_n*b_n)/(a_n+b_n)^2/(a_n+b_n+1)\n",
    "ls <- qbeta(0.025, shape1 = a_n, shape2 = b_n)\n",
    "ld <- qbeta(0.975, shape1 = a_n, shape2 = b_n)\n",
    "cat('best estimator (mode) =', best, '\\nmean =', mean, '\\nvar =', var, \n",
    "    '\\n95% credibility interval =', ls, '-', ld)"
   ]
  },
  {
   "cell_type": "markdown",
   "id": "01f23480-1a10-43da-9956-369f96ac5a44",
   "metadata": {},
   "source": [
    "* Old measurement _prior_ ($Beta$ distribution as well)"
   ]
  },
  {
   "cell_type": "code",
   "execution_count": 33,
   "id": "efe96929-9b1a-4579-af54-a33d64857878",
   "metadata": {},
   "outputs": [
    {
     "name": "stdout",
     "output_type": "stream",
     "text": [
      "best estimator (mode) = 0.06896552 \n",
      "mean = 0.07191781 \n",
      "var = 0.0002278008 \n",
      "95% credibility interval = 0.04522356 - 0.1041519"
     ]
    }
   ],
   "source": [
    "best <- (a.f-1)/(a.f+b.f-2)\n",
    "mean <- (a.f)/(a.f+b.f)\n",
    "var <- (a.f*b.f)/(a.f+b.f)^2/(a.f+b.f+1)\n",
    "ls <- qbeta(0.025, shape1 = a.f, shape2 = b.f)\n",
    "ld <- qbeta(0.975, shape1 = a.f, shape2 = b.f)\n",
    "cat('best estimator (mode) =', best, '\\nmean =', mean, '\\nvar =', var, \n",
    "    '\\n95% credibility interval =', ls, '-', ld)"
   ]
  },
  {
   "cell_type": "markdown",
   "id": "95def441-b661-4592-8df0-3afffb0e0cae",
   "metadata": {},
   "source": [
    "d) Hypothesis test ($\\alpha = 0.05$)\n",
    "* $H_0 : p= 0.1$\n",
    "* $H1 : p \\neq 0.1$\n",
    "\n",
    "(this is a two tailed test)\n",
    "\n",
    "For the frequentist approach we can computed the _p-value_, as explained before, and compare it with $\\alpha$."
   ]
  },
  {
   "cell_type": "code",
   "execution_count": 34,
   "id": "88e8505a-2e45-4974-94f6-03339759ad55",
   "metadata": {},
   "outputs": [
    {
     "name": "stdout",
     "output_type": "stream",
     "text": [
      "frequentist p_value = 0.0511155"
     ]
    }
   ],
   "source": [
    "binom_two_tailed <- function(y){\n",
    "    pvalue <- pbinom(y, size = n, prob = 0.1)\n",
    "    i <- y*5\n",
    "    pcut <- dbinom(y, size = n, prob = 0.1)\n",
    "    while(dbinom(i, size = n, prob = 0.1) < pcut){\n",
    "        i <- i-1\n",
    "    }\n",
    "    pvalue <- pvalue + 1 - pbinom(i, size = n, prob = 0.1)\n",
    "    pvalue\n",
    "}\n",
    "p_v <- binom_two_tailed(9)\n",
    "cat('frequentist p_value =', p_v)"
   ]
  },
  {
   "cell_type": "code",
   "execution_count": 35,
   "id": "99f3a287-38aa-499a-8b87-f6a75a493414",
   "metadata": {},
   "outputs": [
    {
     "data": {
      "text/plain": [
       "\n",
       "\tExact binomial test\n",
       "\n",
       "data:  y and n\n",
       "number of successes = 9, number of trials = 165, p-value = 0.05112\n",
       "alternative hypothesis: true probability of success is not equal to 0.1\n",
       "95 percent confidence interval:\n",
       " 0.02524192 0.10101679\n",
       "sample estimates:\n",
       "probability of success \n",
       "            0.05454545 \n"
      ]
     },
     "metadata": {},
     "output_type": "display_data"
    }
   ],
   "source": [
    "binom.test(y, n, p = 0.1, alternative = 't')"
   ]
  },
  {
   "cell_type": "markdown",
   "id": "7d9654ae-b0d8-4cfd-97a2-332406d9567c",
   "metadata": {},
   "source": [
    "Notice that the _p-value_ is slightly greater than $\\alpha$, we cannot reject the null hypothesis. Also there is a borderline case. Computing the 2.5% percentile of distribution we have that it coincides with $\\hat{y}$."
   ]
  },
  {
   "cell_type": "code",
   "execution_count": 36,
   "id": "570c89d3-e4f9-4323-8bc8-24d9f24992d2",
   "metadata": {},
   "outputs": [
    {
     "data": {
      "text/html": [
       "9"
      ],
      "text/latex": [
       "9"
      ],
      "text/markdown": [
       "9"
      ],
      "text/plain": [
       "[1] 9"
      ]
     },
     "metadata": {},
     "output_type": "display_data"
    }
   ],
   "source": [
    "#2.5 percentile\n",
    "qbinom(0.025, size = n, prob = 0.1)"
   ]
  },
  {
   "cell_type": "markdown",
   "id": "8e246f57-caab-4098-88bd-c94ea8e71af7",
   "metadata": {},
   "source": [
    "In the case of Bayesian test on the two posterior computed we already know the results looking at the 95% credibility interval limits. \n",
    "* The first interval ($Beta(1, 10)$) does not contain the value $0.1$, so the the null hypothesis will be rejected.\n",
    "* The second interval (old measurement prior) does contain the value $0.1$, so the the null hypothesis will NOT be rejected."
   ]
  },
  {
   "cell_type": "code",
   "execution_count": 37,
   "id": "80658c9e-eeff-4a04-b420-e5ba7dfbba43",
   "metadata": {},
   "outputs": [
    {
     "name": "stderr",
     "output_type": "stream",
     "text": [
      "Warning message:\n",
      "\"Removed 900 rows containing missing values (position_stack).\"\n",
      "Warning message:\n",
      "\"Removed 800 row(s) containing missing values (geom_path).\"\n"
     ]
    },
    {
     "data": {
      "image/png": "[encoded data removed]",
      "text/plain": [
       "plot without title"
      ]
     },
     "metadata": {
      "image/png": {
       "height": 360,
       "width": 600
      }
     },
     "output_type": "display_data"
    }
   ],
   "source": [
    "fig(10, 6)\n",
    "q <- ggplot(data.frame(p, post1), aes(x = p, y = post1))\n",
    "q + geom_line(size = 1.5, color = 'forestgreen') + \n",
    "geom_area(aes(ifelse(p>= 0.1, p, NA)), fill = 'forestgreen', alpha = 0.5) + xlim(0, 0.2) +\n",
    "ylab('posterior') +\n",
    "geom_vline(xintercept = 0.1, col = 'black', size = 1, linetype = 'dashed') +\n",
    "theme(axis.title.x = element_text(size=14), axis.text.x = element_text(size=12)) +\n",
    "theme(axis.title.y = element_text(size=14), axis.text.y = element_text(size=12))"
   ]
  },
  {
   "cell_type": "code",
   "execution_count": 38,
   "id": "9d132c2a-4546-4397-bbd3-fee09242c214",
   "metadata": {},
   "outputs": [
    {
     "name": "stdout",
     "output_type": "stream",
     "text": [
      "Bayesian p = 0.01574077"
     ]
    }
   ],
   "source": [
    "#Bayesian1\n",
    "pv.bay <- 1 - pbeta(0.1, shape1 = a_n, shape2 = b_n)\n",
    "cat('Bayesian p =', pv.bay)"
   ]
  },
  {
   "cell_type": "code",
   "execution_count": 39,
   "id": "d5eedd13-f800-45a2-bd4b-a80125737fad",
   "metadata": {},
   "outputs": [
    {
     "name": "stderr",
     "output_type": "stream",
     "text": [
      "Warning message:\n",
      "\"Removed 900 rows containing missing values (position_stack).\"\n",
      "Warning message:\n",
      "\"Removed 800 row(s) containing missing values (geom_path).\"\n"
     ]
    },
    {
     "data": {
      "image/png": "[encoded data removed]",
      "text/plain": [
       "plot without title"
      ]
     },
     "metadata": {
      "image/png": {
       "height": 360,
       "width": 600
      }
     },
     "output_type": "display_data"
    }
   ],
   "source": [
    "fig(10, 6)\n",
    "q <- ggplot(data.frame(p, post2), aes(x = p, y = post2))\n",
    "q + geom_line(size = 1.5, color = 'forestgreen') + \n",
    "geom_area(aes(ifelse(p>= 0.1, p, NA)), fill = 'forestgreen', alpha = 0.5) + xlim(0, 0.2) +\n",
    "ylab('posterior') +\n",
    "geom_vline(xintercept = 0.1, col = 'black', size = 1, linetype = 'dashed') +\n",
    "theme(axis.title.x = element_text(size=14), axis.text.x = element_text(size=12)) +\n",
    "theme(axis.title.y = element_text(size=14), axis.text.y = element_text(size=12))"
   ]
  },
  {
   "cell_type": "code",
   "execution_count": 40,
   "id": "da78d093-4a49-47e6-85eb-2e0f9a8302cc",
   "metadata": {},
   "outputs": [
    {
     "name": "stdout",
     "output_type": "stream",
     "text": [
      "Bayesian p = 0.04117008"
     ]
    }
   ],
   "source": [
    "#Bayesian2\n",
    "pv.bay <- 1-pbeta(0.1, shape1 = a.f, shape2 = b.f)\n",
    "cat('Bayesian p =', pv.bay)"
   ]
  },
  {
   "cell_type": "markdown",
   "id": "83aef9e4-9b22-4aca-8dfe-2f9a1c147931",
   "metadata": {},
   "source": [
    "The probabilities computed confirm what we have said. "
   ]
  },
  {
   "cell_type": "code",
   "execution_count": null,
   "id": "2e93bb0d-5101-4c64-88bf-88320afec5e1",
   "metadata": {},
   "outputs": [],
   "source": []
  }
 ],
 "metadata": {
  "kernelspec": {
   "display_name": "R",
   "language": "R",
   "name": "ir"
  },
  "language_info": {
   "codemirror_mode": "r",
   "file_extension": ".r",
   "mimetype": "text/x-r-source",
   "name": "R",
   "pygments_lexer": "r",
   "version": "4.1.0"
  }
 },
 "nbformat": 4,
 "nbformat_minor": 5
}
