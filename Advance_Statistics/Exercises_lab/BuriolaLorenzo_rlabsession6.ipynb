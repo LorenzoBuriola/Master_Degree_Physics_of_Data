{
 "cells": [
  {
   "cell_type": "markdown",
   "id": "058bb350-944f-486b-acde-3796c096d5de",
   "metadata": {},
   "source": [
    "## R labsession 6\n",
    "Buriola Lorenzo - 2021860"
   ]
  },
  {
   "cell_type": "code",
   "execution_count": 1,
   "id": "eae0e568-ecc6-43db-b45c-370a5e3e6f95",
   "metadata": {},
   "outputs": [],
   "source": [
    "#Function for sizing plots\n",
    "fig <- function(width, heigth){\n",
    "  options(repr.plot.width = width, repr.plot.height = heigth)\n",
    "}"
   ]
  },
  {
   "cell_type": "code",
   "execution_count": 2,
   "id": "6837454c-8a48-4204-8bec-02ce47b618b7",
   "metadata": {},
   "outputs": [],
   "source": [
    "#Library for multidimensional integrals\n",
    "library(cubature)"
   ]
  },
  {
   "cell_type": "markdown",
   "id": "b0cd81e6-d359-4dfe-859c-b570bdd5627e",
   "metadata": {},
   "source": [
    "## Exercise 1"
   ]
  },
  {
   "cell_type": "code",
   "execution_count": 3,
   "id": "c5ee9f66-8254-427c-9907-5fbd19f74752",
   "metadata": {},
   "outputs": [],
   "source": [
    "y <- c(4,1,3,1,3)\n",
    "mu <- seq(0, 7, 0.001)"
   ]
  },
  {
   "cell_type": "markdown",
   "id": "eb68a027-c198-4f7e-bbe8-fe07db64837d",
   "metadata": {},
   "source": [
    "a) __Uniform prior__\n",
    "\n",
    "Having a _likelihood_ which follows a __Poisson distribution__ and a _uniform prior_, the _posterior_ will be a $Gammma$ distribution with _shape_ $\\alpha = \\sum x_j + 1$ and $\\lambda = n$ ; ($n$ = number of data) "
   ]
  },
  {
   "cell_type": "code",
   "execution_count": 4,
   "id": "c4906fc1-e8a1-49e4-a0cf-975789b6af1c",
   "metadata": {},
   "outputs": [
    {
     "data": {
      "image/png": "[encoded data removed]",
      "text/plain": [
       "plot without title"
      ]
     },
     "metadata": {
      "image/png": {
       "height": 420,
       "width": 420
      }
     },
     "output_type": "display_data"
    }
   ],
   "source": [
    "prior <- rep(1/max(mu), length(mu))\n",
    "a1 <- sum(y) + 1\n",
    "l1 <- length(y)\n",
    "posterior <- dgamma(mu, shape = a1, rate = l1)\n",
    "plot(mu, posterior, type = 'l', lwd = 3, col = 'blue')\n",
    "lines(mu, prior, lwd = 3, col = 'blue', lty = 5)"
   ]
  },
  {
   "cell_type": "code",
   "execution_count": 5,
   "id": "d403b23d-3b47-4070-b135-c69e61f29a64",
   "metadata": {},
   "outputs": [
    {
     "name": "stdout",
     "output_type": "stream",
     "text": [
      "Mean: 2.6 ; Numerical est: 2.6"
     ]
    }
   ],
   "source": [
    "m1 <- a1/l1\n",
    "Ex <- function(x){\n",
    "    x*dgamma(x, shape = a1, rate = l1)\n",
    "}\n",
    "m_N <-integrate(Ex, lower = 0, upper = 100)$value\n",
    "cat('Mean:', m1, '; Numerical est:', m_N)"
   ]
  },
  {
   "cell_type": "code",
   "execution_count": 6,
   "id": "52f64f07-8ee3-404a-b8c3-019767fc70d6",
   "metadata": {},
   "outputs": [
    {
     "name": "stdout",
     "output_type": "stream",
     "text": [
      "Variance: 0.52 ; Numerical est: 0.52"
     ]
    }
   ],
   "source": [
    "var1 <- a1/l1^2\n",
    "Ex2 <- function(x){\n",
    "    x^2*dgamma(x, shape = a1, rate = l1)\n",
    "}\n",
    "var_N <-integrate(Ex2, lower = 0, upper = 100)$value - m_N^2\n",
    "cat('Variance:', var1, '; Numerical est:', var_N)"
   ]
  },
  {
   "cell_type": "code",
   "execution_count": 7,
   "id": "6633cbf4-f33e-41c7-8ad4-2541db308046",
   "metadata": {},
   "outputs": [
    {
     "name": "stdout",
     "output_type": "stream",
     "text": [
      "Median: 2.533646"
     ]
    }
   ],
   "source": [
    "median <- qgamma(0.5, shape = a1, rate = l1)\n",
    "cat('Median:', median)"
   ]
  },
  {
   "cell_type": "markdown",
   "id": "e60ee65e-006d-4f76-b6f9-8b8cce161066",
   "metadata": {},
   "source": [
    "b) __Jeffrey's prior__\n",
    "\n",
    "In this case the _posterior_ will be: $Gamma(\\alpha, \\lambda)$ with $\\alpha = \\sum x_j + \\frac{1}{2}$ and $\\lambda = n$."
   ]
  },
  {
   "cell_type": "code",
   "execution_count": 8,
   "id": "6c8aa42f-cddd-47db-9763-70a41a6748d0",
   "metadata": {},
   "outputs": [
    {
     "data": {
      "image/png": "[encoded data removed]",
      "text/plain": [
       "plot without title"
      ]
     },
     "metadata": {
      "image/png": {
       "height": 420,
       "width": 420
      }
     },
     "output_type": "display_data"
    }
   ],
   "source": [
    "f <- function(x){\n",
    "    1/sqrt(x)\n",
    "}\n",
    "prior <- 1/sqrt(mu)/integrate(f, lower = 0, upper = 7)$value\n",
    "a2 <- sum(y) + 0.5\n",
    "l2 <- length(y)\n",
    "posterior <- dgamma(mu, shape = a2, rate = l2)\n",
    "plot(mu, posterior, type = 'l', lwd = 3, col = 'blue')\n",
    "lines(mu, prior, lwd = 3, col = 'blue', lty = 5)"
   ]
  },
  {
   "cell_type": "code",
   "execution_count": 9,
   "id": "048e500a-0a0a-421a-9aaa-fc8699e8c4a5",
   "metadata": {},
   "outputs": [
    {
     "name": "stdout",
     "output_type": "stream",
     "text": [
      "Mean: 2.5 ; Numerical est: 2.5"
     ]
    }
   ],
   "source": [
    "m2 <- a2/l2\n",
    "f <- function(x){\n",
    "    x*dgamma(x, shape = a2, rate = l2)\n",
    "}\n",
    "m_N <-integrate(f, lower = 0, upper = 100)$value\n",
    "cat('Mean:', m2, '; Numerical est:', m_N)"
   ]
  },
  {
   "cell_type": "code",
   "execution_count": 10,
   "id": "72e19e3c-9c60-4df9-b274-372d470c41f9",
   "metadata": {},
   "outputs": [
    {
     "name": "stdout",
     "output_type": "stream",
     "text": [
      "Variance: 0.5 ; Numerical est: 0.5"
     ]
    }
   ],
   "source": [
    "var2 <- a2/l2^2\n",
    "f <- function(x){\n",
    "    x^2*dgamma(x, shape = a2, rate = l2)\n",
    "}\n",
    "var_N <-integrate(f, lower = 0, upper = 100)$value - m_N^2\n",
    "cat('Variance:', var2, '; Numerical est:', var_N)"
   ]
  },
  {
   "cell_type": "code",
   "execution_count": 11,
   "id": "a8230af5-d67b-47c7-8306-03fb6e61d8a5",
   "metadata": {},
   "outputs": [
    {
     "name": "stdout",
     "output_type": "stream",
     "text": [
      "Median: 2.433659"
     ]
    }
   ],
   "source": [
    "median <- qgamma(0.5, shape = a2, rate = l2)\n",
    "cat('Median:', median)"
   ]
  },
  {
   "cell_type": "markdown",
   "id": "9d10b073-0b96-4c43-b077-f9e4a98e414b",
   "metadata": {},
   "source": [
    "c) __Credibility intervals__\n",
    "\n",
    "1) Uniform prior"
   ]
  },
  {
   "cell_type": "code",
   "execution_count": 12,
   "id": "680fdd9b-c82e-4a8a-9b81-8b3d3e8998cc",
   "metadata": {},
   "outputs": [
    {
     "name": "stdout",
     "output_type": "stream",
     "text": [
      "95% Gamma distribution credibility interval:\t 1.38439 - 4.192317 \n",
      "95% Normal approx. credibility interval:\t 1.18665 - 4.01335 \n"
     ]
    }
   ],
   "source": [
    "#1\n",
    "ls <- qgamma(0.025, shape = a1, rate = l1)\n",
    "ld <- qgamma(0.975, shape = a1, rate = l1)\n",
    "cat('95% Gamma distribution credibility interval:\\t', ls, '-', ld, '\\n')\n",
    "\n",
    "lsG <- qnorm(0.025, mean = m1, sd = sqrt(var1))\n",
    "ldG <- qnorm(0.975, mean = m1, sd = sqrt(var1))\n",
    "cat('95% Normal approx. credibility interval:\\t', lsG, '-', ldG, '\\n')"
   ]
  },
  {
   "cell_type": "markdown",
   "id": "5af22c7b-2293-4eb2-adb9-7cf3ca265c0e",
   "metadata": {},
   "source": [
    "2) Jeffrey's prior"
   ]
  },
  {
   "cell_type": "code",
   "execution_count": 13,
   "id": "1f7e9903-4edb-42e0-b1c4-71e19f64e4ad",
   "metadata": {},
   "outputs": [
    {
     "name": "stdout",
     "output_type": "stream",
     "text": [
      "95% Gamma distribution credibility interval:\t 1.311972 - 4.064647 \n",
      "95% Normal approx. credibility interval:\t 1.114096 - 3.885904 \n"
     ]
    }
   ],
   "source": [
    "#2\n",
    "ls <- qgamma(0.025, shape = a2, rate = l2)\n",
    "ld <- qgamma(0.975, shape = a2, rate = l2)\n",
    "cat('95% Gamma distribution credibility interval:\\t', ls, '-', ld, '\\n')\n",
    "\n",
    "lsG <- qnorm(0.025, mean = m2, sd = sqrt(var2))\n",
    "ldG <- qnorm(0.975, mean = m2, sd = sqrt(var2))\n",
    "cat('95% Normal approx. credibility interval:\\t', lsG, '-', ldG, '\\n')"
   ]
  },
  {
   "cell_type": "markdown",
   "id": "4d3d57d4-3d18-41cc-a26c-54a7d4d8f14d",
   "metadata": {},
   "source": [
    "## Exercise 2"
   ]
  },
  {
   "cell_type": "markdown",
   "id": "9d4fa387-0e6f-4e82-8b45-3a609214d92a",
   "metadata": {},
   "source": [
    "#### Data Generation\n",
    "\n",
    "The likelihood of the model is a __Cauchy__ distribution, that comes out considering a uniform distribution for the angle of emission of light. Generating the data we will use random Cauchy distributed numbers. $A$ and $B$ will be our true values."
   ]
  },
  {
   "cell_type": "code",
   "execution_count": 14,
   "id": "827d75b1-85c7-4034-b4b1-d18110a725fd",
   "metadata": {},
   "outputs": [],
   "source": [
    "#Seed for reproducibility\n",
    "set.seed(123)\n",
    "A <- 2\n",
    "B <- 10\n",
    "data <- rcauchy(100, scale =  B, location = A)"
   ]
  },
  {
   "cell_type": "markdown",
   "id": "0bacad50-3fcd-4dab-b768-28acf57737ee",
   "metadata": {},
   "source": [
    "#### Data Analysis\n",
    "\n",
    "For simplicity the log likelihood is used. We assume a uniform prior for the two parameters (this means that $p(\\alpha)$ is independent on $p(\\beta)$)."
   ]
  },
  {
   "cell_type": "code",
   "execution_count": 15,
   "id": "13c75779-122d-438a-9bd1-771f1eb2406c",
   "metadata": {},
   "outputs": [],
   "source": [
    "loglike <- function(p, x){\n",
    "    sum(log(p[2]/(p[2]^2+(x-p[1])^2)))\n",
    "}\n",
    "\n",
    "\n",
    "posterior <- function(p, x){\n",
    "    exp(loglike(p, x))\n",
    "}\n",
    "\n",
    "a_min <- -10\n",
    "a_max <- 10\n",
    "b_min <- 5\n",
    "b_max <- 25\n",
    "\n",
    "a_list <- seq(a_min, a_max, length.out = 100)\n",
    "b_list <- seq(b_min, b_max, length.out = 100)\n",
    "p_list <- expand.grid(a_list, b_list)\n",
    "\n",
    "prior_a <- rep(1/(a_max-a_min), length(a_list))\n",
    "prior_b <- rep(1/(b_max-b_min), length(b_list))"
   ]
  },
  {
   "cell_type": "markdown",
   "id": "18be50e1-75af-4184-8b17-9fe1dc91b125",
   "metadata": {},
   "source": [
    "In the next cell the _posterior_ is computed considering a progressively increasing number of data. The posterioir is normalize using the function _adaptIntegrate_. Finally some plots are produced. These are contour plots that show the development of the _posterior_ $PDF(\\alpha,\\beta)$."
   ]
  },
  {
   "cell_type": "code",
   "execution_count": null,
   "id": "94232c45-0746-4813-bfc1-c94f8d43dac8",
   "metadata": {},
   "outputs": [],
   "source": [
    "fig(18, 25)\n",
    "par(mfrow = c(4,2))\n",
    "#par(mar = c(3,3,3,3))\n",
    "n_data <- c(1, 2, 5, 10, 20, 50, 100)\n",
    "for (n in n_data){\n",
    "    Norm <- adaptIntegrate(posterior, lowerLimit = c(a_min, b_min), upperLimit = c(a_max, b_max), x = data[1:n])$integral\n",
    "    PP <- apply(p_list, 1, posterior, x = data[1:n])/Norm\n",
    "    PP <- matrix(PP, nrow = length(a_list))\n",
    "    contour(a_list, b_list, PP, xlab = 'alpha', ylab = 'beta', main = paste('Posterior after', as.character(n), 'measurements'), cex.axis = 1.5, cex.lab = 1.5, cex.main = 2)\n",
    "}"
   ]
  },
  {
   "cell_type": "markdown",
   "id": "c7596bba-b642-4d8e-ac49-0ba387c5739a",
   "metadata": {},
   "source": [
    "Let us show the final PDF after 100 measurements in a coloured contou plot and 3D plot"
   ]
  },
  {
   "cell_type": "code",
   "execution_count": null,
   "id": "6d72455f-a38a-4ae2-9abd-29cec7d6c9c6",
   "metadata": {},
   "outputs": [],
   "source": [
    "fig(10,8)\n",
    "filled.contour(a_list, b_list, PP, xlab = 'alpha', ylab = 'beta', main = paste('Posterior after', as.character(n), 'measurements'))"
   ]
  },
  {
   "cell_type": "code",
   "execution_count": null,
   "id": "4836b871-8843-4d98-9f31-0fba5d99fc79",
   "metadata": {},
   "outputs": [],
   "source": [
    "fig(10,10)\n",
    "persp(a_list, b_list, PP, col = 'green', theta = -30, phi = 30, axes = T, ticktype = 'detailed', xlab = 'alpha', ylab = 'beta', )"
   ]
  },
  {
   "cell_type": "markdown",
   "id": "d90560d1-0006-4b37-b44a-362cf29aad8a",
   "metadata": {},
   "source": [
    "Using the function _optim_ we can find the minimum of a target function. If we define _f_ to be the _posterior_ multiplied by $-1$ we can find our best estimation of parameters $\\alpha$ and $\\beta$. Which are close to the true values ($A = 2$, $B = 10$)"
   ]
  },
  {
   "cell_type": "code",
   "execution_count": null,
   "id": "2e981e01-f51a-48c8-83df-d96f0caca539",
   "metadata": {},
   "outputs": [],
   "source": [
    "Norm <- adaptIntegrate(posterior, lowerLimit = c(a_min, b_min), upperLimit = c(a_max, b_max), x = data)$integral"
   ]
  },
  {
   "cell_type": "code",
   "execution_count": null,
   "id": "d09d24b8-01be-44da-959a-9dc2a8aeb65b",
   "metadata": {},
   "outputs": [],
   "source": [
    "f <- function(p, x){\n",
    "    -1*posterior(p,x)/Norm\n",
    "}\n",
    "best <- optim(c(1, 5), f, x = data)$par\n",
    "cat('The best estimation for alpha and beta parameters are:\\nalpha =', best[1], '\\nbeta =', best[2])"
   ]
  },
  {
   "cell_type": "markdown",
   "id": "826c3fe6-78ec-42bb-8ca9-274f9e2c055f",
   "metadata": {},
   "source": [
    "## Exercise 3\n",
    "\n",
    "* ### Width Analysis"
   ]
  },
  {
   "cell_type": "markdown",
   "id": "b2a6d07b-9df5-4346-b109-db39c65e3270",
   "metadata": {},
   "source": [
    "We want to study the effects of varying the signal __width__ in a Signal+Background problem.\n",
    "Also in this case the loglikelihood and logposterior are used for simplicity. We used a unifor prior in the A;B space.\n",
    "In the next cell the _posteriors_ are computed for different __w__."
   ]
  },
  {
   "cell_type": "code",
   "execution_count": null,
   "id": "e1e89345-1b87-4ba1-a977-fb195a90813f",
   "metadata": {},
   "outputs": [],
   "source": [
    "set.seed(12)\n",
    "signal <- function(x, a, b, x0, w, t) {\n",
    "    t*(a*exp(-(x-x0)^2/(2*w^2)) + b)\n",
    "}\n",
    "\n",
    "x0 <- 0\n",
    "A.true <- 2\n",
    "B.true <- 1 \n",
    "Dt <- 5"
   ]
  },
  {
   "cell_type": "markdown",
   "id": "c6e7ecc0-650c-461e-aa0d-fdf0653a31c8",
   "metadata": {},
   "source": [
    "Vector of widths"
   ]
  },
  {
   "cell_type": "code",
   "execution_count": null,
   "id": "5272d2d2-fd94-477d-a50a-60006e96e95c",
   "metadata": {},
   "outputs": [],
   "source": [
    "ws <- c(0.1, 0.25, 1, 2, 3)"
   ]
  },
  {
   "cell_type": "markdown",
   "id": "20ff5a26-5c9f-4a67-a32d-50c6e311055e",
   "metadata": {},
   "source": [
    "In the next plots, the initial signal and the poisson counts are reported for different values of the parameter __w__."
   ]
  },
  {
   "cell_type": "code",
   "execution_count": null,
   "id": "627a8127-a5c4-42ca-a93b-cff7d200b7a7",
   "metadata": {},
   "outputs": [],
   "source": [
    "a_min <- 0\n",
    "a_max <- 4\n",
    "b_min <- 0.5\n",
    "b_max <- 1.5\n",
    "\n",
    "a_list <- seq(a_min, a_max, length.out = 100)\n",
    "b_list <- seq(b_min, b_max, length.out = 100)\n",
    "p_list <- expand.grid(a_list, b_list)\n",
    "\n",
    "delta_a <- a_list[2]-a_list[1]\n",
    "delta_b <- b_list[2]-b_list[1]"
   ]
  },
  {
   "cell_type": "markdown",
   "id": "6cad63f8-55dd-4b1b-8462-5ddd4b5b0f58",
   "metadata": {},
   "source": [
    "In the next plots the original data are shown. The final posterior with the two marginalized distribution are also plotted."
   ]
  },
  {
   "cell_type": "code",
   "execution_count": null,
   "id": "02db1898-e695-4eb8-9546-d90cde209c71",
   "metadata": {},
   "outputs": [],
   "source": [
    "loglike <- function(p, d, x, x0, w, t){\n",
    "    sum(dpois(d, lambda=signal(x, p[1], p[2], x0, w, t), log=TRUE))\n",
    "}\n",
    "\n",
    "\n",
    "posterior <- function(p, d, x, x0, w, t){\n",
    "    exp(loglike(p, d, x, x0, w, t))\n",
    "}\n",
    "\n",
    "fig(12, 10)\n",
    "par(mfrow = c(2, 2))\n",
    "\n",
    "M_a <- c()\n",
    "M_b <- c()\n",
    "SD_a <- c()\n",
    "SD_b <- c()\n",
    "\n",
    "for (w in ws){\n",
    "    \n",
    "    xdat <- seq(from=-7, to=7, by=0.5)\n",
    "    s.true <- signal(xdat , A.true , B.true , x0, w, Dt)\n",
    "    ddat <- rpois(length(s.true), s.true)\n",
    "    xplot <- seq(from=min(xdat), to=max(xdat), by=0.05*w)\n",
    "    splot <- signal(xplot , A.true , B.true , x0, w, Dt)\n",
    "    xdat.off <- xdat - 0.25*w\n",
    "    plot(xdat.off, ddat , type='s', col='forestgreen', lwd=3, xlab=\"x\", ylab=\"counts\", main = paste('w =', as.character(w)))\n",
    "    lines(xplot , splot, lwd = 3, col = 'orange')\n",
    "    \n",
    "\n",
    "    Norm <- adaptIntegrate(posterior, lowerLimit = c(a_min, b_min), upperLimit = c(a_max, b_max), d = ddat, x = xdat, x0 = x0, w = w, t = Dt)$integral\n",
    "    PP <- apply(p_list, 1, posterior, d = ddat, x = xdat, x0 = x0, w = w, t = Dt)/Norm\n",
    "    PP <- matrix(PP, nrow = length(a_list))\n",
    "    \n",
    "    p_a_D <- apply(PP, 1, sum)\n",
    "    p_a_D <- p_a_D/(delta_a*sum(p_a_D))\n",
    "    p_b_D <- apply(PP, 2, sum)\n",
    "    p_b_D <- p_b_D/(delta_b*sum(p_b_D))\n",
    "    \n",
    "    mean_a <- delta_a * sum(a_list * p_a_D)\n",
    "    M_a <- append(M_a, mean_a)\n",
    "    mean_b <- delta_b * sum(b_list * p_b_D)\n",
    "    M_b <- append(M_b, mean_b)\n",
    "    sd_a <- sqrt(delta_a * sum((a_list-mean_a)^2 * p_a_D))\n",
    "    SD_a <- append(SD_a, sd_a)\n",
    "    sd_b <- sqrt(delta_b * sum((b_list-mean_b)^2 * p_b_D))\n",
    "    SD_b <- append(SD_b, sd_b)\n",
    "    \n",
    "    plot(a_list, p_a_D, xlab= \"Amplitude\", ylab=\"P(A | D)\", type=\"l\", lwd=2.5, col = 'red')\n",
    "    abline(v = A.true, lty = 2)\n",
    "    plot(p_b_D, b_list, ylab= \"Background\", xlim = rev(range(p_b_D)), xlab=\"P(B | D)\", type=\"l\", lwd=2.5, col = 'blue')\n",
    "    abline(h = B.true, lty = 2)\n",
    "    \n",
    "    contour(a_list, b_list, PP, lwd = 2, xlab=\"amplitude , A\", ylab=\"background , B\") \n",
    "    abline(v=2,h=1,col=\"grey\")\n",
    "}"
   ]
  },
  {
   "cell_type": "code",
   "execution_count": null,
   "id": "add0011c-aaf1-449e-b14d-48cf9be73a7d",
   "metadata": {},
   "outputs": [],
   "source": [
    "fig(18, 6)\n",
    "par(mfrow = c(1, 2))\n",
    "plot(ws, M_a, pch = 19, lwd = 7, cex.axis = 1.5, cex.lab = 1.5, xlab = 'w', ylab = 'mean A', ylim = c(0.5, 3))\n",
    "arrows(ws, M_a-SD_a, ws, M_a+SD_a, angle = 90, code = 3)\n",
    "abline(h = A.true, col = 'grey')\n",
    "plot(ws, M_b, pch = 19, lwd = 7, cex.axis = 1.5, cex.lab = 1.5, xlab = 'w', ylab = 'mean B', ylim = c(0.7, 1.3))\n",
    "arrows(ws, M_b-SD_b, ws, M_b+SD_b, angle = 90, code = 3)\n",
    "abline(h = B.true, col = 'grey')"
   ]
  },
  {
   "cell_type": "markdown",
   "id": "bdf953b0-5691-432e-8acf-4e0823e8d6e7",
   "metadata": {},
   "source": [
    "At first sight we cannot see the impact of changing __w__ in parameter recognition performance."
   ]
  },
  {
   "cell_type": "markdown",
   "id": "87922c49-4db6-4839-9d66-a9c57fd1a3a9",
   "metadata": {},
   "source": [
    "* ### A/B analysis"
   ]
  },
  {
   "cell_type": "markdown",
   "id": "b791d2d9-1161-4262-95bb-62a7a98ac57b",
   "metadata": {},
   "source": [
    "We want to study the effects of varying the signal ratio between the Amplitude and the Background."
   ]
  },
  {
   "cell_type": "code",
   "execution_count": null,
   "id": "05b4e67f-cfd8-453e-842d-50adc68a7556",
   "metadata": {},
   "outputs": [],
   "source": [
    "x0 <- 0\n",
    "A.true <- c(0.5, 1, 2, 5, 10)\n",
    "B.true <- 1 \n",
    "w <- 1\n",
    "Dt <- 5"
   ]
  },
  {
   "cell_type": "code",
   "execution_count": null,
   "id": "a15e8d7c-239f-4494-84df-1f5b185a6237",
   "metadata": {},
   "outputs": [],
   "source": [
    "a_min <- 0\n",
    "a_max <- 12\n",
    "b_min <- 0.5\n",
    "b_max <- 1.5\n",
    "\n",
    "a_list <- seq(a_min, a_max, length.out = 100)\n",
    "b_list <- seq(b_min, b_max, length.out = 100)\n",
    "p_list <- expand.grid(a_list, b_list)\n",
    "\n",
    "\n",
    "delta_a <- a_list[2]-a_list[1]\n",
    "delta_b <- b_list[2]-b_list[1]"
   ]
  },
  {
   "cell_type": "markdown",
   "id": "1c8401e2-dd15-49aa-beb5-5219a29a6abf",
   "metadata": {},
   "source": [
    "Also in this case the initial data and the posterior are plotted."
   ]
  },
  {
   "cell_type": "code",
   "execution_count": null,
   "id": "0b7f3f4d-5ad7-4746-9738-618e0a0b52d4",
   "metadata": {},
   "outputs": [],
   "source": [
    "fig(12, 6)\n",
    "par(mfrow = c(1, 2))\n",
    "\n",
    "M_a <- c()\n",
    "M_b <- c()\n",
    "SD_a <- c()\n",
    "SD_b <- c()\n",
    "\n",
    "for (A in A.true)\n",
    "{\n",
    "    xdat <- seq(from=-7*w, to=7*w, by=0.5*w)\n",
    "    s.true <- signal(xdat , A , B.true , x0, w, Dt)\n",
    "    ddat <- rpois(length(s.true), s.true)\n",
    "    xplot <- seq(from=min(xdat), to=max(xdat), by=0.05*w)\n",
    "    splot <- signal(xplot , A , B.true , x0, w, Dt)\n",
    "    xdat.off <- xdat - 0.25*w\n",
    "    plot(xdat.off, ddat , type='s', col='forestgreen', lwd=3, xlab=\"x\", ylab=\"counts\", main = paste('A/B =', as.character(A/B.true)))\n",
    "    lines(xplot , splot, lwd = 3, col = 'orange')\n",
    "    \n",
    "\n",
    "    Norm <- adaptIntegrate(posterior, lowerLimit = c(a_min, b_min), upperLimit = c(a_max, b_max), d = ddat, x = xdat, x0 = x0, w = w, t = Dt)$integral\n",
    "    PP <- apply(p_list, 1, posterior, d = ddat, x = xdat, x0 = x0, w = w, t = Dt)/Norm\n",
    "    PP <- matrix(PP, nrow = length(a_list))\n",
    "    \n",
    "    p_a_D <- apply(PP, 1, sum)\n",
    "    p_a_D <- p_a_D/(delta_a*sum(p_a_D))\n",
    "    p_b_D <- apply(PP, 2, sum)\n",
    "    p_b_D <- p_b_D/(delta_b*sum(p_b_D))\n",
    "    \n",
    "    mean_a <- delta_a * sum(a_list * p_a_D)\n",
    "    M_a <- append(M_a, mean_a)\n",
    "    mean_b <- delta_b * sum(b_list * p_b_D)\n",
    "    M_b <- append(M_b, mean_b)\n",
    "    sd_a <- sqrt(delta_a * sum((a_list-mean_a)^2 * p_a_D))\n",
    "    SD_a <- append(SD_a, sd_a)\n",
    "    sd_b <- sqrt(delta_b * sum((b_list-mean_b)^2 * p_b_D))\n",
    "    SD_b <- append(SD_b, sd_b)\n",
    "    \n",
    "    plot(a_list, p_a_D, xlab= \"Amplitude\", ylab=\"P(A | D)\", type=\"l\", lwd=2.5, col = 'red')\n",
    "    abline(v = A, lty = 2)\n",
    "    plot(p_b_D, b_list, ylab= \"Background\", xlim = rev(range(p_b_D)), xlab=\"P(B | D)\", type=\"l\", lwd=2.5, col = 'blue')\n",
    "    abline(h = B.true, lty = 2)\n",
    "    \n",
    "    contour(a_list, b_list, PP, lwd = 2, xlab=\"amplitude , A\", ylab=\"background , B\") \n",
    "    abline(v=A,h=1,col=\"grey\")\n",
    "}"
   ]
  },
  {
   "cell_type": "code",
   "execution_count": null,
   "id": "5f4e3ab4-846c-4dc2-bf34-b86426df3eef",
   "metadata": {},
   "outputs": [],
   "source": [
    "fig(18, 6)\n",
    "par(mfrow = c(1, 2))\n",
    "plot(ws, M_a-A.true, pch = 19, lwd = 7, cex.axis = 1.5, cex.lab = 1.5, xlab = 'A/B', ylab = 'mean A - A', ylim = c(-2, 0.7))\n",
    "arrows(ws, M_a-A.true-SD_a, ws, M_a-A.true+SD_a, angle = 90, code = 3)\n",
    "abline(h = 0, col = 'grey')\n",
    "plot(ws, M_b, pch = 19, lwd = 7, cex.axis = 1.5, cex.lab = 1.5, xlab = 'A/B', ylab = 'mean B', ylim = c(0.7, 1.2))\n",
    "arrows(ws, M_b-SD_b, ws, M_b+SD_b, angle = 90, code = 3)\n",
    "abline(h = B.true, col = 'grey')"
   ]
  },
  {
   "cell_type": "markdown",
   "id": "e0f9b28c-bd64-4084-aa71-5916311f007e",
   "metadata": {},
   "source": [
    "Also in this case is difficult to understand the effect of changing the ratio in parameter recognition performance. "
   ]
  },
  {
   "cell_type": "code",
   "execution_count": null,
   "id": "fc8f3d3b-8800-4193-aaf7-8d05ade04793",
   "metadata": {},
   "outputs": [],
   "source": []
  }
 ],
 "metadata": {
  "kernelspec": {
   "display_name": "R",
   "language": "R",
   "name": "ir"
  },
  "language_info": {
   "codemirror_mode": "r",
   "file_extension": ".r",
   "mimetype": "text/x-r-source",
   "name": "R",
   "pygments_lexer": "r",
   "version": "4.1.0"
  }
 },
 "nbformat": 4,
 "nbformat_minor": 5
}
