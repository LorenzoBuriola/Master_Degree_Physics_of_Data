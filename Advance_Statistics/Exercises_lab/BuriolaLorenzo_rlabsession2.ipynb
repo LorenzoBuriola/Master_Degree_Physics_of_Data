{
 "cells": [
  {
   "cell_type": "code",
   "execution_count": 1,
   "id": "polar-jesus",
   "metadata": {},
   "outputs": [],
   "source": [
    "#libraries needed\n",
    "library(polynom)\n",
    "#This function allows to choose the dimensions of plots in the notebook\n",
    "fig <- function(width, heigth){\n",
    "    options(repr.plot.width = width, repr.plot.height = heigth)\n",
    "}\n",
    "set.seed(1234)"
   ]
  },
  {
   "cell_type": "markdown",
   "id": "anticipated-stamp",
   "metadata": {},
   "source": [
    "## Exercise 1"
   ]
  },
  {
   "cell_type": "code",
   "execution_count": 2,
   "id": "graphic-charleston",
   "metadata": {},
   "outputs": [],
   "source": [
    "x <- c(15.58, 15.9, 16, 16.1, 16.2)\n",
    "p1 <- c(0.15, 0.21, 0.35, 0.15, 0.14)\n",
    "p2 <- c(0.14, 0.05, 0.64, 0.08, 0.09)"
   ]
  },
  {
   "cell_type": "markdown",
   "id": "grateful-pencil",
   "metadata": {},
   "source": [
    "Applyng the definitions of $E[x]$ and $Var[x]$ for estimate them from the samples"
   ]
  },
  {
   "cell_type": "code",
   "execution_count": 3,
   "id": "polyphonic-tulsa",
   "metadata": {},
   "outputs": [
    {
     "name": "stdout",
     "output_type": "stream",
     "text": [
      "E_1 = 15.959 \tVar_1 = 0.033979\n",
      "E_2 = 15.9622 \tVar_2 = 0.02816716"
     ]
    }
   ],
   "source": [
    "E1 <- sum(x*p1)\n",
    "E2 <- sum(x*p2)\n",
    "Var1 <- sum((x-E1)^2 * p1)\n",
    "Var2 <- sum((x-E2)^2 * p2)\n",
    "cat('E_1 =', E1, '\\tVar_1 =', Var1)\n",
    "cat('\\nE_2 =', E2, '\\tVar_2 =', Var2)"
   ]
  },
  {
   "cell_type": "markdown",
   "id": "frank-uzbekistan",
   "metadata": {},
   "source": [
    "## Exercise 2"
   ]
  },
  {
   "cell_type": "code",
   "execution_count": 4,
   "id": "tracked-worst",
   "metadata": {},
   "outputs": [
    {
     "data": {
      "image/png": "[encoded data removed]",
      "text/plain": [
       "Plot with title \"\""
      ]
     },
     "metadata": {
      "image/png": {
       "height": 420,
       "width": 420
      }
     },
     "output_type": "display_data"
    }
   ],
   "source": [
    "lambda <- 1/30\n",
    "x <- rexp(50, lambda)\n",
    "hist(x, col = 'forestgreen', main = '')"
   ]
  },
  {
   "cell_type": "markdown",
   "id": "voluntary-christianity",
   "metadata": {},
   "source": [
    "For the calculation of the probability we use the cdf"
   ]
  },
  {
   "cell_type": "code",
   "execution_count": 5,
   "id": "radio-morrison",
   "metadata": {},
   "outputs": [
    {
     "name": "stdout",
     "output_type": "stream",
     "text": [
      "The probability that a person will wait for less than 10 minutes is:"
     ]
    },
    {
     "data": {
      "text/html": [
       "'0.28'"
      ],
      "text/latex": [
       "'0.28'"
      ],
      "text/markdown": [
       "'0.28'"
      ],
      "text/plain": [
       "[1] \"0.28\""
      ]
     },
     "metadata": {},
     "output_type": "display_data"
    }
   ],
   "source": [
    "p <- pexp(10, lambda)\n",
    "cat('The probability that a person will wait for less than 10 minutes is:')\n",
    "sprintf('%.2f', p)"
   ]
  },
  {
   "cell_type": "code",
   "execution_count": 6,
   "id": "congressional-alert",
   "metadata": {},
   "outputs": [
    {
     "data": {
      "text/html": [
       "29.6752301211249"
      ],
      "text/latex": [
       "29.6752301211249"
      ],
      "text/markdown": [
       "29.6752301211249"
      ],
      "text/plain": [
       "[1] 29.67523"
      ]
     },
     "metadata": {},
     "output_type": "display_data"
    }
   ],
   "source": [
    "x_bar <- mean(x)\n",
    "x_bar"
   ]
  },
  {
   "cell_type": "markdown",
   "id": "sapphire-calibration",
   "metadata": {},
   "source": [
    "The average expected from theory is the reciprocal of the rate , so $E[x] = 30$. It can be seen that the empirical mean is close to the expected value"
   ]
  },
  {
   "cell_type": "code",
   "execution_count": 7,
   "id": "formed-velvet",
   "metadata": {},
   "outputs": [
    {
     "name": "stdout",
     "output_type": "stream",
     "text": [
      "The probability that a person will wait for more than an hour is:"
     ]
    },
    {
     "data": {
      "text/html": [
       "'0.14'"
      ],
      "text/latex": [
       "'0.14'"
      ],
      "text/markdown": [
       "'0.14'"
      ],
      "text/plain": [
       "[1] \"0.14\""
      ]
     },
     "metadata": {},
     "output_type": "display_data"
    }
   ],
   "source": [
    "p <- 1 - pexp(60, lambda)\n",
    "cat('The probability that a person will wait for more than an hour is:')\n",
    "sprintf('%.2f', p)"
   ]
  },
  {
   "cell_type": "markdown",
   "id": "rapid-kruger",
   "metadata": {},
   "source": [
    "## Exercise 3"
   ]
  },
  {
   "cell_type": "markdown",
   "id": "religious-tolerance",
   "metadata": {},
   "source": [
    "Poisson distribution"
   ]
  },
  {
   "cell_type": "code",
   "execution_count": 8,
   "id": "multiple-transport",
   "metadata": {},
   "outputs": [
    {
     "data": {
      "image/png": "[encoded data removed]",
      "text/plain": [
       "plot without title"
      ]
     },
     "metadata": {
      "image/png": {
       "height": 360,
       "width": 840
      }
     },
     "output_type": "display_data"
    }
   ],
   "source": [
    "mu = 1/3\n",
    "par(mfrow = c(1,2))\n",
    "fig(14, 6)\n",
    "t <- 0:6\n",
    "x <- dpois(t, mu)\n",
    "barplot(x, names = t, col = 'darkred', ylab = 'pdf')\n",
    "X <- ppois(t, mu)\n",
    "barplot(X, names = t, col = 'darkred', ylab = 'cdf')"
   ]
  },
  {
   "cell_type": "code",
   "execution_count": 9,
   "id": "frozen-island",
   "metadata": {},
   "outputs": [
    {
     "name": "stdout",
     "output_type": "stream",
     "text": [
      "The probability hat there is at least one error on a specific page is:"
     ]
    },
    {
     "data": {
      "text/html": [
       "'0.28'"
      ],
      "text/latex": [
       "'0.28'"
      ],
      "text/markdown": [
       "'0.28'"
      ],
      "text/plain": [
       "[1] \"0.28\""
      ]
     },
     "metadata": {},
     "output_type": "display_data"
    }
   ],
   "source": [
    "p <- 1 - dpois(0, mu)\n",
    "cat('The probability hat there is at least one error on a specific page is:')\n",
    "sprintf('%.2f', p)"
   ]
  },
  {
   "cell_type": "markdown",
   "id": "economic-oklahoma",
   "metadata": {},
   "source": [
    "## Exercise 4"
   ]
  },
  {
   "cell_type": "markdown",
   "id": "literary-reach",
   "metadata": {},
   "source": [
    "Geometric distribution"
   ]
  },
  {
   "cell_type": "code",
   "execution_count": 10,
   "id": "happy-gross",
   "metadata": {},
   "outputs": [
    {
     "data": {
      "image/png": "[encoded data removed]",
      "text/plain": [
       "plot without title"
      ]
     },
     "metadata": {
      "image/png": {
       "height": 360,
       "width": 840
      }
     },
     "output_type": "display_data"
    }
   ],
   "source": [
    "pr = 4/52 #Number of aces over number of cards\n",
    "par(mfrow = c(1,2))\n",
    "fig(14, 6)\n",
    "t <- 0:15\n",
    "x <- dgeom(t, pr)\n",
    "barplot(x, names = t, col = 'orange', ylab = 'pdf')\n",
    "X <- pgeom(t, pr)\n",
    "barplot(X, names = t, col = 'orange', ylab = 'cdf')"
   ]
  },
  {
   "cell_type": "markdown",
   "id": "divine-polymer",
   "metadata": {},
   "source": [
    "This geometric distribution measures the probability of have $n$ failures before the first success. To compute the probability of drawing at least 10 cards we have to sum up the probabilities of having 9, 10, 11, 12 up to infinity failures"
   ]
  },
  {
   "cell_type": "code",
   "execution_count": 11,
   "id": "applied-yahoo",
   "metadata": {},
   "outputs": [
    {
     "name": "stdout",
     "output_type": "stream",
     "text": [
      "the probability that at least 10 draws are needed is:"
     ]
    },
    {
     "data": {
      "text/html": [
       "'0.49'"
      ],
      "text/latex": [
       "'0.49'"
      ],
      "text/markdown": [
       "'0.49'"
      ],
      "text/plain": [
       "[1] \"0.49\""
      ]
     },
     "metadata": {},
     "output_type": "display_data"
    }
   ],
   "source": [
    "p <- 1-pgeom(8, 4/52)\n",
    "cat('the probability that at least 10 draws are needed is:')\n",
    "sprintf('%.2f', p)"
   ]
  },
  {
   "cell_type": "markdown",
   "id": "unusual-electron",
   "metadata": {},
   "source": [
    "## Exercise 5"
   ]
  },
  {
   "cell_type": "code",
   "execution_count": 12,
   "id": "designing-wings",
   "metadata": {},
   "outputs": [],
   "source": [
    "mydistr <- function(x, c = 1){\n",
    "    if (x <= 1 || x >= 2){0}\n",
    "    else {c*(x-1)*(2-x)} \n",
    "}"
   ]
  },
  {
   "cell_type": "code",
   "execution_count": 13,
   "id": "patient-painting",
   "metadata": {},
   "outputs": [
    {
     "data": {
      "text/plain": [
       "0.1666667 with absolute error < 1.9e-15"
      ]
     },
     "metadata": {},
     "output_type": "display_data"
    }
   ],
   "source": [
    "normalization <- integrate(mydistr, lower = 1, upper = 2)\n",
    "normalization"
   ]
  },
  {
   "cell_type": "markdown",
   "id": "presidential-mailing",
   "metadata": {},
   "source": [
    "The normalization costant has to be such that the integral of mydistr is equal to 1"
   ]
  },
  {
   "cell_type": "code",
   "execution_count": 14,
   "id": "embedded-gospel",
   "metadata": {},
   "outputs": [
    {
     "data": {
      "text/html": [
       "6"
      ],
      "text/latex": [
       "6"
      ],
      "text/markdown": [
       "6"
      ],
      "text/plain": [
       "[1] 6"
      ]
     },
     "metadata": {},
     "output_type": "display_data"
    }
   ],
   "source": [
    "N <- 1/normalization$value\n",
    "N"
   ]
  },
  {
   "cell_type": "markdown",
   "id": "minus-zoning",
   "metadata": {},
   "source": [
    "In the next cell the four functions for the custom pdf are defined. Notice that the analytical formula for the inverse cdf is difficult to be computed and also using software as Mathematica to perform the symbolical steps, the solution involves complex numbers (as the particular solution for q such that ($1 \\leq q \\leq 2$) does not always exist real). To avoid this issue, one can use the numerical solution of the polynomial."
   ]
  },
  {
   "cell_type": "code",
   "execution_count": 15,
   "id": "electric-fever",
   "metadata": {},
   "outputs": [],
   "source": [
    "dcustom <- function(x, c = N){\n",
    "    if (x <= 1 || x >= 2){0}\n",
    "    else {c*(x-1)*(2-x)} \n",
    "}\n",
    "\n",
    "pcustom <- function(q, c = N){\n",
    "    if (q <= 1){0}\n",
    "    else if (q >= 2){1}\n",
    "    else {c*(3/2*q^2-q^3/3-2*q+5/6)}\n",
    "}\n",
    "\n",
    "qcustom <- function(p, c = N){\n",
    "    poly <- polynomial(c(5-6*p/N, -12, 9, -2))\n",
    "    qs <- solve(poly)\n",
    "    Re(qs[2])\n",
    "}\n",
    "\n",
    "rcustom <- function(n){\n",
    "    u <- runif(n)\n",
    "    sapply(u, qcustom)\n",
    "}"
   ]
  },
  {
   "cell_type": "code",
   "execution_count": 16,
   "id": "frozen-gamma",
   "metadata": {},
   "outputs": [
    {
     "data": {
      "image/png": "[encoded data removed]",
      "text/plain": [
       "plot without title"
      ]
     },
     "metadata": {
      "image/png": {
       "height": 360,
       "width": 840
      }
     },
     "output_type": "display_data"
    }
   ],
   "source": [
    "par(mfrow = c(1,2))\n",
    "fig(14, 6)\n",
    "x <- seq(0, 3, 0.1)\n",
    "y <- sapply(x, dcustom)\n",
    "plot(x, y, type = 'l', col = 'violet', lwd = 3, ylab = 'pdf')\n",
    "y <- sapply(x, pcustom)\n",
    "plot(x, y, type = 'l', col = 'violet', lwd = 3, xlab = 'q', ylab = 'cdf')"
   ]
  },
  {
   "cell_type": "code",
   "execution_count": 17,
   "id": "induced-programmer",
   "metadata": {},
   "outputs": [
    {
     "name": "stdout",
     "output_type": "stream",
     "text": [
      "the probability  that the student will finish the aptitude test in more than 75 minutes is:"
     ]
    },
    {
     "data": {
      "text/html": [
       "'0.84'"
      ],
      "text/latex": [
       "'0.84'"
      ],
      "text/markdown": [
       "'0.84'"
      ],
      "text/plain": [
       "[1] \"0.84\""
      ]
     },
     "metadata": {},
     "output_type": "display_data"
    }
   ],
   "source": [
    "p <- 1 - pcustom(1.25)\n",
    "cat('the probability  that the student will finish the aptitude test in more than 75 minutes is:')\n",
    "sprintf('%.2f', p)"
   ]
  },
  {
   "cell_type": "code",
   "execution_count": 18,
   "id": "secondary-desire",
   "metadata": {},
   "outputs": [
    {
     "name": "stdout",
     "output_type": "stream",
     "text": [
      "the probability  that the student will take between 90 and 120 minutes is:"
     ]
    },
    {
     "data": {
      "text/html": [
       "'0.50'"
      ],
      "text/latex": [
       "'0.50'"
      ],
      "text/markdown": [
       "'0.50'"
      ],
      "text/plain": [
       "[1] \"0.50\""
      ]
     },
     "metadata": {},
     "output_type": "display_data"
    }
   ],
   "source": [
    "p <- 1-pcustom(1.5) #Notice than 120 minutes is the maximum possible time\n",
    "cat('the probability  that the student will take between 90 and 120 minutes is:')\n",
    "sprintf('%.2f', p)"
   ]
  },
  {
   "cell_type": "markdown",
   "id": "acceptable-possession",
   "metadata": {},
   "source": [
    "## Exercise 6"
   ]
  },
  {
   "cell_type": "markdown",
   "id": "temporal-cherry",
   "metadata": {},
   "source": [
    "The lifetime of tires follows a distribution which is a constant ($10^4$) multiplied for the following distribution. To retrieve the values in km from the next plots it is sufficient to multiply the $x$ value times $10^4$."
   ]
  },
  {
   "cell_type": "code",
   "execution_count": 19,
   "id": "second-arrival",
   "metadata": {},
   "outputs": [],
   "source": [
    "dcustom <- function(x){\n",
    "    if (x <= 1 || x >= 2){0}\n",
    "    else {2/x^2} \n",
    "}\n",
    "\n",
    "pcustom <- function(q){\n",
    "    if (q <= 1){0}\n",
    "    else if (q >= 2){1}\n",
    "    else {2-2/q}\n",
    "}\n",
    "\n",
    "qcustom <- function(p){\n",
    "    2/(2-p)\n",
    "}\n",
    "\n",
    "rcustom <- function(n){\n",
    "    u <- runif(n)\n",
    "    2/(2-u)\n",
    "}"
   ]
  },
  {
   "cell_type": "code",
   "execution_count": 20,
   "id": "comic-circular",
   "metadata": {},
   "outputs": [
    {
     "data": {
      "image/png": "[encoded data removed]",
      "text/plain": [
       "plot without title"
      ]
     },
     "metadata": {
      "image/png": {
       "height": 360,
       "width": 840
      }
     },
     "output_type": "display_data"
    }
   ],
   "source": [
    "par(mfrow = c(1,2))\n",
    "fig(14, 6)\n",
    "x <- seq(0, 3, 0.1)\n",
    "y <- sapply(x, dcustom)\n",
    "plot(x, y, type = 'l', col = 'blue', lwd = 3, ylab = 'pdf')\n",
    "y <- sapply(x, pcustom)\n",
    "plot(x, y, type = 'l', col = 'blue', lwd = 3, xlab = 'q', ylab = 'cdf')"
   ]
  },
  {
   "cell_type": "code",
   "execution_count": 21,
   "id": "considerable-synthetic",
   "metadata": {},
   "outputs": [
    {
     "name": "stdout",
     "output_type": "stream",
     "text": [
      "the probability that tires will last less than 15000 km is:"
     ]
    },
    {
     "data": {
      "text/html": [
       "'0.67'"
      ],
      "text/latex": [
       "'0.67'"
      ],
      "text/markdown": [
       "'0.67'"
      ],
      "text/plain": [
       "[1] \"0.67\""
      ]
     },
     "metadata": {},
     "output_type": "display_data"
    }
   ],
   "source": [
    "p <- pcustom(1.5) #15000/10^4\n",
    "cat('the probability that tires will last less than 15000 km is:')\n",
    "sprintf('%.2f', p)"
   ]
  },
  {
   "cell_type": "code",
   "execution_count": 22,
   "id": "mature-actor",
   "metadata": {},
   "outputs": [
    {
     "name": "stdout",
     "output_type": "stream",
     "text": [
      "x_bar = 1.388896 \tvar = 0.07782762"
     ]
    }
   ],
   "source": [
    "x <- rcustom(3000)\n",
    "x_bar = mean(x)\n",
    "x2 <- x^2\n",
    "x2_bar = mean(x2)\n",
    "var <- x2_bar-x_bar^2\n",
    "cat('x_bar =', x_bar, '\\tvar =', var)"
   ]
  },
  {
   "cell_type": "markdown",
   "id": "sporting-group",
   "metadata": {},
   "source": [
    "Notice that the expected values of the $E[x]$ and the $Var(x)$ are:\n",
    "* $E[x] = \\int_{\\rm I\\!R}\\frac{2}{x}dx = 2\\log(2) \\simeq 1.386$ \n",
    "* $Var(x) = E[x^2] - E[x]^2 = 2\\int_{\\rm I\\!R}dx - (2\\log(2))^2 = 2 - 4(\\log(2))^2 \\simeq 0.078$"
   ]
  },
  {
   "cell_type": "code",
   "execution_count": null,
   "id": "russian-writing",
   "metadata": {},
   "outputs": [],
   "source": []
  }
 ],
 "metadata": {
  "kernelspec": {
   "display_name": "R",
   "language": "R",
   "name": "ir"
  },
  "language_info": {
   "codemirror_mode": "r",
   "file_extension": ".r",
   "mimetype": "text/x-r-source",
   "name": "R",
   "pygments_lexer": "r",
   "version": "4.1.0"
  }
 },
 "nbformat": 4,
 "nbformat_minor": 5
}
