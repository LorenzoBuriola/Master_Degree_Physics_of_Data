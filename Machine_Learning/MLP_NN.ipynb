{
 "cells": [
  {
   "source": [
    "Buriola Lorenzo ID: 2021860"
   ],
   "cell_type": "markdown",
   "metadata": {}
  },
  {
   "cell_type": "markdown",
   "metadata": {},
   "source": [
    "# Clothes Classification with Neural Networks\n",
    "\n",
    "In this notebook we are going to use the Neural Networks for image classification. We are going to use the same dataset of Lab 2 on SVM: Fashion MNIST (https://pravarmahajan.github.io/fashion/), a dataset of small images of clothes and accessories.\n",
    "\n",
    "The dataset labels are the following:\n",
    "\n",
    "| Label | Description |\n",
    "| --- | --- |\n",
    "| 0 | T-shirt/top |\n",
    "| 1 | Trouser |\n",
    "| 2 | Pullover |\n",
    "| 3 | Dress |\n",
    "| 4 | Coat |\n",
    "| 5 | Sandal |\n",
    "| 6 | Shirt |\n",
    "| 7 | Sneaker |\n",
    "| 8 | Bag |\n",
    "| 9 | Ankle boot |"
   ]
  },
  {
   "cell_type": "code",
   "execution_count": 1,
   "metadata": {},
   "outputs": [
    {
     "name": "stdout",
     "output_type": "stream",
     "text": [
      "scikit-learn version:  0.23.2\n"
     ]
    }
   ],
   "source": [
    "#load the required packages and check Scikit-learn version\n",
    "\n",
    "import numpy as np\n",
    "import scipy as sp\n",
    "import matplotlib.pyplot as plt\n",
    "import pandas as pd\n",
    "\n",
    "import sklearn\n",
    "print ('scikit-learn version: ', sklearn.__version__)\n",
    "from sklearn.neural_network import MLPClassifier\n",
    "from sklearn.model_selection import GridSearchCV\n",
    "from sklearn.svm import SVC"
   ]
  },
  {
   "cell_type": "code",
   "execution_count": 2,
   "metadata": {},
   "outputs": [],
   "source": [
    "# helper function to load Fashion MNIST dataset from disk\n",
    "def load_mnist(path, kind='train'):\n",
    "    import os\n",
    "    import gzip\n",
    "    import numpy as np\n",
    "    labels_path = os.path.join(path, '%s-labels-idx1-ubyte.gz' % kind)\n",
    "    images_path = os.path.join(path, '%s-images-idx3-ubyte.gz' % kind)\n",
    "    with gzip.open(labels_path, 'rb') as lbpath:\n",
    "        labels = np.frombuffer(lbpath.read(), dtype=np.uint8,offset=8)\n",
    "    with gzip.open(images_path, 'rb') as imgpath:\n",
    "        images = np.frombuffer(imgpath.read(), dtype=np.uint8,offset=16).reshape(len(labels), 784)\n",
    "    return images, labels"
   ]
  },
  {
   "cell_type": "markdown",
   "metadata": {},
   "source": [
    "# TODO \n",
    "Place a seed for the random generatoryour (you can use your \"numero di matricola\"). Try to change the seed to see the impact of the randomization."
   ]
  },
  {
   "cell_type": "code",
   "execution_count": 3,
   "metadata": {},
   "outputs": [],
   "source": [
    "seed = 987654321\n",
    "np.random.seed(seed)"
   ]
  },
  {
   "cell_type": "code",
   "execution_count": 4,
   "metadata": {},
   "outputs": [
    {
     "name": "stdout",
     "output_type": "stream",
     "text": [
      "Number of samples in the MNIST dataset: 60000\n"
     ]
    }
   ],
   "source": [
    "#load the MNIST dataset and let's normalize the features so that each value is in [0,1]\n",
    "X, y = load_mnist(\"data\")\n",
    "print(\"Number of samples in the MNIST dataset:\", X.shape[0])\n",
    "# rescale the data\n",
    "X = X / 255.0"
   ]
  },
  {
   "cell_type": "markdown",
   "metadata": {},
   "source": [
    "Now split into training and test. We start with a small training set of 600 samples to reduce computation time while 4000 samples will be used for testing. Make sure that each label is present at least 10 times in train and test set frequencies."
   ]
  },
  {
   "cell_type": "code",
   "execution_count": 5,
   "metadata": {},
   "outputs": [
    {
     "name": "stdout",
     "output_type": "stream",
     "text": [
      "Labels in training dataset:  [0 1 2 3 4 5 6 7 8 9]\n",
      "Frequencies in training dataset:  [55 56 62 61 51 57 68 67 65 58]\n",
      "Labels in test set:  [0 1 2 3 4 5 6 7 8 9]\n",
      "Frequencies in test set:  [398 400 409 391 414 418 438 383 365 384]\n"
     ]
    }
   ],
   "source": [
    "#random permute the data and split into training and test taking the first 600\n",
    "#data samples as training and 4000 as test set\n",
    "permutation = np.random.permutation(X.shape[0])\n",
    "\n",
    "X = X[permutation]\n",
    "y = y[permutation]\n",
    "\n",
    "m_training = 600\n",
    "m_test = 4000\n",
    "\n",
    "X_train, X_test = X[:m_training], X[-m_test:]\n",
    "y_train, y_test = y[:m_training], y[-m_test:]\n",
    "\n",
    "labels, freqs = np.unique(y_train, return_counts=True)\n",
    "print(\"Labels in training dataset: \", labels)\n",
    "print(\"Frequencies in training dataset: \", freqs)\n",
    "\n",
    "labelsT, freqsT = np.unique(y_test, return_counts=True)\n",
    "print(\"Labels in test set: \", labelsT)\n",
    "print(\"Frequencies in test set: \", freqsT)\n"
   ]
  },
  {
   "cell_type": "code",
   "execution_count": 6,
   "metadata": {},
   "outputs": [],
   "source": [
    "#function for plotting a image and printing the corresponding label\n",
    "def plot_input(X_matrix, labels, index):\n",
    "    print(\"INPUT:\")\n",
    "    plt.imshow(\n",
    "        X_matrix[index].reshape(28,28),\n",
    "        cmap          = plt.cm.gray_r,\n",
    "        interpolation = \"nearest\"\n",
    "    )\n",
    "    plt.show()\n",
    "    print(\"LABEL: %i\"%labels[index])\n",
    "    return"
   ]
  },
  {
   "cell_type": "code",
   "execution_count": 7,
   "metadata": {},
   "outputs": [
    {
     "name": "stdout",
     "output_type": "stream",
     "text": [
      "INPUT:\n"
     ]
    },
    {
     "data": {
      "image/png": "[encoded data removed]",
      "text/plain": [
       "<Figure size 432x288 with 1 Axes>"
      ]
     },
     "metadata": {
      "needs_background": "light"
     },
     "output_type": "display_data"
    },
    {
     "name": "stdout",
     "output_type": "stream",
     "text": [
      "LABEL: 8\n",
      "INPUT:\n"
     ]
    },
    {
     "data": {
      "image/png": "[encoded data removed]",
      "text/plain": [
       "<Figure size 432x288 with 1 Axes>"
      ]
     },
     "metadata": {
      "needs_background": "light"
     },
     "output_type": "display_data"
    },
    {
     "name": "stdout",
     "output_type": "stream",
     "text": [
      "LABEL: 9\n",
      "INPUT:\n"
     ]
    },
    {
     "data": {
      "image/png": "[encoded data removed]",
      "text/plain": [
       "<Figure size 432x288 with 1 Axes>"
      ]
     },
     "metadata": {
      "needs_background": "light"
     },
     "output_type": "display_data"
    },
    {
     "name": "stdout",
     "output_type": "stream",
     "text": [
      "LABEL: 6\n"
     ]
    }
   ],
   "source": [
    "#let's try the plotting function\n",
    "plot_input(X_train,y_train,10)\n",
    "plot_input(X_test,y_test,100)\n",
    "plot_input(X_test,y_test,1000)"
   ]
  },
  {
   "cell_type": "markdown",
   "metadata": {},
   "source": [
    "### TO DO 1\n",
    "\n",
    "Now use a feed-forward Neural Network for prediction. Use the multi-layer perceptron classifier, with the following parameters: max_iter=250, alpha=1e-4, solver='sgd', tol=1e-4, learning_rate_init=.1, random_state=ID (this last parameter ensures the run is the same even if you run it more than once). The alpha parameter is the regularization term.\n",
    "\n",
    "Then, using the default activation function, pick four or five architectures to consider, with different numbers of hidden layers and different sizes. It is not necessary to create huge neural networks, you can limit to 3 layers and, for each layer, its maximum size can be of 50. Evaluate the architectures you chose using GridSearchCV with cv=5.\n",
    "\n",
    "You can reduce the number of iterations if the running time is too long on your computer.\n"
   ]
  },
  {
   "cell_type": "code",
   "execution_count": 8,
   "metadata": {},
   "outputs": [
    {
     "name": "stdout",
     "output_type": "stream",
     "text": [
      "Fitting 5 folds for each of 5 candidates, totalling 25 fits\n",
      "[CV] hidden_layer_sizes=(10,) ........................................\n"
     ]
    },
    {
     "name": "stderr",
     "output_type": "stream",
     "text": [
      "[Parallel(n_jobs=1)]: Using backend SequentialBackend with 1 concurrent workers.\n"
     ]
    },
    {
     "name": "stdout",
     "output_type": "stream",
     "text": [
      "[CV]  hidden_layer_sizes=(10,), score=(train=0.463, test=0.408), total=   0.6s\n",
      "[CV] hidden_layer_sizes=(10,) ........................................\n"
     ]
    },
    {
     "name": "stderr",
     "output_type": "stream",
     "text": [
      "[Parallel(n_jobs=1)]: Done   1 out of   1 | elapsed:    0.5s remaining:    0.0s\n"
     ]
    },
    {
     "name": "stdout",
     "output_type": "stream",
     "text": [
      "[CV]  hidden_layer_sizes=(10,), score=(train=0.406, test=0.333), total=   0.7s\n",
      "[CV] hidden_layer_sizes=(10,) ........................................\n"
     ]
    },
    {
     "name": "stderr",
     "output_type": "stream",
     "text": [
      "[Parallel(n_jobs=1)]: Done   2 out of   2 | elapsed:    1.2s remaining:    0.0s\n"
     ]
    },
    {
     "name": "stdout",
     "output_type": "stream",
     "text": [
      "[CV]  hidden_layer_sizes=(10,), score=(train=0.823, test=0.608), total=   0.8s\n",
      "[CV] hidden_layer_sizes=(10,) ........................................\n",
      "[CV]  hidden_layer_sizes=(10,), score=(train=1.000, test=0.775), total=   1.1s\n",
      "[CV] hidden_layer_sizes=(10,) ........................................\n"
     ]
    },
    {
     "name": "stderr",
     "output_type": "stream",
     "text": [
      "c:\\program files\\python37\\lib\\site-packages\\sklearn\\neural_network\\_multilayer_perceptron.py:585: ConvergenceWarning: Stochastic Optimizer: Maximum iterations (250) reached and the optimization hasn't converged yet.\n",
      "  % self.max_iter, ConvergenceWarning)\n"
     ]
    },
    {
     "name": "stdout",
     "output_type": "stream",
     "text": [
      "[CV]  hidden_layer_sizes=(10,), score=(train=0.994, test=0.792), total=   1.5s\n",
      "[CV] hidden_layer_sizes=(20,) ........................................\n",
      "[CV]  hidden_layer_sizes=(20,), score=(train=1.000, test=0.758), total=   1.2s\n",
      "[CV] hidden_layer_sizes=(20,) ........................................\n",
      "[CV]  hidden_layer_sizes=(20,), score=(train=1.000, test=0.758), total=   1.2s\n",
      "[CV] hidden_layer_sizes=(20,) ........................................\n",
      "[CV]  hidden_layer_sizes=(20,), score=(train=1.000, test=0.758), total=   1.2s\n",
      "[CV] hidden_layer_sizes=(20,) ........................................\n",
      "[CV]  hidden_layer_sizes=(20,), score=(train=1.000, test=0.775), total=   1.2s\n",
      "[CV] hidden_layer_sizes=(20,) ........................................\n",
      "[CV]  hidden_layer_sizes=(20,), score=(train=0.998, test=0.842), total=   1.2s\n",
      "[CV] hidden_layer_sizes=(30,) ........................................\n",
      "[CV]  hidden_layer_sizes=(30,), score=(train=1.000, test=0.767), total=   1.4s\n",
      "[CV] hidden_layer_sizes=(30,) ........................................\n",
      "[CV]  hidden_layer_sizes=(30,), score=(train=1.000, test=0.717), total=   1.3s\n",
      "[CV] hidden_layer_sizes=(30,) ........................................\n",
      "[CV]  hidden_layer_sizes=(30,), score=(train=1.000, test=0.800), total=   1.7s\n",
      "[CV] hidden_layer_sizes=(30,) ........................................\n",
      "[CV]  hidden_layer_sizes=(30,), score=(train=1.000, test=0.775), total=   1.3s\n",
      "[CV] hidden_layer_sizes=(30,) ........................................\n",
      "[CV]  hidden_layer_sizes=(30,), score=(train=1.000, test=0.858), total=   1.3s\n",
      "[CV] hidden_layer_sizes=(20, 20) .....................................\n",
      "[CV]  hidden_layer_sizes=(20, 20), score=(train=0.940, test=0.775), total=   0.5s\n",
      "[CV] hidden_layer_sizes=(20, 20) .....................................\n",
      "[CV]  hidden_layer_sizes=(20, 20), score=(train=0.521, test=0.475), total=   0.5s\n",
      "[CV] hidden_layer_sizes=(20, 20) .....................................\n",
      "[CV]  hidden_layer_sizes=(20, 20), score=(train=0.808, test=0.675), total=   0.6s\n",
      "[CV] hidden_layer_sizes=(20, 20) .....................................\n",
      "[CV]  hidden_layer_sizes=(20, 20), score=(train=0.900, test=0.717), total=   0.5s\n",
      "[CV] hidden_layer_sizes=(20, 20) .....................................\n",
      "[CV]  hidden_layer_sizes=(20, 20), score=(train=0.883, test=0.808), total=   0.4s\n",
      "[CV] hidden_layer_sizes=(30, 30, 20) .................................\n",
      "[CV]  hidden_layer_sizes=(30, 30, 20), score=(train=0.579, test=0.508), total=   1.1s\n",
      "[CV] hidden_layer_sizes=(30, 30, 20) .................................\n",
      "[CV]  hidden_layer_sizes=(30, 30, 20), score=(train=0.573, test=0.525), total=   0.4s\n",
      "[CV] hidden_layer_sizes=(30, 30, 20) .................................\n",
      "[CV]  hidden_layer_sizes=(30, 30, 20), score=(train=0.281, test=0.250), total=   0.6s\n",
      "[CV] hidden_layer_sizes=(30, 30, 20) .................................\n",
      "[CV]  hidden_layer_sizes=(30, 30, 20), score=(train=0.873, test=0.717), total=   0.5s\n",
      "[CV] hidden_layer_sizes=(30, 30, 20) .................................\n",
      "[CV]  hidden_layer_sizes=(30, 30, 20), score=(train=0.108, test=0.108), total=   0.5s\n"
     ]
    },
    {
     "name": "stderr",
     "output_type": "stream",
     "text": [
      "[Parallel(n_jobs=1)]: Done  25 out of  25 | elapsed:   23.6s finished\n"
     ]
    },
    {
     "name": "stdout",
     "output_type": "stream",
     "text": [
      "RESULTS FOR NN\n",
      "\n",
      "Best parameters set found:\n",
      "{'hidden_layer_sizes': (30,)}\n",
      "\n",
      "Score with best parameters:\n",
      "0.7833333333333333\n",
      "\n",
      "All scores on the grid:\n"
     ]
    },
    {
     "data": {
      "text/html": [
       "<div>\n",
       "<style scoped>\n",
       "    .dataframe tbody tr th:only-of-type {\n",
       "        vertical-align: middle;\n",
       "    }\n",
       "\n",
       "    .dataframe tbody tr th {\n",
       "        vertical-align: top;\n",
       "    }\n",
       "\n",
       "    .dataframe thead th {\n",
       "        text-align: right;\n",
       "    }\n",
       "</style>\n",
       "<table border=\"1\" class=\"dataframe\">\n",
       "  <thead>\n",
       "    <tr style=\"text-align: right;\">\n",
       "      <th></th>\n",
       "      <th>param_hidden_layer_sizes</th>\n",
       "      <th>params</th>\n",
       "      <th>split0_test_score</th>\n",
       "      <th>split1_test_score</th>\n",
       "      <th>split2_test_score</th>\n",
       "      <th>split3_test_score</th>\n",
       "      <th>split4_test_score</th>\n",
       "      <th>mean_test_score</th>\n",
       "      <th>std_test_score</th>\n",
       "      <th>rank_test_score</th>\n",
       "      <th>split0_train_score</th>\n",
       "      <th>split1_train_score</th>\n",
       "      <th>split2_train_score</th>\n",
       "      <th>split3_train_score</th>\n",
       "      <th>split4_train_score</th>\n",
       "      <th>mean_train_score</th>\n",
       "      <th>std_train_score</th>\n",
       "    </tr>\n",
       "  </thead>\n",
       "  <tbody>\n",
       "    <tr>\n",
       "      <th>0</th>\n",
       "      <td>(10,)</td>\n",
       "      <td>{'hidden_layer_sizes': (10,)}</td>\n",
       "      <td>0.408333</td>\n",
       "      <td>0.333333</td>\n",
       "      <td>0.608333</td>\n",
       "      <td>0.775000</td>\n",
       "      <td>0.791667</td>\n",
       "      <td>0.583333</td>\n",
       "      <td>0.186488</td>\n",
       "      <td>4</td>\n",
       "      <td>0.462500</td>\n",
       "      <td>0.406250</td>\n",
       "      <td>0.822917</td>\n",
       "      <td>1.000000</td>\n",
       "      <td>0.993750</td>\n",
       "      <td>0.737083</td>\n",
       "      <td>0.255819</td>\n",
       "    </tr>\n",
       "    <tr>\n",
       "      <th>1</th>\n",
       "      <td>(20,)</td>\n",
       "      <td>{'hidden_layer_sizes': (20,)}</td>\n",
       "      <td>0.758333</td>\n",
       "      <td>0.758333</td>\n",
       "      <td>0.758333</td>\n",
       "      <td>0.775000</td>\n",
       "      <td>0.841667</td>\n",
       "      <td>0.778333</td>\n",
       "      <td>0.032318</td>\n",
       "      <td>2</td>\n",
       "      <td>1.000000</td>\n",
       "      <td>1.000000</td>\n",
       "      <td>1.000000</td>\n",
       "      <td>1.000000</td>\n",
       "      <td>0.997917</td>\n",
       "      <td>0.999583</td>\n",
       "      <td>0.000833</td>\n",
       "    </tr>\n",
       "    <tr>\n",
       "      <th>2</th>\n",
       "      <td>(30,)</td>\n",
       "      <td>{'hidden_layer_sizes': (30,)}</td>\n",
       "      <td>0.766667</td>\n",
       "      <td>0.716667</td>\n",
       "      <td>0.800000</td>\n",
       "      <td>0.775000</td>\n",
       "      <td>0.858333</td>\n",
       "      <td>0.783333</td>\n",
       "      <td>0.046248</td>\n",
       "      <td>1</td>\n",
       "      <td>1.000000</td>\n",
       "      <td>1.000000</td>\n",
       "      <td>1.000000</td>\n",
       "      <td>1.000000</td>\n",
       "      <td>1.000000</td>\n",
       "      <td>1.000000</td>\n",
       "      <td>0.000000</td>\n",
       "    </tr>\n",
       "    <tr>\n",
       "      <th>3</th>\n",
       "      <td>(20, 20)</td>\n",
       "      <td>{'hidden_layer_sizes': (20, 20)}</td>\n",
       "      <td>0.775000</td>\n",
       "      <td>0.475000</td>\n",
       "      <td>0.675000</td>\n",
       "      <td>0.716667</td>\n",
       "      <td>0.808333</td>\n",
       "      <td>0.690000</td>\n",
       "      <td>0.116952</td>\n",
       "      <td>3</td>\n",
       "      <td>0.939583</td>\n",
       "      <td>0.520833</td>\n",
       "      <td>0.808333</td>\n",
       "      <td>0.900000</td>\n",
       "      <td>0.883333</td>\n",
       "      <td>0.810417</td>\n",
       "      <td>0.150923</td>\n",
       "    </tr>\n",
       "    <tr>\n",
       "      <th>4</th>\n",
       "      <td>(30, 30, 20)</td>\n",
       "      <td>{'hidden_layer_sizes': (30, 30, 20)}</td>\n",
       "      <td>0.508333</td>\n",
       "      <td>0.525000</td>\n",
       "      <td>0.250000</td>\n",
       "      <td>0.716667</td>\n",
       "      <td>0.108333</td>\n",
       "      <td>0.421667</td>\n",
       "      <td>0.215806</td>\n",
       "      <td>5</td>\n",
       "      <td>0.579167</td>\n",
       "      <td>0.572917</td>\n",
       "      <td>0.281250</td>\n",
       "      <td>0.872917</td>\n",
       "      <td>0.108333</td>\n",
       "      <td>0.482917</td>\n",
       "      <td>0.264744</td>\n",
       "    </tr>\n",
       "  </tbody>\n",
       "</table>\n",
       "</div>"
      ],
      "text/plain": [
       "  param_hidden_layer_sizes                                params  \\\n",
       "0                    (10,)         {'hidden_layer_sizes': (10,)}   \n",
       "1                    (20,)         {'hidden_layer_sizes': (20,)}   \n",
       "2                    (30,)         {'hidden_layer_sizes': (30,)}   \n",
       "3                 (20, 20)      {'hidden_layer_sizes': (20, 20)}   \n",
       "4             (30, 30, 20)  {'hidden_layer_sizes': (30, 30, 20)}   \n",
       "\n",
       "   split0_test_score  split1_test_score  split2_test_score  split3_test_score  \\\n",
       "0           0.408333           0.333333           0.608333           0.775000   \n",
       "1           0.758333           0.758333           0.758333           0.775000   \n",
       "2           0.766667           0.716667           0.800000           0.775000   \n",
       "3           0.775000           0.475000           0.675000           0.716667   \n",
       "4           0.508333           0.525000           0.250000           0.716667   \n",
       "\n",
       "   split4_test_score  mean_test_score  std_test_score  rank_test_score  \\\n",
       "0           0.791667         0.583333        0.186488                4   \n",
       "1           0.841667         0.778333        0.032318                2   \n",
       "2           0.858333         0.783333        0.046248                1   \n",
       "3           0.808333         0.690000        0.116952                3   \n",
       "4           0.108333         0.421667        0.215806                5   \n",
       "\n",
       "   split0_train_score  split1_train_score  split2_train_score  \\\n",
       "0            0.462500            0.406250            0.822917   \n",
       "1            1.000000            1.000000            1.000000   \n",
       "2            1.000000            1.000000            1.000000   \n",
       "3            0.939583            0.520833            0.808333   \n",
       "4            0.579167            0.572917            0.281250   \n",
       "\n",
       "   split3_train_score  split4_train_score  mean_train_score  std_train_score  \n",
       "0            1.000000            0.993750          0.737083         0.255819  \n",
       "1            1.000000            0.997917          0.999583         0.000833  \n",
       "2            1.000000            1.000000          1.000000         0.000000  \n",
       "3            0.900000            0.883333          0.810417         0.150923  \n",
       "4            0.872917            0.108333          0.482917         0.264744  "
      ]
     },
     "execution_count": 8,
     "metadata": {},
     "output_type": "execute_result"
    }
   ],
   "source": [
    "# these are sample values but feel free to change them as you like, try to experiment with different sizes!!\n",
    "parameters = {'hidden_layer_sizes': [(10,), (20,), (30,), (20,20,), (30,30,20) ]}\n",
    "\n",
    "mlp = MLPClassifier(max_iter=250, alpha=1e-4, solver='sgd', tol=1e-4, random_state=seed, learning_rate_init=.1)\n",
    "\n",
    "cross_val = GridSearchCV(mlp, parameters, cv=5, return_train_score=True, verbose = 3)\n",
    "cross_val.fit(X_train, y_train)\n",
    "\n",
    "print ('RESULTS FOR NN')\n",
    "\n",
    "print(\"\\nBest parameters set found:\")\n",
    "print(cross_val.best_params_)\n",
    "\n",
    "print(\"\\nScore with best parameters:\")\n",
    "print(cross_val.best_score_)\n",
    "\n",
    "print(\"\\nAll scores on the grid:\")\n",
    "tab = pd.DataFrame(cross_val.cv_results_)\n",
    "tab.iloc[:, 4:]"
   ]
  },
  {
   "cell_type": "markdown",
   "metadata": {},
   "source": [
    "### TO DO 2\n",
    "\n",
    "Now try also different batch sizes, while keeping the best NN architecture you have found above. Remember that the batch size was previously set to the default value, i.e., min(200, n_samples). \n",
    "Recall that a batch size of 1 corresponds to baseline SGD, while using all the 480 training samples (there are 600 samples but in cross validation with 5 folders we use 1/5 of them for validation at each round) corresponds to standard GD and using a different mini-batch size lies in the middle between the two extreme cases."
   ]
  },
  {
   "cell_type": "code",
   "execution_count": 9,
   "metadata": {},
   "outputs": [
    {
     "name": "stdout",
     "output_type": "stream",
     "text": [
      "Fitting 5 folds for each of 3 candidates, totalling 15 fits\n",
      "[CV] batch_size=1 ....................................................\n"
     ]
    },
    {
     "name": "stderr",
     "output_type": "stream",
     "text": [
      "[Parallel(n_jobs=1)]: Using backend SequentialBackend with 1 concurrent workers.\n"
     ]
    },
    {
     "name": "stdout",
     "output_type": "stream",
     "text": [
      "[CV] .... batch_size=1, score=(train=0.092, test=0.092), total=  27.9s\n",
      "[CV] batch_size=1 ....................................................\n"
     ]
    },
    {
     "name": "stderr",
     "output_type": "stream",
     "text": [
      "[Parallel(n_jobs=1)]: Done   1 out of   1 | elapsed:   27.8s remaining:    0.0s\n"
     ]
    },
    {
     "name": "stdout",
     "output_type": "stream",
     "text": [
      "[CV] .... batch_size=1, score=(train=0.092, test=0.100), total=  29.2s\n",
      "[CV] batch_size=1 ....................................................\n"
     ]
    },
    {
     "name": "stderr",
     "output_type": "stream",
     "text": [
      "[Parallel(n_jobs=1)]: Done   2 out of   2 | elapsed:   57.0s remaining:    0.0s\n"
     ]
    },
    {
     "name": "stdout",
     "output_type": "stream",
     "text": [
      "[CV] .... batch_size=1, score=(train=0.094, test=0.092), total=  16.8s\n",
      "[CV] batch_size=1 ....................................................\n",
      "[CV] .... batch_size=1, score=(train=0.113, test=0.108), total=  14.2s\n",
      "[CV] batch_size=1 ....................................................\n",
      "[CV] .... batch_size=1, score=(train=0.096, test=0.092), total=  17.7s\n",
      "[CV] batch_size=64 ...................................................\n",
      "[CV] ... batch_size=64, score=(train=1.000, test=0.792), total=   1.3s\n",
      "[CV] batch_size=64 ...................................................\n",
      "[CV] ... batch_size=64, score=(train=1.000, test=0.725), total=   1.4s\n",
      "[CV] batch_size=64 ...................................................\n",
      "[CV] ... batch_size=64, score=(train=1.000, test=0.783), total=   1.0s\n",
      "[CV] batch_size=64 ...................................................\n",
      "[CV] ... batch_size=64, score=(train=1.000, test=0.783), total=   1.1s\n",
      "[CV] batch_size=64 ...................................................\n",
      "[CV] ... batch_size=64, score=(train=1.000, test=0.858), total=   1.0s\n",
      "[CV] batch_size=480 ..................................................\n",
      "[CV] .. batch_size=480, score=(train=1.000, test=0.808), total=   1.4s\n",
      "[CV] batch_size=480 ..................................................\n",
      "[CV] .. batch_size=480, score=(train=1.000, test=0.750), total=   1.2s\n",
      "[CV] batch_size=480 ..................................................\n",
      "[CV] .. batch_size=480, score=(train=1.000, test=0.783), total=   1.3s\n",
      "[CV] batch_size=480 ..................................................\n",
      "[CV] .. batch_size=480, score=(train=1.000, test=0.767), total=   1.3s\n",
      "[CV] batch_size=480 ..................................................\n",
      "[CV] .. batch_size=480, score=(train=1.000, test=0.825), total=   1.3s\n"
     ]
    },
    {
     "name": "stderr",
     "output_type": "stream",
     "text": [
      "[Parallel(n_jobs=1)]: Done  15 out of  15 | elapsed:  2.0min finished\n"
     ]
    },
    {
     "name": "stdout",
     "output_type": "stream",
     "text": [
      "RESULTS FOR NN\n",
      "\n",
      "Best parameters set found:\n",
      "{'batch_size': 64}\n",
      "\n",
      "Score with best parameters:\n",
      "0.7883333333333333\n",
      "\n",
      "All scores on the grid:\n"
     ]
    },
    {
     "data": {
      "text/html": [
       "<div>\n",
       "<style scoped>\n",
       "    .dataframe tbody tr th:only-of-type {\n",
       "        vertical-align: middle;\n",
       "    }\n",
       "\n",
       "    .dataframe tbody tr th {\n",
       "        vertical-align: top;\n",
       "    }\n",
       "\n",
       "    .dataframe thead th {\n",
       "        text-align: right;\n",
       "    }\n",
       "</style>\n",
       "<table border=\"1\" class=\"dataframe\">\n",
       "  <thead>\n",
       "    <tr style=\"text-align: right;\">\n",
       "      <th></th>\n",
       "      <th>param_batch_size</th>\n",
       "      <th>params</th>\n",
       "      <th>split0_test_score</th>\n",
       "      <th>split1_test_score</th>\n",
       "      <th>split2_test_score</th>\n",
       "      <th>split3_test_score</th>\n",
       "      <th>split4_test_score</th>\n",
       "      <th>mean_test_score</th>\n",
       "      <th>std_test_score</th>\n",
       "      <th>rank_test_score</th>\n",
       "      <th>split0_train_score</th>\n",
       "      <th>split1_train_score</th>\n",
       "      <th>split2_train_score</th>\n",
       "      <th>split3_train_score</th>\n",
       "      <th>split4_train_score</th>\n",
       "      <th>mean_train_score</th>\n",
       "      <th>std_train_score</th>\n",
       "    </tr>\n",
       "  </thead>\n",
       "  <tbody>\n",
       "    <tr>\n",
       "      <th>0</th>\n",
       "      <td>1</td>\n",
       "      <td>{'batch_size': 1}</td>\n",
       "      <td>0.091667</td>\n",
       "      <td>0.100</td>\n",
       "      <td>0.091667</td>\n",
       "      <td>0.108333</td>\n",
       "      <td>0.091667</td>\n",
       "      <td>0.096667</td>\n",
       "      <td>0.006667</td>\n",
       "      <td>3</td>\n",
       "      <td>0.091667</td>\n",
       "      <td>0.091667</td>\n",
       "      <td>0.09375</td>\n",
       "      <td>0.1125</td>\n",
       "      <td>0.095833</td>\n",
       "      <td>0.097083</td>\n",
       "      <td>0.007862</td>\n",
       "    </tr>\n",
       "    <tr>\n",
       "      <th>1</th>\n",
       "      <td>64</td>\n",
       "      <td>{'batch_size': 64}</td>\n",
       "      <td>0.791667</td>\n",
       "      <td>0.725</td>\n",
       "      <td>0.783333</td>\n",
       "      <td>0.783333</td>\n",
       "      <td>0.858333</td>\n",
       "      <td>0.788333</td>\n",
       "      <td>0.042361</td>\n",
       "      <td>1</td>\n",
       "      <td>1.000000</td>\n",
       "      <td>1.000000</td>\n",
       "      <td>1.00000</td>\n",
       "      <td>1.0000</td>\n",
       "      <td>1.000000</td>\n",
       "      <td>1.000000</td>\n",
       "      <td>0.000000</td>\n",
       "    </tr>\n",
       "    <tr>\n",
       "      <th>2</th>\n",
       "      <td>480</td>\n",
       "      <td>{'batch_size': 480}</td>\n",
       "      <td>0.808333</td>\n",
       "      <td>0.750</td>\n",
       "      <td>0.783333</td>\n",
       "      <td>0.766667</td>\n",
       "      <td>0.825000</td>\n",
       "      <td>0.786667</td>\n",
       "      <td>0.027183</td>\n",
       "      <td>2</td>\n",
       "      <td>1.000000</td>\n",
       "      <td>1.000000</td>\n",
       "      <td>1.00000</td>\n",
       "      <td>1.0000</td>\n",
       "      <td>1.000000</td>\n",
       "      <td>1.000000</td>\n",
       "      <td>0.000000</td>\n",
       "    </tr>\n",
       "  </tbody>\n",
       "</table>\n",
       "</div>"
      ],
      "text/plain": [
       "  param_batch_size               params  split0_test_score  split1_test_score  \\\n",
       "0                1    {'batch_size': 1}           0.091667              0.100   \n",
       "1               64   {'batch_size': 64}           0.791667              0.725   \n",
       "2              480  {'batch_size': 480}           0.808333              0.750   \n",
       "\n",
       "   split2_test_score  split3_test_score  split4_test_score  mean_test_score  \\\n",
       "0           0.091667           0.108333           0.091667         0.096667   \n",
       "1           0.783333           0.783333           0.858333         0.788333   \n",
       "2           0.783333           0.766667           0.825000         0.786667   \n",
       "\n",
       "   std_test_score  rank_test_score  split0_train_score  split1_train_score  \\\n",
       "0        0.006667                3            0.091667            0.091667   \n",
       "1        0.042361                1            1.000000            1.000000   \n",
       "2        0.027183                2            1.000000            1.000000   \n",
       "\n",
       "   split2_train_score  split3_train_score  split4_train_score  \\\n",
       "0             0.09375              0.1125            0.095833   \n",
       "1             1.00000              1.0000            1.000000   \n",
       "2             1.00000              1.0000            1.000000   \n",
       "\n",
       "   mean_train_score  std_train_score  \n",
       "0          0.097083         0.007862  \n",
       "1          1.000000         0.000000  \n",
       "2          1.000000         0.000000  "
      ]
     },
     "execution_count": 9,
     "metadata": {},
     "output_type": "execute_result"
    }
   ],
   "source": [
    "# these are sample values corresponding to baseline SGD, a reasonable mini-batch size and standard GD\n",
    "# again feel free to change them as you like, try to experiment with different batch sizes!!\n",
    "parameters = {'batch_size': [1, 64, 480]}\n",
    "\n",
    "# need to specify that you would like to use the standard k-fold split otherwise sklearn create splits of different sizes\n",
    "kf = sklearn.model_selection.KFold(n_splits=5)\n",
    "\n",
    "mlp = MLPClassifier(hidden_layer_sizes=(30,), max_iter=250, alpha=1e-4, solver='sgd', tol=1e-4, random_state=seed, learning_rate_init=.1)\n",
    "\n",
    "# recall to use cv=kf to use the k-fold subdivision seen in the lectures\n",
    "\n",
    "cross_val = GridSearchCV(mlp, parameters, cv = 5, return_train_score = True, verbose = 3)\n",
    "cross_val.fit(X_train, y_train)\n",
    "\n",
    "print ('RESULTS FOR NN')\n",
    "\n",
    "print(\"\\nBest parameters set found:\")\n",
    "print(cross_val.best_params_)\n",
    "\n",
    "print(\"\\nScore with best parameters:\")\n",
    "print(cross_val.best_score_)\n",
    "\n",
    "print(\"\\nAll scores on the grid:\")\n",
    "tab = pd.DataFrame(cross_val.cv_results_)\n",
    "tab.iloc[:,4:]"
   ]
  },
  {
   "cell_type": "markdown",
   "metadata": {},
   "source": [
    "### QUESTION 1\n",
    "\n",
    "What do you observe for different architectures and batch sizes? How do the number of layers and their sizes affect the performances? What do you observe for different batch sizes, in particular what happens to the training convergence for different batch sizes (notice that the algorithm could not converge for some batch sizes)?"
   ]
  },
  {
   "cell_type": "markdown",
   "metadata": {},
   "source": [
    "##### ANSWER 1\n",
    "\n",
    "The best architecture is the one with one hidden layer with 30 neurons. Using fewer neurons seems to be insufficient and for 10 neurons the algorithm sometimes does not converge. Using a more complex neural network with multiple hidden layers does not pay off in terms of validation accuracy (probably they are too complex and they overfit data).\n",
    "\n",
    "Concerning the minibatch size, among the tested ones, the best results are obtained using 64 samples. Using a minibatch size of 1 (SGD), the algorithm converges very slowly and has bad performances (due to the high value of the learning rate). Using a small number of training samples (600) we can still use the standard gradient descent without being too worried for the complexity of the computation. In this case the algorithm converges for all batch sizes (NO Warnings) but as said before for pure SGD it is really slow and unsatisfying (remember that each epoch of SGD is composed by 600 gradient descent steps)."
   ]
  },
  {
   "cell_type": "markdown",
   "metadata": {},
   "source": [
    "### TODO 3:\n",
    "\n",
    "Plot the train and test accuracies as a function of the number of learnable parameters in your neural network. Print also the computation time for the various configurations you try (the code for getting the computation time is already provided). You can use 300 iterations (if you get a warning on convergence not reached it is not an issue for this lab)"
   ]
  },
  {
   "cell_type": "code",
   "execution_count": 10,
   "metadata": {},
   "outputs": [
    {
     "name": "stdout",
     "output_type": "stream",
     "text": [
      "Training MLP of size (10,) ...\n",
      "Done, training time: 1.46 sec\n",
      "\n",
      "Training MLP of size (20,) ...\n",
      "Done, training time: 1.93 sec\n",
      "\n",
      "Training MLP of size (30,) ...\n",
      "Done, training time: 2.07 sec\n",
      "\n",
      "Training MLP of size (30, 20) ...\n",
      "Done, training time: 2.04 sec\n",
      "\n",
      "Training MLP of size (30, 30, 20) ...\n",
      "Done, training time: 2.73 sec\n",
      "\n"
     ]
    },
    {
     "data": {
      "image/png": "[encoded data removed]",
      "text/plain": [
       "<Figure size 1080x360 with 2 Axes>"
      ]
     },
     "metadata": {
      "needs_background": "light"
     },
     "output_type": "display_data"
    }
   ],
   "source": [
    "import time\n",
    "from functools import reduce\n",
    "\n",
    "# Function to compute the number of learnable parameters of a mlp given the size of its hidden layers\n",
    "def param_count(hl_size):\n",
    "    tot = 0\n",
    "    input_size, output_size = X_train.shape[1], len(labels)\n",
    "    tot += (input_size+1)*hl_size[0]\n",
    "    for i in range(1,len(hl_size)):\n",
    "        tot += (hl_size[i-1]+1)*hl_size[i]\n",
    "    tot += (hl_size[-1]+1)*output_size\n",
    "    return tot\n",
    "\n",
    "hl_sizes = [(10,), (20,), (30,), (30,20,), (30,30,20)]\n",
    "hl_labels = [param_count(t) for t in hl_sizes]\n",
    "\n",
    "ti = time.time()\n",
    "train_acc_list, test_acc_list = [], []\n",
    "for hl_size in hl_sizes:\n",
    "    print('Training MLP of size {} ...'.format(hl_size))\n",
    "    #Note that the parameter n_iter_no_change was used in this occasion (see the comment below)\n",
    "    mlp = MLPClassifier(hidden_layer_sizes=hl_size, max_iter=300, alpha=1e-4, solver='sgd', tol=1e-4, random_state=seed, learning_rate_init=.1, n_iter_no_change = 50, batch_size = 64)\n",
    "    mlp.fit(X_train, y_train)\n",
    "    \n",
    "    train_acc_list.append(mlp.score(X_train, y_train))\n",
    "    test_acc_list.append(mlp.score(X_test, y_test))\n",
    "    print('Done, training time: {:.2f} sec\\n'.format(time.time()-ti))\n",
    "    ti = time.time()\n",
    "\n",
    "fig, ax = plt.subplots(1,2, figsize=(15,5))\n",
    "\n",
    "\n",
    "ax[0].plot(train_acc_list)\n",
    "ax[0].set_xlabel('Number of learnable params')\n",
    "ax[0].set_title('Train accuracy')\n",
    "ax[0].set_xticks(np.arange(0,len(hl_labels)))\n",
    "ax[0].set_xticklabels(hl_labels)\n",
    "ax[0].grid(True)\n",
    "\n",
    "ax[1].plot(test_acc_list)\n",
    "ax[1].set_xlabel('Number of learnable params')\n",
    "ax[1].set_title('Test accuracy')\n",
    "ax[1].set_xticks(np.arange(0,len(hl_labels)))\n",
    "ax[1].set_xticklabels(hl_labels)\n",
    "ax[1].grid(True)\n"
   ]
  },
  {
   "cell_type": "markdown",
   "metadata": {},
   "source": [
    "### QUESTION 2:\n",
    "\n",
    "Comment about the training and test accuracies referring to the discussion on underfitting and overfitting we did in the course"
   ]
  },
  {
   "cell_type": "markdown",
   "metadata": {},
   "source": [
    "##### ANSWER 2\n",
    "In this case the simplest model (one hidden layer with 10 neurons) has the worst training accuracy and test accuracy (too few parameters, probablly underfitting data). Increasing the complexity of the model the training accuracy becomes 1. The test accuracy keeps improving for models with one hidden layer, reaching its max value for the model with 30 neurons. \n",
    "With bigger numbers of parameters (complexity of the system) the test accuracy starts decreasing. This is probably due to the fact that the model becomes \"too complex\" and start overfitting the data, affecting the test error. \n",
    "Concerning the time it can be seen that in this case the time effectively increases as long as we test more complex models (this point changes at every run in my PC, sometimes the most complex models (two or more hidden layers) have an inferior time than the (30,) hidden layers model).\n",
    "\n",
    "Looking at the last model (three hidden layers) training error, we can see that it is less than the other ones. This can be caused by a specific behaviour of the algorithm. For complex models and high learning rate (0.1), the loss trend is very unstable: sometimes the loss reaches a minimum and start increasing and remains bigger for enough iterations that make the algorithm stop. Increasing the parameter __n_iter_no_change__ (in this case conditions we chose it to be 50 iteration) we can force the algorithm to continue runnig hoping to find new best minima. Let us see the loss behaviour for the most complex model:"
   ]
  },
  {
   "cell_type": "code",
   "execution_count": 11,
   "metadata": {},
   "outputs": [
    {
     "data": {
      "image/png": "[encoded data removed]",
      "text/plain": [
       "<Figure size 432x288 with 1 Axes>"
      ]
     },
     "metadata": {
      "needs_background": "light"
     },
     "output_type": "display_data"
    }
   ],
   "source": [
    "mlp = MLPClassifier(hidden_layer_sizes = (30,30,20,), max_iter=300, alpha=1e-4, solver='sgd', tol=1e-4, random_state=seed, learning_rate_init=.1, batch_size = 64, n_iter_no_change = 50)\n",
    "mlp.fit(X_train, y_train)\n",
    "loss_min = np.array(mlp.loss_curve_).min()\n",
    "i_min = np.array(mlp.loss_curve_).argmin()\n",
    "fig, ax = plt.subplots()\n",
    "ax.plot(mlp.loss_curve_)\n",
    "ax.plot(i_min, loss_min, marker = 'o', color = 'r', markersize = 8, label = 'min_loss')\n",
    "plt.legend()\n",
    "ax.set_title('Loss curve')\n",
    "ax.set_xlabel('n_iter')\n",
    "ax.set_ylabel('loss')\n",
    "plt.show()"
   ]
  },
  {
   "cell_type": "markdown",
   "metadata": {},
   "source": [
    "Due to the unstability of the convergence the algorithm reaches a minimum and the remains bigger for 50 iterations. This can be easily seen from the plot of the loss curve. The computation could stop earlier respect to the other model: this can be the cause of a small training accuracy for this model ((30, 20, 20,)). Because of that, eventually it can happen that the most complicate models timing results less than the simplest (anyway this is not the case)."
   ]
  },
  {
   "cell_type": "markdown",
   "metadata": {},
   "source": [
    "### TO DO 4\n",
    "\n",
    "Now try also to use different learning rates, while keeping the best NN architecture and batch size you have found above. Plot the learning curves (i.e., the variation of the loss over the steps, you can get it from the loss_curve_ object of sklearn) for the different values of the learning rate. Try to run each training for 600 iterations. "
   ]
  },
  {
   "cell_type": "code",
   "execution_count": 12,
   "metadata": {},
   "outputs": [
    {
     "name": "stdout",
     "output_type": "stream",
     "text": [
      "Fitting 5 folds for each of 3 candidates, totalling 15 fits\n",
      "[CV] learning_rate_init=0.001 ........................................\n"
     ]
    },
    {
     "name": "stderr",
     "output_type": "stream",
     "text": [
      "[Parallel(n_jobs=1)]: Using backend SequentialBackend with 1 concurrent workers.\n",
      "c:\\program files\\python37\\lib\\site-packages\\sklearn\\neural_network\\_multilayer_perceptron.py:585: ConvergenceWarning: Stochastic Optimizer: Maximum iterations (600) reached and the optimization hasn't converged yet.\n",
      "  % self.max_iter, ConvergenceWarning)\n",
      "[Parallel(n_jobs=1)]: Done   1 out of   1 | elapsed:    7.5s remaining:    0.0s\n"
     ]
    },
    {
     "name": "stdout",
     "output_type": "stream",
     "text": [
      "[CV]  learning_rate_init=0.001, score=(train=0.990, test=0.825), total=   7.6s\n",
      "[CV] learning_rate_init=0.001 ........................................\n"
     ]
    },
    {
     "name": "stderr",
     "output_type": "stream",
     "text": [
      "c:\\program files\\python37\\lib\\site-packages\\sklearn\\neural_network\\_multilayer_perceptron.py:585: ConvergenceWarning: Stochastic Optimizer: Maximum iterations (600) reached and the optimization hasn't converged yet.\n",
      "  % self.max_iter, ConvergenceWarning)\n",
      "[Parallel(n_jobs=1)]: Done   2 out of   2 | elapsed:   16.1s remaining:    0.0s\n"
     ]
    },
    {
     "name": "stdout",
     "output_type": "stream",
     "text": [
      "[CV]  learning_rate_init=0.001, score=(train=0.988, test=0.758), total=   8.6s\n",
      "[CV] learning_rate_init=0.001 ........................................\n"
     ]
    },
    {
     "name": "stderr",
     "output_type": "stream",
     "text": [
      "c:\\program files\\python37\\lib\\site-packages\\sklearn\\neural_network\\_multilayer_perceptron.py:585: ConvergenceWarning: Stochastic Optimizer: Maximum iterations (600) reached and the optimization hasn't converged yet.\n",
      "  % self.max_iter, ConvergenceWarning)\n"
     ]
    },
    {
     "name": "stdout",
     "output_type": "stream",
     "text": [
      "[CV]  learning_rate_init=0.001, score=(train=0.983, test=0.783), total=  12.9s\n",
      "[CV] learning_rate_init=0.001 ........................................\n"
     ]
    },
    {
     "name": "stderr",
     "output_type": "stream",
     "text": [
      "c:\\program files\\python37\\lib\\site-packages\\sklearn\\neural_network\\_multilayer_perceptron.py:585: ConvergenceWarning: Stochastic Optimizer: Maximum iterations (600) reached and the optimization hasn't converged yet.\n",
      "  % self.max_iter, ConvergenceWarning)\n"
     ]
    },
    {
     "name": "stdout",
     "output_type": "stream",
     "text": [
      "[CV]  learning_rate_init=0.001, score=(train=0.994, test=0.775), total=   9.4s\n",
      "[CV] learning_rate_init=0.001 ........................................\n"
     ]
    },
    {
     "name": "stderr",
     "output_type": "stream",
     "text": [
      "c:\\program files\\python37\\lib\\site-packages\\sklearn\\neural_network\\_multilayer_perceptron.py:585: ConvergenceWarning: Stochastic Optimizer: Maximum iterations (600) reached and the optimization hasn't converged yet.\n",
      "  % self.max_iter, ConvergenceWarning)\n"
     ]
    },
    {
     "name": "stdout",
     "output_type": "stream",
     "text": [
      "[CV]  learning_rate_init=0.001, score=(train=0.992, test=0.808), total=   7.4s\n",
      "[CV] learning_rate_init=0.01 .........................................\n",
      "[CV]  learning_rate_init=0.01, score=(train=1.000, test=0.758), total=   3.8s\n",
      "[CV] learning_rate_init=0.01 .........................................\n",
      "[CV]  learning_rate_init=0.01, score=(train=1.000, test=0.717), total=   3.7s\n",
      "[CV] learning_rate_init=0.01 .........................................\n",
      "[CV]  learning_rate_init=0.01, score=(train=1.000, test=0.792), total=   3.6s\n",
      "[CV] learning_rate_init=0.01 .........................................\n",
      "[CV]  learning_rate_init=0.01, score=(train=1.000, test=0.758), total=   3.8s\n",
      "[CV] learning_rate_init=0.01 .........................................\n",
      "[CV]  learning_rate_init=0.01, score=(train=1.000, test=0.817), total=   3.8s\n",
      "[CV] learning_rate_init=0.1 ..........................................\n",
      "[CV]  learning_rate_init=0.1, score=(train=1.000, test=0.792), total=   1.2s\n",
      "[CV] learning_rate_init=0.1 ..........................................\n",
      "[CV]  learning_rate_init=0.1, score=(train=1.000, test=0.725), total=   1.3s\n",
      "[CV] learning_rate_init=0.1 ..........................................\n",
      "[CV]  learning_rate_init=0.1, score=(train=1.000, test=0.783), total=   1.0s\n",
      "[CV] learning_rate_init=0.1 ..........................................\n",
      "[CV]  learning_rate_init=0.1, score=(train=1.000, test=0.783), total=   1.0s\n",
      "[CV] learning_rate_init=0.1 ..........................................\n",
      "[CV]  learning_rate_init=0.1, score=(train=1.000, test=0.858), total=   1.0s\n"
     ]
    },
    {
     "name": "stderr",
     "output_type": "stream",
     "text": [
      "[Parallel(n_jobs=1)]: Done  15 out of  15 | elapsed:  1.2min finished\n"
     ]
    },
    {
     "name": "stdout",
     "output_type": "stream",
     "text": [
      "\n",
      "RESULTS FOR NN\n",
      "\n",
      "\n",
      "Best parameters set found:\n",
      "{'learning_rate_init': 0.001}\n",
      "\n",
      "Score with best parameters:\n",
      "0.79\n"
     ]
    },
    {
     "name": "stderr",
     "output_type": "stream",
     "text": [
      "c:\\program files\\python37\\lib\\site-packages\\sklearn\\neural_network\\_multilayer_perceptron.py:585: ConvergenceWarning: Stochastic Optimizer: Maximum iterations (600) reached and the optimization hasn't converged yet.\n",
      "  % self.max_iter, ConvergenceWarning)\n"
     ]
    }
   ],
   "source": [
    "import matplotlib.pyplot as plt\n",
    "import operator\n",
    "\n",
    "#lr_list = [0.001, 0.01, 0.1]\n",
    "lr_list = [10**exp for exp in range(-3,0)]\n",
    "parameters = {'learning_rate_init':lr_list}\n",
    "\n",
    "mlp = MLPClassifier(hidden_layer_sizes=(30,), max_iter=600, alpha=1e-4, solver='sgd', tol=1e-4, random_state=seed, batch_size = 64)\n",
    "cross_val = GridSearchCV(mlp, parameters, cv = 5, return_train_score = True, verbose = 3)\n",
    "cross_val.fit(X_train, y_train)\n",
    "print()\n",
    "\n",
    "print ('RESULTS FOR NN\\n')\n",
    "\n",
    "print(\"\\nBest parameters set found:\")\n",
    "print(cross_val.best_params_)\n",
    "\n",
    "print(\"\\nScore with best parameters:\")\n",
    "print(cross_val.best_score_)"
   ]
  },
  {
   "cell_type": "code",
   "execution_count": 13,
   "metadata": {},
   "outputs": [
    {
     "name": "stderr",
     "output_type": "stream",
     "text": [
      "c:\\program files\\python37\\lib\\site-packages\\sklearn\\neural_network\\_multilayer_perceptron.py:585: ConvergenceWarning: Stochastic Optimizer: Maximum iterations (600) reached and the optimization hasn't converged yet.\n",
      "  % self.max_iter, ConvergenceWarning)\n"
     ]
    },
    {
     "data": {
      "image/png": "[encoded data removed]",
      "text/plain": [
       "<Figure size 720x432 with 1 Axes>"
      ]
     },
     "metadata": {
      "needs_background": "light"
     },
     "output_type": "display_data"
    }
   ],
   "source": [
    "fig, ax = plt.subplots(figsize=(10, 6))\n",
    "for l in lr_list:\n",
    "    mlp = MLPClassifier(hidden_layer_sizes=(30,), max_iter=600, alpha=1e-4, solver='sgd', tol=1e-4, random_state=seed, learning_rate_init = l, batch_size = 64, n_iter_no_change = 50)\n",
    "    mlp.fit(X_train, y_train)\n",
    "    ax.plot(mlp.loss_curve_, label = 'l.r = ' + str(l))\n",
    "ax.set_xlabel('n_iter')\n",
    "ax.set_ylabel('loss')\n",
    "ax.legend()\n",
    "plt.show()"
   ]
  },
  {
   "cell_type": "markdown",
   "metadata": {},
   "source": [
    "### QUESTION 3\n",
    "\n",
    "Comment about the learning curves (i.e. the variation of the loss over the steps). How does the curve changes for different learning rates in terms of stability and speed of convergence ?"
   ]
  },
  {
   "cell_type": "markdown",
   "metadata": {},
   "source": [
    "##### ANSWER 3\n",
    "Using a small learning rate (l = 0.001) in this case gives the best results in terms of validation errors but the algorithm converges slowly (here it does not converge in 600 iterations). Using a grater learning rate gives us a slightly worse validation error, anyway this difference is quite neglegible. On the other hand the algorithm converges faster. From the plot it can be seen that for a l.r. of 0.1 convergence is faster but less stable. We discussed before some problems that can occur with unstable loss trend due to high learning rates and complex models. For these reasons the 0.01 learning rate has been chosen as the best parameter."
   ]
  },
  {
   "cell_type": "markdown",
   "metadata": {},
   "source": [
    "### TO DO 5\n",
    "\n",
    "Now get training and test error for a NN with best parameters (architecture, batch size and learning rate) from above. Plot the learning curve also for this case."
   ]
  },
  {
   "cell_type": "code",
   "execution_count": 14,
   "metadata": {},
   "outputs": [
    {
     "name": "stdout",
     "output_type": "stream",
     "text": [
      "\n",
      "RESULTS FOR BEST NN\n",
      "\n",
      "Best NN training error: 0.000000\n",
      "Best NN test error: 0.208000\n"
     ]
    },
    {
     "data": {
      "image/png": "[encoded data removed]",
      "text/plain": [
       "<Figure size 432x288 with 1 Axes>"
      ]
     },
     "metadata": {
      "needs_background": "light"
     },
     "output_type": "display_data"
    }
   ],
   "source": [
    "#get training and test error for the best NN model from CV\n",
    "\n",
    "mlp = MLPClassifier(hidden_layer_sizes=(30,), max_iter=600, alpha=1e-4, solver='sgd', tol=1e-4, random_state=seed, batch_size=64, learning_rate_init=0.01)\n",
    "mlp.fit(X_train, y_train)\n",
    "\n",
    "print ('\\nRESULTS FOR BEST NN\\n')\n",
    "\n",
    "training_error = 1-mlp.score(X_train, y_train)\n",
    "test_error = 1-mlp.score(X_test, y_test)\n",
    "\n",
    "print (\"Best NN training error: %f\" % training_error)\n",
    "print (\"Best NN test error: %f\" % test_error)\n",
    "\n",
    "plt.plot(mlp.loss_curve_)\n",
    "plt.title('Loss Curve')\n",
    "plt.xlabel('n_iter')\n",
    "plt.ylabel('loss')\n",
    "plt.show()"
   ]
  },
  {
   "cell_type": "markdown",
   "metadata": {},
   "source": [
    "## More data \n",
    "Now let's do the same but using 4000 (or less if it takes too long on your machine) data points for training. Use the same NN architecture as before, but you can try more if you like and have a powerful computer!!"
   ]
  },
  {
   "cell_type": "code",
   "execution_count": 15,
   "metadata": {},
   "outputs": [],
   "source": [
    "#X = X[permutation]\n",
    "#y = y[permutation]"
   ]
  },
  {
   "cell_type": "markdown",
   "metadata": {},
   "source": [
    "Note that we chose to eliminate this permutation to avoid that some training samples for the mlp_small could be put in the new test set. In this way we are sure that the test set is \"new\" either for the mlp_small and for the mlp_large. "
   ]
  },
  {
   "cell_type": "code",
   "execution_count": 16,
   "metadata": {},
   "outputs": [
    {
     "name": "stdout",
     "output_type": "stream",
     "text": [
      "Labels in training dataset:  [0 1 2 3 4 5 6 7 8 9]\n",
      "Frequencies in training dataset:  [408 414 385 412 389 378 411 402 432 369]\n"
     ]
    }
   ],
   "source": [
    "m_training = 4000\n",
    "\n",
    "X_train, X_test = X[:m_training], X[m_training:]\n",
    "y_train, y_test = y[:m_training], y[m_training:]\n",
    "\n",
    "labels, freqs = np.unique(y_train, return_counts=True)\n",
    "print(\"Labels in training dataset: \", labels)\n",
    "print(\"Frequencies in training dataset: \", freqs)"
   ]
  },
  {
   "cell_type": "markdown",
   "metadata": {},
   "source": [
    "### TO DO 6\n",
    "\n",
    "Now train the NNs with the added data points using the optimum parameters found above. Eventually, feel free to try different architectures if you like. We suggest that you use 'verbose=True' so have an idea of how long it takes to run 1 iteration (eventually reduce also the number of iterations to 50)."
   ]
  },
  {
   "cell_type": "code",
   "execution_count": 17,
   "metadata": {},
   "outputs": [
    {
     "name": "stdout",
     "output_type": "stream",
     "text": [
      "\n",
      "RESULTS FOR BEST NN\n",
      "\n",
      "Best NN training error: 0.002500\n",
      "Best NN test error: 0.176589\n"
     ]
    },
    {
     "data": {
      "image/png": "[encoded data removed]",
      "text/plain": [
       "<Figure size 432x288 with 1 Axes>"
      ]
     },
     "metadata": {
      "needs_background": "light"
     },
     "output_type": "display_data"
    }
   ],
   "source": [
    "mlp_large = MLPClassifier(hidden_layer_sizes=(30,), max_iter=600, alpha=1e-4, solver='sgd', tol=1e-4, random_state=seed, batch_size=64, learning_rate_init=0.01)\n",
    "mlp_large.fit(X_train, y_train)\n",
    "\n",
    "print ('\\nRESULTS FOR BEST NN\\n')\n",
    "\n",
    "training_error = 1-mlp_large.score(X_train, y_train)\n",
    "test_error = 1-mlp_large.score(X_test, y_test)\n",
    "\n",
    "print (\"Best NN training error: %f\" % training_error)\n",
    "print (\"Best NN test error: %f\" % test_error)\n",
    "\n",
    "plt.plot(mlp_large.loss_curve_)\n",
    "plt.show()"
   ]
  },
  {
   "cell_type": "markdown",
   "metadata": {},
   "source": [
    "### QUESTION 4\n",
    "Compare the train and test error you got with a large number of samples with the best one you obtained with only 600 data points. Comment about the results you obtained."
   ]
  },
  {
   "cell_type": "markdown",
   "metadata": {},
   "source": [
    "##### ANSWER 4\n",
    "As we expected, using more points for training, the test error decreases (from 0.22 to 0.18). The training error remains 0."
   ]
  },
  {
   "cell_type": "markdown",
   "metadata": {},
   "source": [
    "### TO DO 7\n",
    "\n",
    "Plot an example that was missclassified by NN with m=600 training data points and it is now instead correctly classified by NN with m=4000 training data points."
   ]
  },
  {
   "cell_type": "code",
   "execution_count": 18,
   "metadata": {},
   "outputs": [
    {
     "name": "stdout",
     "output_type": "stream",
     "text": [
      "INPUT:\n"
     ]
    },
    {
     "data": {
      "image/png": "[encoded data removed]",
      "text/plain": [
       "<Figure size 432x288 with 1 Axes>"
      ]
     },
     "metadata": {
      "needs_background": "light"
     },
     "output_type": "display_data"
    },
    {
     "name": "stdout",
     "output_type": "stream",
     "text": [
      "LABEL: 4\n",
      "NN_prediction:  1\n",
      "large_NN_prediction:  4\n"
     ]
    }
   ],
   "source": [
    "NN_prediction = mlp.predict(X_test)\n",
    "large_NN_prediction = mlp_large.predict(X_test)\n",
    "\n",
    "index = 0\n",
    "\n",
    "for i in range(len(NN_prediction)):\n",
    "    if NN_prediction[i] != large_NN_prediction[i]:\n",
    "        if large_NN_prediction[i] == y_test[i]:\n",
    "            index = i\n",
    "            break\n",
    "\n",
    "plot_input(X_test,y_test,index)\n",
    "\n",
    "print(\"NN_prediction: \", NN_prediction[index])\n",
    "print(\"large_NN_prediction: \", large_NN_prediction[index])     "
   ]
  },
  {
   "cell_type": "markdown",
   "metadata": {},
   "source": [
    "### TO DO 8\n",
    "\n",
    "Let's plot the weigths of the multi-layer perceptron classifier, for the best NN we get with 600 data points and with 4000 data points. The code is already provided, just fix variable names (e.g., replace mlp , mlp_large with your estimators) in order to have it working with your implementation\n",
    "\n"
   ]
  },
  {
   "cell_type": "code",
   "execution_count": 19,
   "metadata": {},
   "outputs": [
    {
     "name": "stdout",
     "output_type": "stream",
     "text": [
      "Weights with 600 data points:\n"
     ]
    },
    {
     "data": {
      "image/png": "[encoded data removed]",
      "text/plain": [
       "<Figure size 432x288 with 16 Axes>"
      ]
     },
     "metadata": {},
     "output_type": "display_data"
    },
    {
     "name": "stdout",
     "output_type": "stream",
     "text": [
      "Weights with 4000 data points:\n"
     ]
    },
    {
     "data": {
      "image/png": "[encoded data removed]",
      "text/plain": [
       "<Figure size 432x288 with 16 Axes>"
      ]
     },
     "metadata": {},
     "output_type": "display_data"
    }
   ],
   "source": [
    "print(\"Weights with 600 data points:\")\n",
    "\n",
    "fig, axes = plt.subplots(4, 4)\n",
    "vmin, vmax = mlp.coefs_[0].min(), mlp.coefs_[0].max()\n",
    "for coef, ax in zip(mlp.coefs_[0].T, axes.ravel()):\n",
    "    ax.matshow(coef.reshape(28, 28), cmap=plt.cm.gray, vmin=.5 * vmin,\n",
    "               vmax=.5 * vmax)\n",
    "    ax.set_xticks(())\n",
    "    ax.set_yticks(())\n",
    "\n",
    "plt.show()\n",
    "\n",
    "print(\"Weights with 4000 data points:\")\n",
    "\n",
    "fig, axes = plt.subplots(4, 4)\n",
    "vmin, vmax = mlp_large.coefs_[0].min(), mlp_large.coefs_[0].max()\n",
    "for coef, ax in zip(mlp.coefs_[0].T, axes.ravel()):\n",
    "    ax.matshow(coef.reshape(28, 28), cmap=plt.cm.gray, vmin=.5 * vmin,\n",
    "               vmax=.5 * vmax)\n",
    "    ax.set_xticks(())\n",
    "    ax.set_yticks(())\n",
    "plt.show()"
   ]
  },
  {
   "cell_type": "markdown",
   "metadata": {},
   "source": [
    "### QUESTION 5\n",
    "\n",
    "Describe what do you observe by looking at the weights."
   ]
  },
  {
   "cell_type": "markdown",
   "metadata": {},
   "source": [
    "##### ANSWER 5\n",
    "Looking at the weights we can recognize some patterns that remind to the shape of some kind of shirts or dress. Anyway that is not visible for each set of weights. The algorithm is probably trying to detect edges."
   ]
  },
  {
   "cell_type": "markdown",
   "metadata": {},
   "source": [
    "### TO DO 9\n",
    "\n",
    "Take the best SVM model and its parameters, you found in the last notebook. Fit it on a few data points and compute its training and test scores. Then fit also a logistic regression model with C=1. "
   ]
  },
  {
   "cell_type": "code",
   "execution_count": 20,
   "metadata": {},
   "outputs": [
    {
     "name": "stdout",
     "output_type": "stream",
     "text": [
      "Best SVM training error: 0.070400\n",
      "Best SVM test error: 0.149400\n"
     ]
    }
   ],
   "source": [
    "m_training = 5000\n",
    "\n",
    "X_train, X_test = X[:m_training], X[m_training:2*m_training]\n",
    "y_train, y_test = y[:m_training], y[m_training:2*m_training]\n",
    "\n",
    "best_SVM = SVC(kernel = 'rbf', C = 5, gamma=0.005)\n",
    "\n",
    "best_SVM.fit(X_train, y_train)\n",
    "training_error = 1 - best_SVM.score(X_train, y_train)\n",
    "test_error = 1 - best_SVM.score(X_test, y_test)\n",
    "\n",
    "print (\"Best SVM training error: %f\" % training_error)\n",
    "print (\"Best SVM test error: %f\" % test_error)"
   ]
  },
  {
   "cell_type": "code",
   "execution_count": 21,
   "metadata": {},
   "outputs": [
    {
     "name": "stdout",
     "output_type": "stream",
     "text": [
      "Best regularized logistic regression training error: 0.045200\n",
      "Best regularized logistic regression test error: 0.190400\n"
     ]
    }
   ],
   "source": [
    "from sklearn import linear_model\n",
    "\n",
    "regL2 = linear_model.LogisticRegression(C=1, max_iter=800)\n",
    "regL2.fit(X_train, y_train)\n",
    "\n",
    "training_error = 1 - regL2.score(X_train, y_train)\n",
    "test_error = 1 - regL2.score(X_test, y_test)\n",
    "\n",
    "print (\"Best regularized logistic regression training error: %f\" % training_error)\n",
    "print (\"Best regularized logistic regression test error: %f\" % test_error)"
   ]
  },
  {
   "cell_type": "markdown",
   "metadata": {},
   "source": [
    "### QUESTION 6\n",
    "Compare the results of Logistic Regression, SVM and NN. Which one achieve the best results? "
   ]
  },
  {
   "cell_type": "markdown",
   "metadata": {},
   "source": [
    "##### ANSWER 6\n",
    "In terms of test error, the best results are given by the SVM (0.15) followed by the NN (0.18). The logistic regression is slightly worse than the NN (0.19). Concerning the training error the NN one is 0, while in the other two cases it is bigger. This is probably due to the regularization in the SVM an LR and to the fact that NN is a more complex model and probably bring to a better adaptation to the training data. "
   ]
  },
  {
   "cell_type": "code",
   "execution_count": null,
   "metadata": {},
   "outputs": [],
   "source": []
  }
 ],
 "metadata": {
  "kernelspec": {
   "display_name": "Python 3",
   "language": "python",
   "name": "python3"
  },
  "language_info": {
   "codemirror_mode": {
    "name": "ipython",
    "version": 3
   },
   "file_extension": ".py",
   "mimetype": "text/x-python",
   "name": "python",
   "nbconvert_exporter": "python",
   "pygments_lexer": "ipython3",
   "version": "3.7.0"
  }
 },
 "nbformat": 4,
 "nbformat_minor": 4
}